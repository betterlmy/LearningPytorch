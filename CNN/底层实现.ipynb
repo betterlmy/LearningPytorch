{
 "cells": [
  {
   "cell_type": "markdown",
   "source": [
    "## 卷积操作和卷积层的定义"
   ],
   "metadata": {
    "collapsed": false,
    "pycharm": {
     "name": "#%% md\n"
    }
   }
  },
  {
   "cell_type": "code",
   "execution_count": 5,
   "metadata": {
    "collapsed": true
   },
   "outputs": [
    {
     "data": {
      "text/plain": "tensor([[19., 25.],\n        [37., 43.]])"
     },
     "execution_count": 5,
     "metadata": {},
     "output_type": "execute_result"
    }
   ],
   "source": [
    "import torch\n",
    "from torch import nn\n",
    "import d2l\n",
    "\n",
    "\n",
    "def corr2d(X, K):\n",
    "    \"\"\"\n",
    "    计算二维互相关运算\n",
    "    :param X: 要计算的图像\n",
    "    :param K: 卷积核\n",
    "    :return:\n",
    "    \"\"\"\n",
    "    height, width = K.shape\n",
    "    new_size = (X.shape[0] - height + 1, X.shape[1] - width + 1)\n",
    "    Y = torch.zeros(new_size)\n",
    "    for i in range(new_size[0]):\n",
    "        for j in range(new_size[1]):\n",
    "            Y[i, j] = (X[i:i + height, j:j + width] * K).sum()\n",
    "    return Y\n",
    "\n",
    "\n",
    "X = torch.tensor([\n",
    "    [0.0, 1.0, 2.0],\n",
    "    [3.0, 4.0, 5.0],\n",
    "    [6.0, 7.0, 8.0]\n",
    "])\n",
    "kernel = torch.tensor([\n",
    "    [0.0, 1.0],\n",
    "    [2.0, 3.0]\n",
    "])\n",
    "\n",
    "corr2d(X, kernel)"
   ]
  },
  {
   "cell_type": "code",
   "execution_count": 6,
   "outputs": [],
   "source": [
    "class Conv2d(nn.Module):\n",
    "    def __init__(self, kernel_size):\n",
    "        super().__init__()\n",
    "        self.weight = nn.Parameter(torch.rand(kernel_size))\n",
    "        self.bias = nn.Parameter(torch.zeros(1))\n",
    "\n",
    "    def forward(self, x):\n",
    "        \"\"\"计算卷积的操作\"\"\"\n",
    "        return corr2d(x, self.weight) + self.bias"
   ],
   "metadata": {
    "collapsed": false,
    "pycharm": {
     "name": "#%%\n"
    }
   }
  },
  {
   "cell_type": "markdown",
   "source": [
    "## 利用1*2卷积核对图像进行边缘检测"
   ],
   "metadata": {
    "collapsed": false,
    "pycharm": {
     "name": "#%% md\n"
    }
   }
  },
  {
   "cell_type": "markdown",
   "source": [
    "使用X模拟图像\n",
    "\n",
    "构造卷积核 高度为1 宽度为2 !!!注意 卷积核一定是tensor 而非向量\n",
    "进行互运算 如果两个元素相同 输出为0，否则输出1"
   ],
   "metadata": {
    "collapsed": false,
    "pycharm": {
     "name": "#%% md\n"
    }
   }
  },
  {
   "cell_type": "code",
   "execution_count": 28,
   "outputs": [
    {
     "data": {
      "text/plain": "(tensor([[1., 1., 1., 1., 1., 1., 1., 1.],\n         [1., 1., 1., 1., 1., 1., 1., 1.],\n         [0., 0., 0., 0., 0., 0., 0., 0.],\n         [0., 0., 0., 0., 0., 0., 0., 0.],\n         [1., 1., 1., 1., 1., 1., 1., 1.],\n         [1., 1., 1., 1., 1., 1., 1., 1.]]),\n tensor([[0., 0., 0., 0., 0., 0., 0., 0.],\n         [1., 1., 1., 1., 1., 1., 1., 1.],\n         [0., 0., 0., 0., 0., 0., 0., 0.],\n         [1., 1., 1., 1., 1., 1., 1., 1.],\n         [0., 0., 0., 0., 0., 0., 0., 0.]]))"
     },
     "execution_count": 28,
     "metadata": {},
     "output_type": "execute_result"
    }
   ],
   "source": [
    "X = torch.ones((6, 8))\n",
    "\n",
    "# X[:, 2:6] = 0\n",
    "# K_vert = torch.tensor([[1.0, -1.0]])  # 这里的卷积核只可以判断垂直边缘\n",
    "\n",
    "X[2:4, :] = 0\n",
    "K_horiz = torch.tensor([[1.0],\n",
    "                        [-1.0]])  # 这里的卷积核只可以判断水平边缘\n",
    "result = corr2d(X, K_horiz).abs()\n",
    "X, result"
   ],
   "metadata": {
    "collapsed": false,
    "pycharm": {
     "name": "#%%\n"
    }
   }
  },
  {
   "cell_type": "code",
   "execution_count": 29,
   "outputs": [
    {
     "data": {
      "text/plain": "[(1, 0),\n (1, 1),\n (1, 2),\n (1, 3),\n (1, 4),\n (1, 5),\n (1, 6),\n (1, 7),\n (3, 0),\n (3, 1),\n (3, 2),\n (3, 3),\n (3, 4),\n (3, 5),\n (3, 6),\n (3, 7)]"
     },
     "execution_count": 29,
     "metadata": {},
     "output_type": "execute_result"
    }
   ],
   "source": [
    "edge = []\n",
    "for i in range(result.shape[0]):\n",
    "    for j in range(result.shape[1]):\n",
    "        if result[i, j] == 1.0:\n",
    "            edge.append((i, j))\n",
    "edge"
   ],
   "metadata": {
    "collapsed": false,
    "pycharm": {
     "name": "#%%\n"
    }
   }
  },
  {
   "cell_type": "code",
   "execution_count": null,
   "outputs": [],
   "source": [],
   "metadata": {
    "collapsed": false,
    "pycharm": {
     "name": "#%%\n"
    }
   }
  }
 ],
 "metadata": {
  "kernelspec": {
   "display_name": "Python 3",
   "language": "python",
   "name": "python3"
  },
  "language_info": {
   "codemirror_mode": {
    "name": "ipython",
    "version": 2
   },
   "file_extension": ".py",
   "mimetype": "text/x-python",
   "name": "python",
   "nbconvert_exporter": "python",
   "pygments_lexer": "ipython2",
   "version": "2.7.6"
  }
 },
 "nbformat": 4,
 "nbformat_minor": 0
}