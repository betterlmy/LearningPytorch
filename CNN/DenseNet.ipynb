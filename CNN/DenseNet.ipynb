{
 "cells": [
  {
   "cell_type": "markdown",
   "metadata": {},
   "source": [
    "## DenseNet 稠密连接网络\n",
    "DenseNet可以理解为ResNet的扩展"
   ]
  },
  {
   "cell_type": "markdown",
   "metadata": {},
   "source": [
    "### 从ResNet到DenseNet\n",
    "有泰勒展开式 Taylor expansion ,当x接近于0时\\\n",
    "![](img/2022-04-30-11-44-55.png)\n",
    "同样ResNet将函数展开为\\\n",
    "$f(x) = x + g(x)$\\\n",
    "也就是说 ResNet将fx分解为两个部分 一个简单的线性项和一个复杂的非线性项.如果我们将f拓展成超过两部分的信息,这便是**DenseNet**\n",
    "![](img/2022-04-30-12-36-35.png)\n"
   ]
  },
  {
   "cell_type": "markdown",
   "metadata": {},
   "source": [
    "如图所示,两者关键区别在于右图使用连接  而非简单的相加\n",
    "![](img/2022-04-30-12-38-04.png)\n",
    "最后，将这些展开式结合到多层感知机中，再次减少特征的数量。 实现起来非常简单：我们不需要添加术语，而是将它们连接起来。 DenseNet这个名字由变量之间的“稠密连接”而得来，最后一层与之前的所有层紧密相连。\n",
    "![](img/2022-04-30-12-38-40.png)\n"
   ]
  },
  {
   "cell_type": "markdown",
   "metadata": {},
   "source": [
    "稠密网络主要有两部分构成:稠密块(Dense Block)和过渡层(transition layer) 前者定义如何连接输入和输出,而后者控制通道数量,使其不会过于复杂"
   ]
  },
  {
   "cell_type": "markdown",
   "metadata": {},
   "source": [
    "### 稠密块"
   ]
  },
  {
   "cell_type": "code",
   "execution_count": 1,
   "metadata": {},
   "outputs": [
    {
     "ename": "AttributeError",
     "evalue": "module 'os' has no attribute 'abspath'",
     "output_type": "error",
     "traceback": [
      "\u001b[0;31m---------------------------------------------------------------------------\u001b[0m",
      "\u001b[0;31mAttributeError\u001b[0m                            Traceback (most recent call last)",
      "\u001b[1;32m/Users/zane/Documents/GitHub/LearningPytorch/CNN/DenseNet.ipynb Cell 6'\u001b[0m in \u001b[0;36m<cell line: 4>\u001b[0;34m()\u001b[0m\n\u001b[1;32m      <a href='vscode-notebook-cell:/Users/zane/Documents/GitHub/LearningPytorch/CNN/DenseNet.ipynb#ch0000009?line=1'>2</a>\u001b[0m \u001b[39mfrom\u001b[39;00m \u001b[39mtorch\u001b[39;00m \u001b[39mimport\u001b[39;00m nn\n\u001b[1;32m      <a href='vscode-notebook-cell:/Users/zane/Documents/GitHub/LearningPytorch/CNN/DenseNet.ipynb#ch0000009?line=2'>3</a>\u001b[0m \u001b[39mimport\u001b[39;00m \u001b[39msys\u001b[39;00m\u001b[39m,\u001b[39m\u001b[39mos\u001b[39;00m\n\u001b[0;32m----> <a href='vscode-notebook-cell:/Users/zane/Documents/GitHub/LearningPytorch/CNN/DenseNet.ipynb#ch0000009?line=3'>4</a>\u001b[0m sys\u001b[39m.\u001b[39mpath\u001b[39m.\u001b[39mappend(os\u001b[39m.\u001b[39;49mabspath(\u001b[39m\"\u001b[39m\u001b[39m../\u001b[39m\u001b[39m\"\u001b[39m))\n",
      "\u001b[0;31mAttributeError\u001b[0m: module 'os' has no attribute 'abspath'"
     ]
    }
   ],
   "source": [
    "import torch\n",
    "from torch import nn\n",
    "import sys,os\n",
    "sys.path.append(os.abspath(\"../\"))"
   ]
  },
  {
   "cell_type": "code",
   "execution_count": null,
   "metadata": {},
   "outputs": [],
   "source": []
  }
 ],
 "metadata": {
  "interpreter": {
   "hash": "d8bc75a386d56b6551c17e1904f8529f6445721752a10015ef716c860769d0c0"
  },
  "kernelspec": {
   "display_name": "Python 3.8.12 ('torch')",
   "language": "python",
   "name": "python3"
  },
  "language_info": {
   "codemirror_mode": {
    "name": "ipython",
    "version": 3
   },
   "file_extension": ".py",
   "mimetype": "text/x-python",
   "name": "python",
   "nbconvert_exporter": "python",
   "pygments_lexer": "ipython3",
   "version": "3.8.12"
  },
  "orig_nbformat": 4
 },
 "nbformat": 4,
 "nbformat_minor": 2
}
