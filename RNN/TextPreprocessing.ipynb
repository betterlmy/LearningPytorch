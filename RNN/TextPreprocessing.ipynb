{
 "cells": [
  {
   "cell_type": "markdown",
   "metadata": {},
   "source": [
    "一篇文章可以看作是一串单词序列或者一串字符序列.\n",
    "文本常见预处理步骤:\n",
    "1. 将文本作为字符串加载到内存里\n",
    "1. 将字符串拆分为词元(单词和字符)\n",
    "2. 建立一个词表,将拆分的词元映射到数字索引\n",
    "3. 将文本转为数字索引序列,方便模型操作"
   ]
  },
  {
   "cell_type": "markdown",
   "metadata": {},
   "source": []
  }
 ],
 "metadata": {
  "language_info": {
   "name": "python"
  },
  "orig_nbformat": 4
 },
 "nbformat": 4,
 "nbformat_minor": 2
}
