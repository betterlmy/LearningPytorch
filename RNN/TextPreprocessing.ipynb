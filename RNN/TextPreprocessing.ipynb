{
 "cells": [
  {
   "cell_type": "markdown",
   "metadata": {},
   "source": [
    "一篇文章可以看作是一串单词序列或者一串字符序列.\n",
    "文本常见预处理步骤:\n",
    "1. 将文本作为字符串加载到内存里\n",
    "1. 将字符串拆分为词元(单词和字符)\n",
    "2. 建立一个词表,将拆分的词元映射到数字索引\n",
    "3. 将文本转为数字索引序列,方便模型操作"
   ]
  },
  {
   "cell_type": "code",
   "execution_count": 2,
   "metadata": {},
   "outputs": [
    {
     "name": "stderr",
     "output_type": "stream",
     "text": [
      "/Users/zane/miniforge3/envs/torch/lib/python3.9/site-packages/tqdm/auto.py:22: TqdmWarning: IProgress not found. Please update jupyter and ipywidgets. See https://ipywidgets.readthedocs.io/en/stable/user_install.html\n",
      "  from .autonotebook import tqdm as notebook_tqdm\n"
     ]
    }
   ],
   "source": [
    "import re\n",
    "import collections\n",
    "import sys,os\n",
    "sys.path.append(os.path.abspath(\"../\"))\n",
    "import d2l\n"
   ]
  },
  {
   "cell_type": "markdown",
   "metadata": {},
   "source": [
    "### 下载数据集"
   ]
  },
  {
   "cell_type": "code",
   "execution_count": 3,
   "metadata": {},
   "outputs": [
    {
     "name": "stdout",
     "output_type": "stream",
     "text": [
      "正在从http://d2l-data.s3-accelerate.amazonaws.com/timemachine.txt下载../data/timemachine.txt...\n",
      "总行数:3221\n",
      "the time machine by h g wells\n",
      "of man\n"
     ]
    }
   ],
   "source": [
    "d2l.DATA_HUB['time_machine'] = (d2l.DATA_URL+'timemachine.txt', '090b5e7e70c295757f55df93cb0a180b9691891a')\n",
    "def read_time_machine():\n",
    "    \"\"\"讲时间机器数据集加载到文本行的列表中\"\"\"\n",
    "    with open(d2l.download('time_machine'),'r') as f:\n",
    "        lines = f.readlines()\n",
    "    return [re.sub('[^A-Za-z]+',' ',line).strip().lower() for line in lines]\n",
    "\n",
    "lines = read_time_machine()\n",
    "print(f\"总行数:{len(lines)}\") \n",
    "print(lines[0])\n",
    "print(lines[-1])"
   ]
  },
  {
   "cell_type": "markdown",
   "metadata": {},
   "source": [
    "### 词元化 Tokenize\n",
    "词元 Token是文本的基本单位,可以是一个word,也可以是单个元素"
   ]
  },
  {
   "cell_type": "code",
   "execution_count": 9,
   "metadata": {},
   "outputs": [
    {
     "data": {
      "text/plain": [
       "(2,\n",
       " [['I', 'am', 'fine'], ['Who', 'are', 'u']],\n",
       " 2,\n",
       " [['I', ' ', 'a', 'm', ' ', 'f', 'i', 'n', 'e'],\n",
       "  ['W', 'h', 'o', ' ', 'a', 'r', 'e', ' ', 'u']])"
      ]
     },
     "execution_count": 9,
     "metadata": {},
     "output_type": "execute_result"
    }
   ],
   "source": [
    "def tokenize(lines,token=\"word\"):\n",
    "    \"\"\"将每行文本拆分成单词或者字符词元\"\"\"\n",
    "    \n",
    "    if token in (\"word\", \"char\"):\n",
    "        if token == \"word\":\n",
    "            return [line.split() for line in lines]\n",
    "        elif token == \"char\":\n",
    "            return [list(line) for line in lines]\n",
    "    else:\n",
    "        assert(\"Error: Unknown Token: \" + token)\n",
    "        \n",
    "lines1 = [\"I am fine\",\"Who are u\"]\n",
    "tokens1 = tokenize(lines1)\n",
    "tokens2 = tokenize(lines1,token=\"char\")\n",
    "len(tokens1),tokens1,len(tokens2),tokens2"
   ]
  },
  {
   "cell_type": "markdown",
   "metadata": {},
   "source": [
    "### 词表 Vocabulary Voca\n",
    "词元的类型是字符串或char,而模型需要输入的是int型,因此我们需要构建一个字典,将词元映射到0开始的数字索引中.\n",
    "思路:\n",
    "1. 现将训练集中所有的文档合并在一起,对他们的唯一词元进行统计,得到的统计结果称为**语料(Corpus)**.\n",
    "2. 根据每个唯一词元出现的频率进行索引分配.\n",
    "3. 删除出现次数低于一定阈值的词元,降低复杂度.\n",
    "4. Corpus中不存在或者已经删除的任何词元都将映射到一个特定的未知词元'\\<unk>',同时增加一个列表,用于保存那些被保留的词元,例如填充词元'\\<pad>',序列开始词元和序列结束词元'\\<bos>','\\<eos>'"
   ]
  },
  {
   "cell_type": "code",
   "execution_count": 29,
   "metadata": {},
   "outputs": [
    {
     "name": "stdout",
     "output_type": "stream",
     "text": [
      "Counter({'asd': 2, 'abc': 2})\n"
     ]
    }
   ],
   "source": [
    "class Vocab:\n",
    "    \"\"\"词表\"\"\"\n",
    "    def __init__(self,tokens=None,min_freq=1,reserved_tokens=None):\n",
    "        if tokens is None:\n",
    "            tokens = []\n",
    "        if reserved_tokens is None:\n",
    "            reserved_tokens = []\n",
    "        \n",
    "        # 按照出现的频率进行排序\n",
    "        counter = self.count_corpus(tokens)\n",
    "        print(counter)\n",
    "    \n",
    "    @staticmethod\n",
    "    def count_corpus(tokens):\n",
    "        \"\"\"统计词元频率\n",
    "\n",
    "        Args:\n",
    "            tokens (List): tokens是一维或者二维的list\n",
    "\n",
    "        Returns:\n",
    "            Counter: collections.Counter类\n",
    "        \"\"\"\n",
    "        if len(tokens) ==0 or isinstance(tokens[0],list):\n",
    "            tokens = [token for line in tokens for token in line ]\n",
    "        return collections.Counter(tokens)\n",
    "\n"
   ]
  },
  {
   "cell_type": "code",
   "execution_count": 31,
   "metadata": {},
   "outputs": [
    {
     "name": "stdout",
     "output_type": "stream",
     "text": [
      "Counter({'a': 4, 'd': 3, 's': 2, ' ': 2, 'b': 2, 'c': 2})\n"
     ]
    }
   ],
   "source": [
    "a = Vocab(tokenize([\"asd abc\",\"abc asdd\"],token=\"char\"))\n"
   ]
  },
  {
   "cell_type": "code",
   "execution_count": null,
   "metadata": {},
   "outputs": [],
   "source": []
  }
 ],
 "metadata": {
  "kernelspec": {
   "display_name": "Python 3.9.13 ('torch')",
   "language": "python",
   "name": "python3"
  },
  "language_info": {
   "codemirror_mode": {
    "name": "ipython",
    "version": 3
   },
   "file_extension": ".py",
   "mimetype": "text/x-python",
   "name": "python",
   "nbconvert_exporter": "python",
   "pygments_lexer": "ipython3",
   "version": "3.9.13"
  },
  "orig_nbformat": 4,
  "vscode": {
   "interpreter": {
    "hash": "d8bc75a386d56b6551c17e1904f8529f6445721752a10015ef716c860769d0c0"
   }
  }
 },
 "nbformat": 4,
 "nbformat_minor": 2
}
