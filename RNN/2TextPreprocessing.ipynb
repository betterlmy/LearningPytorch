{
 "cells": [
  {
   "cell_type": "markdown",
   "metadata": {
    "pycharm": {
     "name": "#%% md\n"
    }
   },
   "source": [
    "一篇文章可以看作是一串单词序列或者一串字符序列.\n",
    "文本常见预处理步骤:\n",
    "1. 将文本作为字符串加载到内存里\n",
    "1. 将字符串拆分为词元(单词和字符)\n",
    "2. 建立一个词表,将拆分的词元映射到数字索引\n",
    "3. 将文本转为数字索引序列,方便模型操作"
   ]
  },
  {
   "cell_type": "code",
   "execution_count": 1,
   "metadata": {
    "pycharm": {
     "name": "#%%\n"
    }
   },
   "outputs": [
    {
     "name": "stderr",
     "output_type": "stream",
     "text": [
      "/Users/zane/miniforge3/envs/torch/lib/python3.9/site-packages/tqdm/auto.py:22: TqdmWarning: IProgress not found. Please update jupyter and ipywidgets. See https://ipywidgets.readthedocs.io/en/stable/user_install.html\n",
      "  from .autonotebook import tqdm as notebook_tqdm\n"
     ]
    }
   ],
   "source": [
    "import re\n",
    "import collections\n",
    "import sys,os\n",
    "sys.path.append(os.path.abspath(\"../\"))\n",
    "import d2l\n"
   ]
  },
  {
   "cell_type": "markdown",
   "metadata": {
    "pycharm": {
     "name": "#%% md\n"
    }
   },
   "source": [
    "### 下载数据集"
   ]
  },
  {
   "cell_type": "code",
   "execution_count": 2,
   "metadata": {
    "pycharm": {
     "name": "#%%\n"
    }
   },
   "outputs": [
    {
     "name": "stdout",
     "output_type": "stream",
     "text": [
      "总行数:3221\n",
      "the time machine by h g wells\n",
      "of man\n"
     ]
    }
   ],
   "source": [
    "d2l.DATA_HUB['time_machine'] = (d2l.DATA_URL+'timemachine.txt', '090b5e7e70c295757f55df93cb0a180b9691891a')\n",
    "def read_time_machine():\n",
    "    \"\"\"讲时间机器数据集加载到文本行的列表中\"\"\"\n",
    "    with open(d2l.download('time_machine'),'r') as f:\n",
    "        lines = f.readlines()\n",
    "    return [re.sub('[^A-Za-z]+',' ',line).strip().lower() for line in lines]\n",
    "\n",
    "lines = read_time_machine()\n",
    "print(f\"总行数:{len(lines)}\") \n",
    "print(lines[0])\n",
    "print(lines[-1])"
   ]
  },
  {
   "cell_type": "markdown",
   "metadata": {
    "pycharm": {
     "name": "#%% md\n"
    }
   },
   "source": [
    "### 词元化 Tokenize\n",
    "词元 Token是文本的基本单位,可以是一个word,也可以是单个元素"
   ]
  },
  {
   "cell_type": "code",
   "execution_count": 3,
   "metadata": {
    "pycharm": {
     "name": "#%%\n"
    }
   },
   "outputs": [
    {
     "data": {
      "text/plain": "(2,\n [['I', 'am', 'fine'], ['Who', 'are', 'u']],\n 2,\n [['I', ' ', 'a', 'm', ' ', 'f', 'i', 'n', 'e'],\n  ['W', 'h', 'o', ' ', 'a', 'r', 'e', ' ', 'u']])"
     },
     "execution_count": 3,
     "metadata": {},
     "output_type": "execute_result"
    }
   ],
   "source": [
    "def tokenize(lines,token=\"word\"):\n",
    "    \"\"\"将每行文本拆分成单词或者字符词元\"\"\"\n",
    "    \n",
    "    if token in (\"word\", \"char\"):\n",
    "        if token == \"word\":\n",
    "            return [line.split() for line in lines]\n",
    "        elif token == \"char\":\n",
    "            return [list(line) for line in lines]\n",
    "    else:\n",
    "        assert(\"Error: Unknown Token: \" + token)\n",
    "        \n",
    "lines1 = [\"I am fine\",\"Who are u\"]\n",
    "tokens1 = tokenize(lines1)\n",
    "tokens2 = tokenize(lines1,token=\"char\")\n",
    "len(tokens1),tokens1,len(tokens2),tokens2"
   ]
  },
  {
   "cell_type": "markdown",
   "metadata": {
    "pycharm": {
     "name": "#%% md\n"
    }
   },
   "source": [
    "### 词表 Vocabulary Voca\n",
    "词元的类型是字符串或char,而模型需要输入的是int型,因此我们需要构建一个字典,将词元映射到0开始的数字索引中.\n",
    "思路:\n",
    "1. 现将训练集中所有的文档合并在一起,对他们的唯一词元进行统计,得到的统计结果称为**语料(Corpus)**.\n",
    "2. 根据每个唯一词元出现的频率进行索引分配.\n",
    "3. 删除出现次数低于一定阈值的词元,降低复杂度.\n",
    "4. Corpus中不存在或者已经删除的任何词元都将映射到一个特定的未知词元'\\<unk>',同时增加一个列表,用于保存那些被保留的词元,例如填充词元'\\<pad>',序列开始词元和序列结束词元'\\<bos>','\\<eos>'"
   ]
  },
  {
   "cell_type": "code",
   "execution_count": 4,
   "metadata": {
    "pycharm": {
     "name": "#%%\n"
    }
   },
   "outputs": [],
   "source": [
    "class Vocab:\n",
    "    \"\"\"词表\"\"\"\n",
    "    def __init__(self,tokens=None,min_freq=1,reserved_tokens=None):\n",
    "        if tokens is None:\n",
    "            tokens = []\n",
    "        if reserved_tokens is None:\n",
    "            reserved_tokens = []\n",
    "        \n",
    "        # 按照出现的频率进行排序\n",
    "        counter = self._count_corpus(tokens)\n",
    "        self._token_freqs = sorted(counter.items(), key = lambda x:x[1],reverse= True)\n",
    "        # print(self._token_freqs)\n",
    "        \n",
    "\n",
    "        self.idx_to_token = ['<unk>'] + reserved_tokens # 未知的索引为0\n",
    "        self.token_to_idx ={\n",
    "            token:idx \n",
    "            for idx,token in enumerate(self.idx_to_token)\n",
    "        }\n",
    "\n",
    "        for token,freq in self._token_freqs:\n",
    "            # 开始向tokens中添加items\n",
    "            # 过滤\n",
    "            if freq < min_freq:\n",
    "                break\n",
    "            if token not in self.token_to_idx:\n",
    "                self.idx_to_token.append(token)\n",
    "                self.token_to_idx[token] = len(self.idx_to_token) -1\n",
    "        \n",
    "    def __len__(self):\n",
    "        return len(self.idx_to_token)\n",
    "    \n",
    "    def __getitem__(self,tokens):\n",
    "        if not isinstance(tokens,(list,tuple)):\n",
    "            return self.token_to_idx.get(tokens,self.unk)\n",
    "        return [self.__getitem__[token] for token in tokens]\n",
    "    \n",
    "    def to_tokens(self,indices):\n",
    "        if not isinstance(indices,(list,tuple)):\n",
    "            return self.idx_to_token[indices]\n",
    "        return [self.idx_to_token[index] for index in indices]\n",
    "        \n",
    "    @property\n",
    "    def unk(self):\n",
    "        return 0\n",
    "    \n",
    "    @property\n",
    "    def token_freqs(self):\n",
    "        return self._token_freqs\n",
    "\n",
    "\n",
    "    \n",
    "        \n",
    "    @staticmethod\n",
    "    def _count_corpus(tokens):\n",
    "        \"\"\"统计词元频率\n",
    "\n",
    "        Args:\n",
    "            tokens (List): tokens是一维或者二维的list\n",
    "\n",
    "        Returns:\n",
    "            Counter: collections.Counter类\n",
    "        \"\"\"\n",
    "        if len(tokens) ==0 or isinstance(tokens[0],list):\n",
    "            tokens = [token for line in tokens for token in line ]\n",
    "        return collections.Counter(tokens)\n",
    "\n"
   ]
  },
  {
   "cell_type": "code",
   "execution_count": 5,
   "metadata": {
    "pycharm": {
     "name": "#%%\n"
    }
   },
   "outputs": [],
   "source": [
    "vocab = Vocab(tokenize([\"asd abc\",\"accbc ddddd\"],token=\"char\"))"
   ]
  },
  {
   "cell_type": "markdown",
   "metadata": {
    "pycharm": {
     "name": "#%% md\n"
    }
   },
   "source": [
    "### 模块整合"
   ]
  },
  {
   "cell_type": "code",
   "execution_count": 6,
   "outputs": [
    {
     "data": {
      "text/plain": "(170580,\n 28,\n ['<unk>',\n  ' ',\n  'e',\n  't',\n  'a',\n  'i',\n  'n',\n  'o',\n  's',\n  'h',\n  'r',\n  'd',\n  'l',\n  'm',\n  'u',\n  'c',\n  'f',\n  'w',\n  'g',\n  'y',\n  'p',\n  'b',\n  'v',\n  'k',\n  'x',\n  'z',\n  'j',\n  'q'])"
     },
     "execution_count": 6,
     "metadata": {},
     "output_type": "execute_result"
    }
   ],
   "source": [
    "def load_corpus_time_machine(max_tokens = -1):\n",
    "    \"\"\"返回时光机器数据集的词元索引列表和词表\"\"\"\n",
    "    lines = read_time_machine()\n",
    "    tokens = tokenize(lines,\"char\")\n",
    "    vocab = Vocab(tokens)\n",
    "    corpus = [vocab[token] for line in tokens for token in line]\n",
    "    if max_tokens > 0:\n",
    "        corpus = corpus[:max_tokens]\n",
    "    return corpus,vocab\n",
    "\n",
    "corpus,vocab = load_corpus_time_machine()\n",
    "len(corpus),len(vocab),vocab.idx_to_token"
   ],
   "metadata": {
    "collapsed": false,
    "pycharm": {
     "name": "#%%\n"
    }
   }
  }
 ],
 "metadata": {
  "kernelspec": {
   "display_name": "Python 3.9.13 ('torch')",
   "language": "python",
   "name": "python3"
  },
  "language_info": {
   "codemirror_mode": {
    "name": "ipython",
    "version": 3
   },
   "file_extension": ".py",
   "mimetype": "text/x-python",
   "name": "python",
   "nbconvert_exporter": "python",
   "pygments_lexer": "ipython3",
   "version": "3.9.13"
  },
  "orig_nbformat": 4,
  "vscode": {
   "interpreter": {
    "hash": "d8bc75a386d56b6551c17e1904f8529f6445721752a10015ef716c860769d0c0"
   }
  }
 },
 "nbformat": 4,
 "nbformat_minor": 2
}