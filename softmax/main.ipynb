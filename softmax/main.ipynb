{
 "cells": [
  {
   "cell_type": "markdown",
   "metadata": {
    "collapsed": true,
    "pycharm": {
     "name": "#%% md\n"
    }
   },
   "source": [
    "## 1 图像分类数据集\n",
    "Fashion-MNIST是Zalando制作的数据集 - 由60,000个示例的训练集和10,000个示例的测试集组成。\n",
    "\n",
    "每个示例都是28x28灰度图像，与10个类别的标签相关联。\n",
    "\n",
    "Fashion-MNIST和原始MNIST数据集具有相同的图像大小和训练和测试分割的结构。\n",
    "\n",
    "原始的MNIST数据集包含许多手写数字。通常是研究人员尝试的第一个数据集。\n",
    "但也有一些缺点:\n",
    "MNIST太容易了。卷积网络在MNIST上可达到99.7％。经典的机器学习算法也可以轻松实现97％。\n",
    "MNIST被过度使用\n",
    "MNIST不能代表现代计算机图像识别任务\n",
    "更多信息请查看https://github.com/zalandoresearch/fashion-mnist"
   ]
  },
  {
   "cell_type": "code",
   "execution_count": 17,
   "outputs": [],
   "source": [
    "import math\n",
    "%matplotlib inline\n",
    "import torch\n",
    "import torchvision\n",
    "from torch.utils import data\n",
    "from torchvision import transforms\n",
    "import d2l\n",
    "from Timer import Timer\n",
    "d2l.use_svg_display() #使用svg显示图片 清晰度更高?"
   ],
   "metadata": {
    "collapsed": false,
    "pycharm": {
     "name": "#%%\n"
    }
   }
  },
  {
   "cell_type": "markdown",
   "source": [
    "### 读取数据集\n",
    "通过内置函数datasets.FashionMNIST()将数据集下载并读取到内存中"
   ],
   "metadata": {
    "collapsed": false,
    "pycharm": {
     "name": "#%% md\n"
    }
   }
  },
  {
   "cell_type": "code",
   "execution_count": 20,
   "outputs": [],
   "source": [
    "# 通过ToTenser()这个类 将图像数据从PIL类型转为浮点型的tensor类型,并除以255使得所有的像素数值均在0-1之间(归一化)  #需要下载将download改为True\n",
    "trans = [transforms.ToTensor()]  # 实例化对象\n",
    "trans = transforms.Compose(trans)\n",
    "mnist_train = torchvision.datasets.FashionMNIST(root=\"./data\", train=True, transform=trans, download=False)\n",
    "mnist_test = torchvision.datasets.FashionMNIST(root=\"./data\", train=False, transform=trans, download=False)"
   ],
   "metadata": {
    "collapsed": false,
    "pycharm": {
     "name": "#%%\n"
    }
   }
  },
  {
   "cell_type": "code",
   "execution_count": 8,
   "outputs": [
    {
     "data": {
      "text/plain": "(60000, 10000)"
     },
     "execution_count": 8,
     "metadata": {},
     "output_type": "execute_result"
    }
   ],
   "source": [
    "len(mnist_train),len(mnist_test) # 60000 ,10000"
   ],
   "metadata": {
    "collapsed": false,
    "pycharm": {
     "name": "#%%\n"
    }
   }
  },
  {
   "cell_type": "code",
   "execution_count": 13,
   "outputs": [
    {
     "data": {
      "text/plain": "torch.Size([1, 28, 28])"
     },
     "execution_count": 13,
     "metadata": {},
     "output_type": "execute_result"
    }
   ],
   "source": [
    "mnist_train[0][0].shape # 单通道 28*28的图片   mnist_train[0]表示第一张图片 mnist_train[0][0]表示图片的像素内容 mnist_train[0][1]表示图片的labels对应的标签如下面函数"
   ],
   "metadata": {
    "collapsed": false,
    "pycharm": {
     "name": "#%%\n"
    }
   }
  },
  {
   "cell_type": "markdown",
   "source": [
    "Fashion-MNIST中包含的10个类别，分别为t-shirt（T恤）、trouser（裤子）、pullover（套衫）、dress（连衣裙）、coat（外套）、sandal（凉鞋）、shirt（衬衫）、sneaker（运动鞋）、bag（包）和ankle boot（短靴）。\n",
    " 以下函数用于在数字标签索引及其文本名称之间进行转换。"
   ],
   "metadata": {
    "collapsed": false,
    "pycharm": {
     "name": "#%% md\n"
    }
   }
  },
  {
   "cell_type": "code",
   "execution_count": 3,
   "outputs": [],
   "source": [
    "def get_fashion_mnist_labels(labels):\n",
    "    \"\"\"返回Fashion-MNIST数据集的文本标签\"\"\"\n",
    "    text_labels = ['t-shirt', 'trouser', 'pullover', 'dress', 'coat',\n",
    "                   'sandal', 'shirt', 'sneaker', 'bag', 'ankle boot']\n",
    "    return [text_labels[int(i)] for i in labels]"
   ],
   "metadata": {
    "collapsed": false,
    "pycharm": {
     "name": "#%%\n"
    }
   }
  },
  {
   "cell_type": "code",
   "execution_count": 4,
   "outputs": [],
   "source": [
    "def show_images(imgs, num_rows, num_cols, titles=None, scale=1.5):\n",
    "    \"\"\"绘制图像列表,支持tensor和PIL\"\"\"\n",
    "    figsize = (num_cols * scale, num_rows * scale)\n",
    "    _, axes = d2l.plt.subplots(num_rows, num_cols, figsize=figsize)\n",
    "    axes = axes.flatten()\n",
    "    for i, (ax, img) in enumerate(zip(axes, imgs)):\n",
    "        if torch.is_tensor(img):\n",
    "            # 图片张量\n",
    "            ax.imshow(img.numpy())\n",
    "        else:\n",
    "            # PIL图片\n",
    "            ax.imshow(img)\n",
    "        ax.axes.get_xaxis().set_visible(False)\n",
    "        ax.axes.get_yaxis().set_visible(False)\n",
    "        if titles:\n",
    "            ax.set_title(titles[i])\n",
    "    return axes"
   ],
   "metadata": {
    "collapsed": false,
    "pycharm": {
     "name": "#%%\n"
    }
   }
  },
  {
   "cell_type": "code",
   "execution_count": null,
   "outputs": [],
   "source": [
    "# 看看图片长什么样子\n",
    "X ,y = next(iter(data.DataLoader(mnist_train,batch_size=18)))\n",
    "show_images(X.reshape(18,28,28),2,9,get_fashion_mnist_labels(y))"
   ],
   "metadata": {
    "collapsed": false,
    "pycharm": {
     "name": "#%%\n",
     "is_executing": true
    }
   }
  },
  {
   "cell_type": "code",
   "execution_count": null,
   "outputs": [],
   "source": [
    "batch_size = 256\n",
    "num_workers = 4 # 设置读取图片的进程数量 小于cpu的核心数\n",
    "\n",
    "timer = Timer()\n",
    "for i in range(1,256,8):\n",
    "    batch_size = i\n",
    "    train_iter = data.DataLoader(mnist_train, batch_size, shuffle=True, num_workers=num_workers)\n",
    "    for X,y in train_iter:\n",
    "        pass\n",
    "    print(f\"加载耗时:{timer.stop():.2f}s\")\n",
    "    timer.start()\n",
    "pass"
   ],
   "metadata": {
    "collapsed": false,
    "pycharm": {
     "name": "#%%\n",
     "is_executing": true
    }
   }
  },
  {
   "cell_type": "code",
   "execution_count": 20,
   "outputs": [
    {
     "data": {
      "text/plain": "[<matplotlib.lines.Line2D at 0x16b8157f0>]"
     },
     "execution_count": 20,
     "metadata": {},
     "output_type": "execute_result"
    },
    {
     "data": {
      "text/plain": "<Figure size 432x288 with 1 Axes>",
      "image/svg+xml": "<?xml version=\"1.0\" encoding=\"utf-8\" standalone=\"no\"?>\n<!DOCTYPE svg PUBLIC \"-//W3C//DTD SVG 1.1//EN\"\n  \"http://www.w3.org/Graphics/SVG/1.1/DTD/svg11.dtd\">\n<svg xmlns:xlink=\"http://www.w3.org/1999/xlink\" width=\"368.925pt\" height=\"248.518125pt\" viewBox=\"0 0 368.925 248.518125\" xmlns=\"http://www.w3.org/2000/svg\" version=\"1.1\">\n <metadata>\n  <rdf:RDF xmlns:dc=\"http://purl.org/dc/elements/1.1/\" xmlns:cc=\"http://creativecommons.org/ns#\" xmlns:rdf=\"http://www.w3.org/1999/02/22-rdf-syntax-ns#\">\n   <cc:Work>\n    <dc:type rdf:resource=\"http://purl.org/dc/dcmitype/StillImage\"/>\n    <dc:date>2022-03-18T14:12:31.801972</dc:date>\n    <dc:format>image/svg+xml</dc:format>\n    <dc:creator>\n     <cc:Agent>\n      <dc:title>Matplotlib v3.5.1, https://matplotlib.org/</dc:title>\n     </cc:Agent>\n    </dc:creator>\n   </cc:Work>\n  </rdf:RDF>\n </metadata>\n <defs>\n  <style type=\"text/css\">*{stroke-linejoin: round; stroke-linecap: butt}</style>\n </defs>\n <g id=\"figure_1\">\n  <g id=\"patch_1\">\n   <path d=\"M -0 248.518125 \nL 368.925 248.518125 \nL 368.925 0 \nL -0 0 \nL -0 248.518125 \nz\n\" style=\"fill: none\"/>\n  </g>\n  <g id=\"axes_1\">\n   <g id=\"patch_2\">\n    <path d=\"M 26.925 224.64 \nL 361.725 224.64 \nL 361.725 7.2 \nL 26.925 7.2 \nz\n\" style=\"fill: #ffffff\"/>\n   </g>\n   <g id=\"matplotlib.axis_1\">\n    <g id=\"xtick_1\">\n     <g id=\"line2d_1\">\n      <defs>\n       <path id=\"m8350bd4db3\" d=\"M 0 0 \nL 0 3.5 \n\" style=\"stroke: #000000; stroke-width: 0.8\"/>\n      </defs>\n      <g>\n       <use xlink:href=\"#m8350bd4db3\" x=\"42.143182\" y=\"224.64\" style=\"stroke: #000000; stroke-width: 0.8\"/>\n      </g>\n     </g>\n     <g id=\"text_1\">\n      <!-- 0 -->\n      <g transform=\"translate(38.961932 239.238437)scale(0.1 -0.1)\">\n       <defs>\n        <path id=\"DejaVuSans-30\" d=\"M 2034 4250 \nQ 1547 4250 1301 3770 \nQ 1056 3291 1056 2328 \nQ 1056 1369 1301 889 \nQ 1547 409 2034 409 \nQ 2525 409 2770 889 \nQ 3016 1369 3016 2328 \nQ 3016 3291 2770 3770 \nQ 2525 4250 2034 4250 \nz\nM 2034 4750 \nQ 2819 4750 3233 4129 \nQ 3647 3509 3647 2328 \nQ 3647 1150 3233 529 \nQ 2819 -91 2034 -91 \nQ 1250 -91 836 529 \nQ 422 1150 422 2328 \nQ 422 3509 836 4129 \nQ 1250 4750 2034 4750 \nz\n\" transform=\"scale(0.015625)\"/>\n       </defs>\n       <use xlink:href=\"#DejaVuSans-30\"/>\n      </g>\n     </g>\n    </g>\n    <g id=\"xtick_2\">\n     <g id=\"line2d_2\">\n      <g>\n       <use xlink:href=\"#m8350bd4db3\" x=\"91.234091\" y=\"224.64\" style=\"stroke: #000000; stroke-width: 0.8\"/>\n      </g>\n     </g>\n     <g id=\"text_2\">\n      <!-- 5 -->\n      <g transform=\"translate(88.052841 239.238437)scale(0.1 -0.1)\">\n       <defs>\n        <path id=\"DejaVuSans-35\" d=\"M 691 4666 \nL 3169 4666 \nL 3169 4134 \nL 1269 4134 \nL 1269 2991 \nQ 1406 3038 1543 3061 \nQ 1681 3084 1819 3084 \nQ 2600 3084 3056 2656 \nQ 3513 2228 3513 1497 \nQ 3513 744 3044 326 \nQ 2575 -91 1722 -91 \nQ 1428 -91 1123 -41 \nQ 819 9 494 109 \nL 494 744 \nQ 775 591 1075 516 \nQ 1375 441 1709 441 \nQ 2250 441 2565 725 \nQ 2881 1009 2881 1497 \nQ 2881 1984 2565 2268 \nQ 2250 2553 1709 2553 \nQ 1456 2553 1204 2497 \nQ 953 2441 691 2322 \nL 691 4666 \nz\n\" transform=\"scale(0.015625)\"/>\n       </defs>\n       <use xlink:href=\"#DejaVuSans-35\"/>\n      </g>\n     </g>\n    </g>\n    <g id=\"xtick_3\">\n     <g id=\"line2d_3\">\n      <g>\n       <use xlink:href=\"#m8350bd4db3\" x=\"140.325\" y=\"224.64\" style=\"stroke: #000000; stroke-width: 0.8\"/>\n      </g>\n     </g>\n     <g id=\"text_3\">\n      <!-- 10 -->\n      <g transform=\"translate(133.9625 239.238437)scale(0.1 -0.1)\">\n       <defs>\n        <path id=\"DejaVuSans-31\" d=\"M 794 531 \nL 1825 531 \nL 1825 4091 \nL 703 3866 \nL 703 4441 \nL 1819 4666 \nL 2450 4666 \nL 2450 531 \nL 3481 531 \nL 3481 0 \nL 794 0 \nL 794 531 \nz\n\" transform=\"scale(0.015625)\"/>\n       </defs>\n       <use xlink:href=\"#DejaVuSans-31\"/>\n       <use xlink:href=\"#DejaVuSans-30\" x=\"63.623047\"/>\n      </g>\n     </g>\n    </g>\n    <g id=\"xtick_4\">\n     <g id=\"line2d_4\">\n      <g>\n       <use xlink:href=\"#m8350bd4db3\" x=\"189.415909\" y=\"224.64\" style=\"stroke: #000000; stroke-width: 0.8\"/>\n      </g>\n     </g>\n     <g id=\"text_4\">\n      <!-- 15 -->\n      <g transform=\"translate(183.053409 239.238437)scale(0.1 -0.1)\">\n       <use xlink:href=\"#DejaVuSans-31\"/>\n       <use xlink:href=\"#DejaVuSans-35\" x=\"63.623047\"/>\n      </g>\n     </g>\n    </g>\n    <g id=\"xtick_5\">\n     <g id=\"line2d_5\">\n      <g>\n       <use xlink:href=\"#m8350bd4db3\" x=\"238.506818\" y=\"224.64\" style=\"stroke: #000000; stroke-width: 0.8\"/>\n      </g>\n     </g>\n     <g id=\"text_5\">\n      <!-- 20 -->\n      <g transform=\"translate(232.144318 239.238437)scale(0.1 -0.1)\">\n       <defs>\n        <path id=\"DejaVuSans-32\" d=\"M 1228 531 \nL 3431 531 \nL 3431 0 \nL 469 0 \nL 469 531 \nQ 828 903 1448 1529 \nQ 2069 2156 2228 2338 \nQ 2531 2678 2651 2914 \nQ 2772 3150 2772 3378 \nQ 2772 3750 2511 3984 \nQ 2250 4219 1831 4219 \nQ 1534 4219 1204 4116 \nQ 875 4013 500 3803 \nL 500 4441 \nQ 881 4594 1212 4672 \nQ 1544 4750 1819 4750 \nQ 2544 4750 2975 4387 \nQ 3406 4025 3406 3419 \nQ 3406 3131 3298 2873 \nQ 3191 2616 2906 2266 \nQ 2828 2175 2409 1742 \nQ 1991 1309 1228 531 \nz\n\" transform=\"scale(0.015625)\"/>\n       </defs>\n       <use xlink:href=\"#DejaVuSans-32\"/>\n       <use xlink:href=\"#DejaVuSans-30\" x=\"63.623047\"/>\n      </g>\n     </g>\n    </g>\n    <g id=\"xtick_6\">\n     <g id=\"line2d_6\">\n      <g>\n       <use xlink:href=\"#m8350bd4db3\" x=\"287.597727\" y=\"224.64\" style=\"stroke: #000000; stroke-width: 0.8\"/>\n      </g>\n     </g>\n     <g id=\"text_6\">\n      <!-- 25 -->\n      <g transform=\"translate(281.235227 239.238437)scale(0.1 -0.1)\">\n       <use xlink:href=\"#DejaVuSans-32\"/>\n       <use xlink:href=\"#DejaVuSans-35\" x=\"63.623047\"/>\n      </g>\n     </g>\n    </g>\n    <g id=\"xtick_7\">\n     <g id=\"line2d_7\">\n      <g>\n       <use xlink:href=\"#m8350bd4db3\" x=\"336.688636\" y=\"224.64\" style=\"stroke: #000000; stroke-width: 0.8\"/>\n      </g>\n     </g>\n     <g id=\"text_7\">\n      <!-- 30 -->\n      <g transform=\"translate(330.326136 239.238437)scale(0.1 -0.1)\">\n       <defs>\n        <path id=\"DejaVuSans-33\" d=\"M 2597 2516 \nQ 3050 2419 3304 2112 \nQ 3559 1806 3559 1356 \nQ 3559 666 3084 287 \nQ 2609 -91 1734 -91 \nQ 1441 -91 1130 -33 \nQ 819 25 488 141 \nL 488 750 \nQ 750 597 1062 519 \nQ 1375 441 1716 441 \nQ 2309 441 2620 675 \nQ 2931 909 2931 1356 \nQ 2931 1769 2642 2001 \nQ 2353 2234 1838 2234 \nL 1294 2234 \nL 1294 2753 \nL 1863 2753 \nQ 2328 2753 2575 2939 \nQ 2822 3125 2822 3475 \nQ 2822 3834 2567 4026 \nQ 2313 4219 1838 4219 \nQ 1578 4219 1281 4162 \nQ 984 4106 628 3988 \nL 628 4550 \nQ 988 4650 1302 4700 \nQ 1616 4750 1894 4750 \nQ 2613 4750 3031 4423 \nQ 3450 4097 3450 3541 \nQ 3450 3153 3228 2886 \nQ 3006 2619 2597 2516 \nz\n\" transform=\"scale(0.015625)\"/>\n       </defs>\n       <use xlink:href=\"#DejaVuSans-33\"/>\n       <use xlink:href=\"#DejaVuSans-30\" x=\"63.623047\"/>\n      </g>\n     </g>\n    </g>\n   </g>\n   <g id=\"matplotlib.axis_2\">\n    <g id=\"ytick_1\">\n     <g id=\"line2d_8\">\n      <defs>\n       <path id=\"me13ec73cac\" d=\"M 0 0 \nL -3.5 0 \n\" style=\"stroke: #000000; stroke-width: 0.8\"/>\n      </defs>\n      <g>\n       <use xlink:href=\"#me13ec73cac\" x=\"26.925\" y=\"202.602338\" style=\"stroke: #000000; stroke-width: 0.8\"/>\n      </g>\n     </g>\n     <g id=\"text_8\">\n      <!-- 2 -->\n      <g transform=\"translate(13.5625 206.401557)scale(0.1 -0.1)\">\n       <use xlink:href=\"#DejaVuSans-32\"/>\n      </g>\n     </g>\n    </g>\n    <g id=\"ytick_2\">\n     <g id=\"line2d_9\">\n      <g>\n       <use xlink:href=\"#me13ec73cac\" x=\"26.925\" y=\"177.314493\" style=\"stroke: #000000; stroke-width: 0.8\"/>\n      </g>\n     </g>\n     <g id=\"text_9\">\n      <!-- 4 -->\n      <g transform=\"translate(13.5625 181.113711)scale(0.1 -0.1)\">\n       <defs>\n        <path id=\"DejaVuSans-34\" d=\"M 2419 4116 \nL 825 1625 \nL 2419 1625 \nL 2419 4116 \nz\nM 2253 4666 \nL 3047 4666 \nL 3047 1625 \nL 3713 1625 \nL 3713 1100 \nL 3047 1100 \nL 3047 0 \nL 2419 0 \nL 2419 1100 \nL 313 1100 \nL 313 1709 \nL 2253 4666 \nz\n\" transform=\"scale(0.015625)\"/>\n       </defs>\n       <use xlink:href=\"#DejaVuSans-34\"/>\n      </g>\n     </g>\n    </g>\n    <g id=\"ytick_3\">\n     <g id=\"line2d_10\">\n      <g>\n       <use xlink:href=\"#me13ec73cac\" x=\"26.925\" y=\"152.026647\" style=\"stroke: #000000; stroke-width: 0.8\"/>\n      </g>\n     </g>\n     <g id=\"text_10\">\n      <!-- 6 -->\n      <g transform=\"translate(13.5625 155.825866)scale(0.1 -0.1)\">\n       <defs>\n        <path id=\"DejaVuSans-36\" d=\"M 2113 2584 \nQ 1688 2584 1439 2293 \nQ 1191 2003 1191 1497 \nQ 1191 994 1439 701 \nQ 1688 409 2113 409 \nQ 2538 409 2786 701 \nQ 3034 994 3034 1497 \nQ 3034 2003 2786 2293 \nQ 2538 2584 2113 2584 \nz\nM 3366 4563 \nL 3366 3988 \nQ 3128 4100 2886 4159 \nQ 2644 4219 2406 4219 \nQ 1781 4219 1451 3797 \nQ 1122 3375 1075 2522 \nQ 1259 2794 1537 2939 \nQ 1816 3084 2150 3084 \nQ 2853 3084 3261 2657 \nQ 3669 2231 3669 1497 \nQ 3669 778 3244 343 \nQ 2819 -91 2113 -91 \nQ 1303 -91 875 529 \nQ 447 1150 447 2328 \nQ 447 3434 972 4092 \nQ 1497 4750 2381 4750 \nQ 2619 4750 2861 4703 \nQ 3103 4656 3366 4563 \nz\n\" transform=\"scale(0.015625)\"/>\n       </defs>\n       <use xlink:href=\"#DejaVuSans-36\"/>\n      </g>\n     </g>\n    </g>\n    <g id=\"ytick_4\">\n     <g id=\"line2d_11\">\n      <g>\n       <use xlink:href=\"#me13ec73cac\" x=\"26.925\" y=\"126.738802\" style=\"stroke: #000000; stroke-width: 0.8\"/>\n      </g>\n     </g>\n     <g id=\"text_11\">\n      <!-- 8 -->\n      <g transform=\"translate(13.5625 130.538021)scale(0.1 -0.1)\">\n       <defs>\n        <path id=\"DejaVuSans-38\" d=\"M 2034 2216 \nQ 1584 2216 1326 1975 \nQ 1069 1734 1069 1313 \nQ 1069 891 1326 650 \nQ 1584 409 2034 409 \nQ 2484 409 2743 651 \nQ 3003 894 3003 1313 \nQ 3003 1734 2745 1975 \nQ 2488 2216 2034 2216 \nz\nM 1403 2484 \nQ 997 2584 770 2862 \nQ 544 3141 544 3541 \nQ 544 4100 942 4425 \nQ 1341 4750 2034 4750 \nQ 2731 4750 3128 4425 \nQ 3525 4100 3525 3541 \nQ 3525 3141 3298 2862 \nQ 3072 2584 2669 2484 \nQ 3125 2378 3379 2068 \nQ 3634 1759 3634 1313 \nQ 3634 634 3220 271 \nQ 2806 -91 2034 -91 \nQ 1263 -91 848 271 \nQ 434 634 434 1313 \nQ 434 1759 690 2068 \nQ 947 2378 1403 2484 \nz\nM 1172 3481 \nQ 1172 3119 1398 2916 \nQ 1625 2713 2034 2713 \nQ 2441 2713 2670 2916 \nQ 2900 3119 2900 3481 \nQ 2900 3844 2670 4047 \nQ 2441 4250 2034 4250 \nQ 1625 4250 1398 4047 \nQ 1172 3844 1172 3481 \nz\n\" transform=\"scale(0.015625)\"/>\n       </defs>\n       <use xlink:href=\"#DejaVuSans-38\"/>\n      </g>\n     </g>\n    </g>\n    <g id=\"ytick_5\">\n     <g id=\"line2d_12\">\n      <g>\n       <use xlink:href=\"#me13ec73cac\" x=\"26.925\" y=\"101.450957\" style=\"stroke: #000000; stroke-width: 0.8\"/>\n      </g>\n     </g>\n     <g id=\"text_12\">\n      <!-- 10 -->\n      <g transform=\"translate(7.2 105.250175)scale(0.1 -0.1)\">\n       <use xlink:href=\"#DejaVuSans-31\"/>\n       <use xlink:href=\"#DejaVuSans-30\" x=\"63.623047\"/>\n      </g>\n     </g>\n    </g>\n    <g id=\"ytick_6\">\n     <g id=\"line2d_13\">\n      <g>\n       <use xlink:href=\"#me13ec73cac\" x=\"26.925\" y=\"76.163111\" style=\"stroke: #000000; stroke-width: 0.8\"/>\n      </g>\n     </g>\n     <g id=\"text_13\">\n      <!-- 12 -->\n      <g transform=\"translate(7.2 79.96233)scale(0.1 -0.1)\">\n       <use xlink:href=\"#DejaVuSans-31\"/>\n       <use xlink:href=\"#DejaVuSans-32\" x=\"63.623047\"/>\n      </g>\n     </g>\n    </g>\n    <g id=\"ytick_7\">\n     <g id=\"line2d_14\">\n      <g>\n       <use xlink:href=\"#me13ec73cac\" x=\"26.925\" y=\"50.875266\" style=\"stroke: #000000; stroke-width: 0.8\"/>\n      </g>\n     </g>\n     <g id=\"text_14\">\n      <!-- 14 -->\n      <g transform=\"translate(7.2 54.674485)scale(0.1 -0.1)\">\n       <use xlink:href=\"#DejaVuSans-31\"/>\n       <use xlink:href=\"#DejaVuSans-34\" x=\"63.623047\"/>\n      </g>\n     </g>\n    </g>\n    <g id=\"ytick_8\">\n     <g id=\"line2d_15\">\n      <g>\n       <use xlink:href=\"#me13ec73cac\" x=\"26.925\" y=\"25.587421\" style=\"stroke: #000000; stroke-width: 0.8\"/>\n      </g>\n     </g>\n     <g id=\"text_15\">\n      <!-- 16 -->\n      <g transform=\"translate(7.2 29.386639)scale(0.1 -0.1)\">\n       <use xlink:href=\"#DejaVuSans-31\"/>\n       <use xlink:href=\"#DejaVuSans-36\" x=\"63.623047\"/>\n      </g>\n     </g>\n    </g>\n   </g>\n   <g id=\"line2d_16\">\n    <path d=\"M 42.143182 17.083636 \nL 51.961364 189.710264 \nL 61.779545 200.552646 \nL 71.597727 208.586694 \nL 81.415909 210.030339 \nL 91.234091 211.368077 \nL 101.052273 210.196215 \nL 110.870455 209.133316 \nL 120.688636 213.183431 \nL 130.506818 213.6113 \nL 140.325 213.272191 \nL 150.143182 213.251098 \nL 159.961364 213.385417 \nL 169.779545 214.005323 \nL 179.597727 213.677253 \nL 189.415909 213.582943 \nL 199.234091 213.731074 \nL 209.052273 212.643851 \nL 218.870455 213.573432 \nL 228.688636 212.898008 \nL 238.506818 213.121159 \nL 248.325 212.475953 \nL 258.143182 212.507964 \nL 267.961364 212.871431 \nL 277.779545 214.090906 \nL 287.597727 213.995284 \nL 297.415909 214.09077 \nL 307.234091 212.986566 \nL 317.052273 213.127152 \nL 326.870455 214.403188 \nL 336.688636 214.756364 \nL 346.506818 214.753024 \n\" clip-path=\"url(#pa21de395c6)\" style=\"fill: none; stroke: #1f77b4; stroke-width: 1.5; stroke-linecap: square\"/>\n   </g>\n   <g id=\"patch_3\">\n    <path d=\"M 26.925 224.64 \nL 26.925 7.2 \n\" style=\"fill: none; stroke: #000000; stroke-width: 0.8; stroke-linejoin: miter; stroke-linecap: square\"/>\n   </g>\n   <g id=\"patch_4\">\n    <path d=\"M 361.725 224.64 \nL 361.725 7.2 \n\" style=\"fill: none; stroke: #000000; stroke-width: 0.8; stroke-linejoin: miter; stroke-linecap: square\"/>\n   </g>\n   <g id=\"patch_5\">\n    <path d=\"M 26.925 224.64 \nL 361.725 224.64 \n\" style=\"fill: none; stroke: #000000; stroke-width: 0.8; stroke-linejoin: miter; stroke-linecap: square\"/>\n   </g>\n   <g id=\"patch_6\">\n    <path d=\"M 26.925 7.2 \nL 361.725 7.2 \n\" style=\"fill: none; stroke: #000000; stroke-width: 0.8; stroke-linejoin: miter; stroke-linecap: square\"/>\n   </g>\n  </g>\n </g>\n <defs>\n  <clipPath id=\"pa21de395c6\">\n   <rect x=\"26.925\" y=\"7.2\" width=\"334.8\" height=\"217.44\"/>\n  </clipPath>\n </defs>\n</svg>\n"
     },
     "metadata": {
      "needs_background": "light"
     },
     "output_type": "display_data"
    }
   ],
   "source": [
    "from matplotlib import pyplot as plt\n",
    "x = list(range(len(timer.times)))\n",
    "plt.plot(x,timer.times)"
   ],
   "metadata": {
    "collapsed": false,
    "pycharm": {
     "name": "#%%\n"
    }
   }
  },
  {
   "cell_type": "markdown",
   "source": [
    "### softmax回归从0开始实现"
   ],
   "metadata": {
    "collapsed": false,
    "pycharm": {
     "name": "#%% md\n"
    }
   }
  },
  {
   "cell_type": "code",
   "execution_count": 1,
   "outputs": [
    {
     "name": "stderr",
     "output_type": "stream",
     "text": [
      "/Users/zane/miniforge3/envs/torch/lib/python3.8/site-packages/tqdm/auto.py:22: TqdmWarning: IProgress not found. Please update jupyter and ipywidgets. See https://ipywidgets.readthedocs.io/en/stable/user_install.html\n",
      "  from .autonotebook import tqdm as notebook_tqdm\n"
     ]
    },
    {
     "name": "stdout",
     "output_type": "stream",
     "text": [
      "数据集加载成功 60000 10000\n"
     ]
    }
   ],
   "source": [
    "import torch\n",
    "from IPython import display\n",
    "import d2l\n",
    "from softmax底层 import loadFashionMnistData\n",
    "batch_size = 256\n",
    "train_iter,test_iter = loadFashionMnistData(batch_size)"
   ],
   "metadata": {
    "collapsed": false,
    "pycharm": {
     "name": "#%%\n"
    }
   }
  },
  {
   "cell_type": "markdown",
   "source": [
    "每张图像都是28*28的分辨率 通道数为1 需要将每张图片展平为长度为784的向量\n",
    "数据集共有是个类别 所以输出的维度是10"
   ],
   "metadata": {
    "collapsed": false,
    "pycharm": {
     "name": "#%% md\n"
    }
   }
  },
  {
   "cell_type": "code",
   "execution_count": 15,
   "outputs": [],
   "source": [
    "num_inputs = 784\n",
    "num_outputs = 10\n",
    "\n",
    "# 初始化权重\n",
    "W = torch.normal(0, .01, size=(num_inputs, num_outputs), requires_grad=True)\n",
    "b = torch.zeros(num_outputs, requires_grad=True)"
   ],
   "metadata": {
    "collapsed": false,
    "pycharm": {
     "name": "#%%\n"
    }
   }
  },
  {
   "cell_type": "markdown",
   "source": [
    "矩阵X 的求和"
   ],
   "metadata": {
    "collapsed": false,
    "pycharm": {
     "name": "#%% md\n"
    }
   }
  },
  {
   "cell_type": "code",
   "execution_count": 5,
   "outputs": [],
   "source": [
    "X = torch.tensor([\n",
    "    [1.0, 2.0, 3.0],\n",
    "    [4.0, 5.0, 6.0],\n",
    "])"
   ],
   "metadata": {
    "collapsed": false,
    "pycharm": {
     "name": "#%%\n"
    }
   }
  },
  {
   "cell_type": "code",
   "execution_count": 6,
   "outputs": [
    {
     "data": {
      "text/plain": "tensor(21.)"
     },
     "execution_count": 6,
     "metadata": {},
     "output_type": "execute_result"
    }
   ],
   "source": [
    "X.sum() # tensor(21.) = 1+2+3+4+5+6"
   ],
   "metadata": {
    "collapsed": false,
    "pycharm": {
     "name": "#%%\n"
    }
   }
  },
  {
   "cell_type": "code",
   "execution_count": 7,
   "outputs": [
    {
     "data": {
      "text/plain": "tensor([[5., 7., 9.]])"
     },
     "execution_count": 7,
     "metadata": {},
     "output_type": "execute_result"
    }
   ],
   "source": [
    "X.sum(0, keepdim=True)"
   ],
   "metadata": {
    "collapsed": false,
    "pycharm": {
     "name": "#%%\n"
    }
   }
  },
  {
   "cell_type": "code",
   "execution_count": 8,
   "outputs": [
    {
     "data": {
      "text/plain": "tensor([[ 6.],\n        [15.]])"
     },
     "execution_count": 8,
     "metadata": {},
     "output_type": "execute_result"
    }
   ],
   "source": [
    "X.sum(1, keepdim=True)"
   ],
   "metadata": {
    "collapsed": false,
    "pycharm": {
     "name": "#%%\n"
    }
   }
  },
  {
   "cell_type": "code",
   "execution_count": 3,
   "outputs": [],
   "source": [
    "def softmax(x):\n",
    "    \"\"\"\n",
    "    求得所有的x的softmax值\n",
    "    :param x:\n",
    "    :return:\n",
    "    \"\"\"\n",
    "    X_exp = torch.exp(x)\n",
    "    partition = X_exp.sum(1, keepdim=True)\n",
    "    return X_exp / partition"
   ],
   "metadata": {
    "collapsed": false,
    "pycharm": {
     "name": "#%%\n"
    }
   }
  },
  {
   "cell_type": "code",
   "execution_count": 5,
   "outputs": [],
   "source": [
    "def sm_net(X):\n",
    "    return softmax(torch.matmul(X.reshape((-1, W.shape[0])), W) + b)"
   ],
   "metadata": {
    "collapsed": false,
    "pycharm": {
     "name": "#%%\n"
    }
   }
  },
  {
   "cell_type": "markdown",
   "source": [
    "\n",
    "根据索引从y_hat中取出概率\n",
    "例如想从y_hat的第一行取出第0个元素  从第二行取出第2个元素"
   ],
   "metadata": {
    "collapsed": false
   }
  },
  {
   "cell_type": "code",
   "execution_count": 6,
   "outputs": [
    {
     "data": {
      "text/plain": "tensor([0.1000, 0.5000])"
     },
     "execution_count": 6,
     "metadata": {},
     "output_type": "execute_result"
    }
   ],
   "source": [
    "index = torch.tensor([0, 2])\n",
    "y_hat = torch.tensor([[.1, .3, .6],\n",
    "                      [.3, .2, .5]])\n",
    "y_hat[[0, 1], index] # [0, 1]表示axis=0 index表示axis=1"
   ],
   "metadata": {
    "collapsed": false,
    "pycharm": {
     "name": "#%%\n"
    }
   }
  },
  {
   "cell_type": "markdown",
   "source": [
    "上述写法和下述写法相同"
   ],
   "metadata": {
    "collapsed": false,
    "pycharm": {
     "name": "#%% md\n"
    }
   }
  },
  {
   "cell_type": "code",
   "execution_count": 19,
   "outputs": [
    {
     "name": "stdout",
     "output_type": "stream",
     "text": [
      "tensor(0.1000)\n",
      "tensor(0.5000)\n"
     ]
    }
   ],
   "source": [
    "x = 0\n",
    "for i in index:\n",
    "    print(y_hat[x][i])\n",
    "    x += 1"
   ],
   "metadata": {
    "collapsed": false,
    "pycharm": {
     "name": "#%%\n"
    }
   }
  },
  {
   "cell_type": "markdown",
   "source": [
    "### 实现交叉熵损失函数"
   ],
   "metadata": {
    "collapsed": false,
    "pycharm": {
     "name": "#%% md\n"
    }
   }
  },
  {
   "cell_type": "code",
   "execution_count": 7,
   "outputs": [],
   "source": [
    "def cross_entropy(y_hat, y):\n",
    "    \"\"\"计算交叉熵\"\"\"\n",
    "    return -torch.log(y_hat[range(len(y_hat)), y])\n",
    "# cross_entropy(y_hat,index)"
   ],
   "metadata": {
    "collapsed": false,
    "pycharm": {
     "name": "#%%\n"
    }
   }
  },
  {
   "cell_type": "markdown",
   "source": [],
   "metadata": {
    "collapsed": false
   }
  },
  {
   "cell_type": "markdown",
   "source": [
    "### 将预测类别与真实的y进行比较"
   ],
   "metadata": {
    "collapsed": false,
    "pycharm": {
     "name": "#%% md\n"
    }
   }
  },
  {
   "cell_type": "code",
   "execution_count": 8,
   "outputs": [],
   "source": [
    "def num_correct(y_hat, y):\n",
    "    \"\"\"\n",
    "    返回正确的数量\n",
    "    :param y_hat:\n",
    "    :param y:\n",
    "    :return:\n",
    "    \"\"\"\n",
    "    y_hat_shape = y_hat.shape\n",
    "    dim_y_hat = len(y_hat_shape)\n",
    "    num_y_hat = y_hat_shape[1]\n",
    "    if dim_y_hat > 1 and num_y_hat > 1:\n",
    "        y_hat = y_hat.argmax(axis=1)\n",
    "    y_dtype = y.dtype\n",
    "    y_hat_type = y_hat.type(y_dtype)  # 格式转换\n",
    "    cmp = y_hat_type == y\n",
    "    return cmp.type(torch.int).sum()"
   ],
   "metadata": {
    "collapsed": false,
    "pycharm": {
     "name": "#%%\n"
    }
   }
  },
  {
   "cell_type": "markdown",
   "source": [
    "### 评估任意网络的准确率"
   ],
   "metadata": {
    "collapsed": false,
    "pycharm": {
     "name": "#%% md\n"
    }
   }
  },
  {
   "cell_type": "code",
   "execution_count": 9,
   "outputs": [],
   "source": [
    "class Accumulator:\n",
    "    '''在n个变量上累加'''\n",
    "\n",
    "    def __init__(self, n):\n",
    "        self.data = [.0] * n\n",
    "\n",
    "    def add(self, *args):\n",
    "        # 添加数据\n",
    "        self.data = [a + float(b) for a, b in zip(self.data, args)]\n",
    "\n",
    "    def reset(self):\n",
    "        # 归零\n",
    "        self.data = [.0] * len(self.data)\n",
    "\n",
    "    def __getitem__(self, idx):\n",
    "        return self.data[idx]\n",
    "\n",
    "\n",
    "def net_accuracy(net, data_iter):\n",
    "    \"\"\"\n",
    "    测试模型的准确率\n",
    "    :param net:\n",
    "    :param data_iter:\n",
    "    :return:\n",
    "    \"\"\"\n",
    "    if isinstance(net, torch.nn.Module):\n",
    "        # 判断net是不是nn的一个模块 如果是 将网络设置为评估模式 告诉其不要计算梯度了 只用计算准确率\n",
    "        net.eval()\n",
    "\n",
    "    metric = Accumulator(2)\n",
    "    with torch.no_grad():\n",
    "        for X, y in data_iter:\n",
    "            metric.add(num_correct(net(X), y), y.numel())\n",
    "    return metric[0] / metric[1]"
   ],
   "metadata": {
    "collapsed": false,
    "pycharm": {
     "name": "#%%\n"
    }
   }
  },
  {
   "cell_type": "code",
   "execution_count": 17,
   "outputs": [
    {
     "data": {
      "text/plain": "0.1343"
     },
     "execution_count": 17,
     "metadata": {},
     "output_type": "execute_result"
    }
   ],
   "source": [
    "net_accuracy(sm_net, test_iter)"
   ],
   "metadata": {
    "collapsed": false,
    "pycharm": {
     "name": "#%%\n"
    }
   }
  },
  {
   "cell_type": "code",
   "execution_count": 31,
   "outputs": [],
   "source": [
    "def train_epoch(net, train_iter, loss, updater):\n",
    "    if isinstance(net, torch.nn.Module):\n",
    "        net.train()  #设置为训练模式\n",
    "    metric = Accumulator(3)\n",
    "    for X, y in train_iter:\n",
    "        y_hat = net(X)\n",
    "        l = loss(y_hat, y)\n",
    "        if isinstance(updater, torch.optim.Optimizer):\n",
    "            updater.zero_grad()\n",
    "            l.backward()\n",
    "            updater.step()\n",
    "            metric.add(\n",
    "                float(l.sum()) * len(y),\n",
    "                num_correct(y_hat, y),\n",
    "                y.size().numel()\n",
    "            )\n",
    "        else:\n",
    "            l.sum().backward()\n",
    "            updater(X.shape[0])\n",
    "            metric.add(\n",
    "                float(l.sum()) * len(y),\n",
    "                num_correct(y_hat, y),\n",
    "                y.size().numel()\n",
    "            )\n",
    "        return metric[0] / metric[2], metric[1] / metric[2]"
   ],
   "metadata": {
    "collapsed": false,
    "pycharm": {
     "name": "#%%\n"
    }
   }
  },
  {
   "cell_type": "code",
   "execution_count": 34,
   "outputs": [],
   "source": [
    "class Animator:\n",
    "    def __init__(self, xlabel=None, ylabel=None, legend=None, xlim=None, ylim=None, xscale='linear', yscale='linear',\n",
    "                 fmts=('-', 'm--', 'g-.', 'r:'), nrows=1, ncols=1,\n",
    "                 figsize=(3.5, 2.5)):\n",
    "        if legend is None:\n",
    "            legend = []\n",
    "        d2l.use_svg_display()\n",
    "        self.fig, self.axes = d2l.plt.subplots(nrows, ncols, figsize=figsize)\n",
    "        if nrows * ncols == 1:\n",
    "            self.axes = [self.axes, ]\n",
    "        self.config_axes = lambda: d2l.set_axes(self.axes[0], xlabel, ylabel, xlim, ylim, xscale, yscale, legend)\n",
    "        self.X, self.Y, self.fmts = None, None, fmts\n",
    "\n",
    "    def add(self, x, y):\n",
    "        # 向图表中添加多个数据点\n",
    "        if not hasattr(y, \"__len__\"):\n",
    "            y = [y]\n",
    "        n = len(y)\n",
    "        if not hasattr(x, \"__len__\"):\n",
    "            x = [x] * n\n",
    "        if not self.X:\n",
    "            self.X = [[] for _ in range(n)]\n",
    "        if not self.Y:\n",
    "            self.Y = [[] for _ in range(n)]\n",
    "        for i, (a, b) in enumerate(zip(x, y)):\n",
    "            if a is not None and b is not None:\n",
    "                self.X[i].append(a)\n",
    "                self.Y[i].append(b)\n",
    "        self.axes[0].cla()\n",
    "        for x, y, fmt in zip(self.X, self.Y, self.fmts):\n",
    "            self.axes[0].plot(x, y, fmt)\n",
    "        self.config_axes()\n",
    "        display.display(self.fig)\n",
    "        display.clear_output(wait=True)"
   ],
   "metadata": {
    "collapsed": false,
    "pycharm": {
     "name": "#%%\n"
    }
   }
  },
  {
   "cell_type": "markdown",
   "source": [
    "### 训练函数"
   ],
   "metadata": {
    "collapsed": false,
    "pycharm": {
     "name": "#%% md\n"
    }
   }
  },
  {
   "cell_type": "code",
   "execution_count": 27,
   "outputs": [],
   "source": [
    "def train(net, train_iter, test_iter, loss, num_epochs, updater):\n",
    "    animator = Animator(xlabel='epoch', xlim=[1, num_epochs], ylim=[.3, .9],\n",
    "                        legend=['train_loss', 'train_acc', 'test_acc'])\n",
    "    for epoch in range(num_epochs):\n",
    "        train_metrics = train_epoch(net, train_iter, loss, updater)\n",
    "        test_acc = net_accuracy(net, test_iter)\n",
    "        animator.add(epoch + 1, train_metrics + (test_acc,))\n",
    "\n",
    "    train_loss, train_acc = train_metrics\n",
    "    assert train_loss < .5, train_loss\n",
    "    assert 1 >= train_acc > .7, train_acc\n",
    "    assert 1 >= test_acc > 0.7, test_acc"
   ],
   "metadata": {
    "collapsed": false,
    "pycharm": {
     "name": "#%%\n"
    }
   }
  },
  {
   "cell_type": "code",
   "execution_count": null,
   "outputs": [],
   "source": [
    "lr = 0.1\n",
    "\n",
    "def updater(batch_size):\n",
    "    return d2l.sgd([W, b], lr, batch_size)\n"
   ],
   "metadata": {
    "collapsed": false,
    "pycharm": {
     "name": "#%%\n",
     "is_executing": true
    }
   }
  },
  {
   "cell_type": "code",
   "execution_count": null,
   "outputs": [],
   "source": [
    "num_epochs = 10\n",
    "train(sm_net, train_iter, test_iter, cross_entropy, num_epochs, updater)"
   ],
   "metadata": {
    "collapsed": false,
    "pycharm": {
     "name": "#%%\n",
     "is_executing": true
    }
   }
  },
  {
   "cell_type": "code",
   "execution_count": 38,
   "outputs": [
    {
     "data": {
      "text/plain": "<Figure size 648x108 with 6 Axes>",
      "image/svg+xml": "<?xml version=\"1.0\" encoding=\"utf-8\" standalone=\"no\"?>\n<!DOCTYPE svg PUBLIC \"-//W3C//DTD SVG 1.1//EN\"\n  \"http://www.w3.org/Graphics/SVG/1.1/DTD/svg11.dtd\">\n<svg xmlns:xlink=\"http://www.w3.org/1999/xlink\" width=\"520.1pt\" height=\"118.198357pt\" viewBox=\"0 0 520.1 118.198357\" xmlns=\"http://www.w3.org/2000/svg\" version=\"1.1\">\n <metadata>\n  <rdf:RDF xmlns:dc=\"http://purl.org/dc/elements/1.1/\" xmlns:cc=\"http://creativecommons.org/ns#\" xmlns:rdf=\"http://www.w3.org/1999/02/22-rdf-syntax-ns#\">\n   <cc:Work>\n    <dc:type rdf:resource=\"http://purl.org/dc/dcmitype/StillImage\"/>\n    <dc:date>2022-03-19T12:12:22.827002</dc:date>\n    <dc:format>image/svg+xml</dc:format>\n    <dc:creator>\n     <cc:Agent>\n      <dc:title>Matplotlib v3.5.1, https://matplotlib.org/</dc:title>\n     </cc:Agent>\n    </dc:creator>\n   </cc:Work>\n  </rdf:RDF>\n </metadata>\n <defs>\n  <style type=\"text/css\">*{stroke-linejoin: round; stroke-linecap: butt}</style>\n </defs>\n <g id=\"figure_1\">\n  <g id=\"patch_1\">\n   <path d=\"M 0 118.198357 \nL 520.1 118.198357 \nL 520.1 0 \nL 0 0 \nL 0 118.198357 \nz\n\" style=\"fill: none\"/>\n  </g>\n  <g id=\"axes_1\">\n   <g id=\"patch_2\">\n    <path d=\"M 10.7 107.498357 \nL 82.442857 107.498357 \nL 82.442857 35.7555 \nL 10.7 35.7555 \nz\n\" style=\"fill: #ffffff\"/>\n   </g>\n   <g clip-path=\"url(#pf1abe1f671)\">\n    <image xlink:href=\"data:image/png;base64,\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\" id=\"imaged9c84cc725\" transform=\"scale(1 -1)translate(0 -72)\" x=\"10.7\" y=\"-35.498357\" width=\"72\" height=\"72\"/>\n   </g>\n   <g id=\"patch_3\">\n    <path d=\"M 10.7 107.498357 \nL 10.7 35.7555 \n\" style=\"fill: none; stroke: #000000; stroke-width: 0.8; stroke-linejoin: miter; stroke-linecap: square\"/>\n   </g>\n   <g id=\"patch_4\">\n    <path d=\"M 82.442857 107.498357 \nL 82.442857 35.7555 \n\" style=\"fill: none; stroke: #000000; stroke-width: 0.8; stroke-linejoin: miter; stroke-linecap: square\"/>\n   </g>\n   <g id=\"patch_5\">\n    <path d=\"M 10.7 107.498357 \nL 82.442857 107.498357 \n\" style=\"fill: none; stroke: #000000; stroke-width: 0.8; stroke-linejoin: miter; stroke-linecap: square\"/>\n   </g>\n   <g id=\"patch_6\">\n    <path d=\"M 10.7 35.7555 \nL 82.442857 35.7555 \n\" style=\"fill: none; stroke: #000000; stroke-width: 0.8; stroke-linejoin: miter; stroke-linecap: square\"/>\n   </g>\n   <g id=\"text_1\">\n    <!-- t-shirt -->\n    <g transform=\"translate(28.640804 16.318125)scale(0.12 -0.12)\">\n     <defs>\n      <path id=\"DejaVuSans-74\" d=\"M 1172 4494 \nL 1172 3500 \nL 2356 3500 \nL 2356 3053 \nL 1172 3053 \nL 1172 1153 \nQ 1172 725 1289 603 \nQ 1406 481 1766 481 \nL 2356 481 \nL 2356 0 \nL 1766 0 \nQ 1100 0 847 248 \nQ 594 497 594 1153 \nL 594 3053 \nL 172 3053 \nL 172 3500 \nL 594 3500 \nL 594 4494 \nL 1172 4494 \nz\n\" transform=\"scale(0.015625)\"/>\n      <path id=\"DejaVuSans-2d\" d=\"M 313 2009 \nL 1997 2009 \nL 1997 1497 \nL 313 1497 \nL 313 2009 \nz\n\" transform=\"scale(0.015625)\"/>\n      <path id=\"DejaVuSans-73\" d=\"M 2834 3397 \nL 2834 2853 \nQ 2591 2978 2328 3040 \nQ 2066 3103 1784 3103 \nQ 1356 3103 1142 2972 \nQ 928 2841 928 2578 \nQ 928 2378 1081 2264 \nQ 1234 2150 1697 2047 \nL 1894 2003 \nQ 2506 1872 2764 1633 \nQ 3022 1394 3022 966 \nQ 3022 478 2636 193 \nQ 2250 -91 1575 -91 \nQ 1294 -91 989 -36 \nQ 684 19 347 128 \nL 347 722 \nQ 666 556 975 473 \nQ 1284 391 1588 391 \nQ 1994 391 2212 530 \nQ 2431 669 2431 922 \nQ 2431 1156 2273 1281 \nQ 2116 1406 1581 1522 \nL 1381 1569 \nQ 847 1681 609 1914 \nQ 372 2147 372 2553 \nQ 372 3047 722 3315 \nQ 1072 3584 1716 3584 \nQ 2034 3584 2315 3537 \nQ 2597 3491 2834 3397 \nz\n\" transform=\"scale(0.015625)\"/>\n      <path id=\"DejaVuSans-68\" d=\"M 3513 2113 \nL 3513 0 \nL 2938 0 \nL 2938 2094 \nQ 2938 2591 2744 2837 \nQ 2550 3084 2163 3084 \nQ 1697 3084 1428 2787 \nQ 1159 2491 1159 1978 \nL 1159 0 \nL 581 0 \nL 581 4863 \nL 1159 4863 \nL 1159 2956 \nQ 1366 3272 1645 3428 \nQ 1925 3584 2291 3584 \nQ 2894 3584 3203 3211 \nQ 3513 2838 3513 2113 \nz\n\" transform=\"scale(0.015625)\"/>\n      <path id=\"DejaVuSans-69\" d=\"M 603 3500 \nL 1178 3500 \nL 1178 0 \nL 603 0 \nL 603 3500 \nz\nM 603 4863 \nL 1178 4863 \nL 1178 4134 \nL 603 4134 \nL 603 4863 \nz\n\" transform=\"scale(0.015625)\"/>\n      <path id=\"DejaVuSans-72\" d=\"M 2631 2963 \nQ 2534 3019 2420 3045 \nQ 2306 3072 2169 3072 \nQ 1681 3072 1420 2755 \nQ 1159 2438 1159 1844 \nL 1159 0 \nL 581 0 \nL 581 3500 \nL 1159 3500 \nL 1159 2956 \nQ 1341 3275 1631 3429 \nQ 1922 3584 2338 3584 \nQ 2397 3584 2469 3576 \nQ 2541 3569 2628 3553 \nL 2631 2963 \nz\n\" transform=\"scale(0.015625)\"/>\n     </defs>\n     <use xlink:href=\"#DejaVuSans-74\"/>\n     <use xlink:href=\"#DejaVuSans-2d\" x=\"39.208984\"/>\n     <use xlink:href=\"#DejaVuSans-73\" x=\"75.292969\"/>\n     <use xlink:href=\"#DejaVuSans-68\" x=\"127.392578\"/>\n     <use xlink:href=\"#DejaVuSans-69\" x=\"190.771484\"/>\n     <use xlink:href=\"#DejaVuSans-72\" x=\"218.554688\"/>\n     <use xlink:href=\"#DejaVuSans-74\" x=\"259.667969\"/>\n    </g>\n    <!-- t-shirt -->\n    <g transform=\"translate(28.640804 29.7555)scale(0.12 -0.12)\">\n     <use xlink:href=\"#DejaVuSans-74\"/>\n     <use xlink:href=\"#DejaVuSans-2d\" x=\"39.208984\"/>\n     <use xlink:href=\"#DejaVuSans-73\" x=\"75.292969\"/>\n     <use xlink:href=\"#DejaVuSans-68\" x=\"127.392578\"/>\n     <use xlink:href=\"#DejaVuSans-69\" x=\"190.771484\"/>\n     <use xlink:href=\"#DejaVuSans-72\" x=\"218.554688\"/>\n     <use xlink:href=\"#DejaVuSans-74\" x=\"259.667969\"/>\n    </g>\n   </g>\n  </g>\n  <g id=\"axes_2\">\n   <g id=\"patch_7\">\n    <path d=\"M 96.791429 107.498357 \nL 168.534286 107.498357 \nL 168.534286 35.7555 \nL 96.791429 35.7555 \nz\n\" style=\"fill: #ffffff\"/>\n   </g>\n   <g clip-path=\"url(#p7f1f6a0afd)\">\n    <image xlink:href=\"data:image/png;base64,\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\" id=\"image987a4beca5\" transform=\"scale(1 -1)translate(0 -72)\" x=\"96.791429\" y=\"-35.498357\" width=\"72\" height=\"72\"/>\n   </g>\n   <g id=\"patch_8\">\n    <path d=\"M 96.791429 107.498357 \nL 96.791429 35.7555 \n\" style=\"fill: none; stroke: #000000; stroke-width: 0.8; stroke-linejoin: miter; stroke-linecap: square\"/>\n   </g>\n   <g id=\"patch_9\">\n    <path d=\"M 168.534286 107.498357 \nL 168.534286 35.7555 \n\" style=\"fill: none; stroke: #000000; stroke-width: 0.8; stroke-linejoin: miter; stroke-linecap: square\"/>\n   </g>\n   <g id=\"patch_10\">\n    <path d=\"M 96.791429 107.498357 \nL 168.534286 107.498357 \n\" style=\"fill: none; stroke: #000000; stroke-width: 0.8; stroke-linejoin: miter; stroke-linecap: square\"/>\n   </g>\n   <g id=\"patch_11\">\n    <path d=\"M 96.791429 35.7555 \nL 168.534286 35.7555 \n\" style=\"fill: none; stroke: #000000; stroke-width: 0.8; stroke-linejoin: miter; stroke-linecap: square\"/>\n   </g>\n   <g id=\"text_2\">\n    <!-- sandal -->\n    <g transform=\"translate(112.905045 16.318125)scale(0.12 -0.12)\">\n     <defs>\n      <path id=\"DejaVuSans-61\" d=\"M 2194 1759 \nQ 1497 1759 1228 1600 \nQ 959 1441 959 1056 \nQ 959 750 1161 570 \nQ 1363 391 1709 391 \nQ 2188 391 2477 730 \nQ 2766 1069 2766 1631 \nL 2766 1759 \nL 2194 1759 \nz\nM 3341 1997 \nL 3341 0 \nL 2766 0 \nL 2766 531 \nQ 2569 213 2275 61 \nQ 1981 -91 1556 -91 \nQ 1019 -91 701 211 \nQ 384 513 384 1019 \nQ 384 1609 779 1909 \nQ 1175 2209 1959 2209 \nL 2766 2209 \nL 2766 2266 \nQ 2766 2663 2505 2880 \nQ 2244 3097 1772 3097 \nQ 1472 3097 1187 3025 \nQ 903 2953 641 2809 \nL 641 3341 \nQ 956 3463 1253 3523 \nQ 1550 3584 1831 3584 \nQ 2591 3584 2966 3190 \nQ 3341 2797 3341 1997 \nz\n\" transform=\"scale(0.015625)\"/>\n      <path id=\"DejaVuSans-6e\" d=\"M 3513 2113 \nL 3513 0 \nL 2938 0 \nL 2938 2094 \nQ 2938 2591 2744 2837 \nQ 2550 3084 2163 3084 \nQ 1697 3084 1428 2787 \nQ 1159 2491 1159 1978 \nL 1159 0 \nL 581 0 \nL 581 3500 \nL 1159 3500 \nL 1159 2956 \nQ 1366 3272 1645 3428 \nQ 1925 3584 2291 3584 \nQ 2894 3584 3203 3211 \nQ 3513 2838 3513 2113 \nz\n\" transform=\"scale(0.015625)\"/>\n      <path id=\"DejaVuSans-64\" d=\"M 2906 2969 \nL 2906 4863 \nL 3481 4863 \nL 3481 0 \nL 2906 0 \nL 2906 525 \nQ 2725 213 2448 61 \nQ 2172 -91 1784 -91 \nQ 1150 -91 751 415 \nQ 353 922 353 1747 \nQ 353 2572 751 3078 \nQ 1150 3584 1784 3584 \nQ 2172 3584 2448 3432 \nQ 2725 3281 2906 2969 \nz\nM 947 1747 \nQ 947 1113 1208 752 \nQ 1469 391 1925 391 \nQ 2381 391 2643 752 \nQ 2906 1113 2906 1747 \nQ 2906 2381 2643 2742 \nQ 2381 3103 1925 3103 \nQ 1469 3103 1208 2742 \nQ 947 2381 947 1747 \nz\n\" transform=\"scale(0.015625)\"/>\n      <path id=\"DejaVuSans-6c\" d=\"M 603 4863 \nL 1178 4863 \nL 1178 0 \nL 603 0 \nL 603 4863 \nz\n\" transform=\"scale(0.015625)\"/>\n     </defs>\n     <use xlink:href=\"#DejaVuSans-73\"/>\n     <use xlink:href=\"#DejaVuSans-61\" x=\"52.099609\"/>\n     <use xlink:href=\"#DejaVuSans-6e\" x=\"113.378906\"/>\n     <use xlink:href=\"#DejaVuSans-64\" x=\"176.757812\"/>\n     <use xlink:href=\"#DejaVuSans-61\" x=\"240.234375\"/>\n     <use xlink:href=\"#DejaVuSans-6c\" x=\"301.513672\"/>\n    </g>\n    <!-- sneaker -->\n    <g transform=\"translate(108.95067 29.7555)scale(0.12 -0.12)\">\n     <defs>\n      <path id=\"DejaVuSans-65\" d=\"M 3597 1894 \nL 3597 1613 \nL 953 1613 \nQ 991 1019 1311 708 \nQ 1631 397 2203 397 \nQ 2534 397 2845 478 \nQ 3156 559 3463 722 \nL 3463 178 \nQ 3153 47 2828 -22 \nQ 2503 -91 2169 -91 \nQ 1331 -91 842 396 \nQ 353 884 353 1716 \nQ 353 2575 817 3079 \nQ 1281 3584 2069 3584 \nQ 2775 3584 3186 3129 \nQ 3597 2675 3597 1894 \nz\nM 3022 2063 \nQ 3016 2534 2758 2815 \nQ 2500 3097 2075 3097 \nQ 1594 3097 1305 2825 \nQ 1016 2553 972 2059 \nL 3022 2063 \nz\n\" transform=\"scale(0.015625)\"/>\n      <path id=\"DejaVuSans-6b\" d=\"M 581 4863 \nL 1159 4863 \nL 1159 1991 \nL 2875 3500 \nL 3609 3500 \nL 1753 1863 \nL 3688 0 \nL 2938 0 \nL 1159 1709 \nL 1159 0 \nL 581 0 \nL 581 4863 \nz\n\" transform=\"scale(0.015625)\"/>\n     </defs>\n     <use xlink:href=\"#DejaVuSans-73\"/>\n     <use xlink:href=\"#DejaVuSans-6e\" x=\"52.099609\"/>\n     <use xlink:href=\"#DejaVuSans-65\" x=\"115.478516\"/>\n     <use xlink:href=\"#DejaVuSans-61\" x=\"177.001953\"/>\n     <use xlink:href=\"#DejaVuSans-6b\" x=\"238.28125\"/>\n     <use xlink:href=\"#DejaVuSans-65\" x=\"292.566406\"/>\n     <use xlink:href=\"#DejaVuSans-72\" x=\"354.089844\"/>\n    </g>\n   </g>\n  </g>\n  <g id=\"axes_3\">\n   <g id=\"patch_12\">\n    <path d=\"M 182.882857 107.498357 \nL 254.625714 107.498357 \nL 254.625714 35.7555 \nL 182.882857 35.7555 \nz\n\" style=\"fill: #ffffff\"/>\n   </g>\n   <g clip-path=\"url(#p42c312d8e8)\">\n    <image xlink:href=\"data:image/png;base64,\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\" id=\"imaged7f2e0558d\" transform=\"scale(1 -1)translate(0 -72)\" x=\"182.882857\" y=\"-35.498357\" width=\"72\" height=\"72\"/>\n   </g>\n   <g id=\"patch_13\">\n    <path d=\"M 182.882857 107.498357 \nL 182.882857 35.7555 \n\" style=\"fill: none; stroke: #000000; stroke-width: 0.8; stroke-linejoin: miter; stroke-linecap: square\"/>\n   </g>\n   <g id=\"patch_14\">\n    <path d=\"M 254.625714 107.498357 \nL 254.625714 35.7555 \n\" style=\"fill: none; stroke: #000000; stroke-width: 0.8; stroke-linejoin: miter; stroke-linecap: square\"/>\n   </g>\n   <g id=\"patch_15\">\n    <path d=\"M 182.882857 107.498357 \nL 254.625714 107.498357 \n\" style=\"fill: none; stroke: #000000; stroke-width: 0.8; stroke-linejoin: miter; stroke-linecap: square\"/>\n   </g>\n   <g id=\"patch_16\">\n    <path d=\"M 182.882857 35.7555 \nL 254.625714 35.7555 \n\" style=\"fill: none; stroke: #000000; stroke-width: 0.8; stroke-linejoin: miter; stroke-linecap: square\"/>\n   </g>\n   <g id=\"text_3\">\n    <!-- t-shirt -->\n    <g transform=\"translate(200.823661 16.318125)scale(0.12 -0.12)\">\n     <use xlink:href=\"#DejaVuSans-74\"/>\n     <use xlink:href=\"#DejaVuSans-2d\" x=\"39.208984\"/>\n     <use xlink:href=\"#DejaVuSans-73\" x=\"75.292969\"/>\n     <use xlink:href=\"#DejaVuSans-68\" x=\"127.392578\"/>\n     <use xlink:href=\"#DejaVuSans-69\" x=\"190.771484\"/>\n     <use xlink:href=\"#DejaVuSans-72\" x=\"218.554688\"/>\n     <use xlink:href=\"#DejaVuSans-74\" x=\"259.667969\"/>\n    </g>\n    <!-- t-shirt -->\n    <g transform=\"translate(200.823661 29.7555)scale(0.12 -0.12)\">\n     <use xlink:href=\"#DejaVuSans-74\"/>\n     <use xlink:href=\"#DejaVuSans-2d\" x=\"39.208984\"/>\n     <use xlink:href=\"#DejaVuSans-73\" x=\"75.292969\"/>\n     <use xlink:href=\"#DejaVuSans-68\" x=\"127.392578\"/>\n     <use xlink:href=\"#DejaVuSans-69\" x=\"190.771484\"/>\n     <use xlink:href=\"#DejaVuSans-72\" x=\"218.554688\"/>\n     <use xlink:href=\"#DejaVuSans-74\" x=\"259.667969\"/>\n    </g>\n   </g>\n  </g>\n  <g id=\"axes_4\">\n   <g id=\"patch_17\">\n    <path d=\"M 268.974286 107.498357 \nL 340.717143 107.498357 \nL 340.717143 35.7555 \nL 268.974286 35.7555 \nz\n\" style=\"fill: #ffffff\"/>\n   </g>\n   <g clip-path=\"url(#p3450029f57)\">\n    <image xlink:href=\"data:image/png;base64,\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\" id=\"image0a485ab205\" transform=\"scale(1 -1)translate(0 -72)\" x=\"268.974286\" y=\"-35.498357\" width=\"72\" height=\"72\"/>\n   </g>\n   <g id=\"patch_18\">\n    <path d=\"M 268.974286 107.498357 \nL 268.974286 35.7555 \n\" style=\"fill: none; stroke: #000000; stroke-width: 0.8; stroke-linejoin: miter; stroke-linecap: square\"/>\n   </g>\n   <g id=\"patch_19\">\n    <path d=\"M 340.717143 107.498357 \nL 340.717143 35.7555 \n\" style=\"fill: none; stroke: #000000; stroke-width: 0.8; stroke-linejoin: miter; stroke-linecap: square\"/>\n   </g>\n   <g id=\"patch_20\">\n    <path d=\"M 268.974286 107.498357 \nL 340.717143 107.498357 \n\" style=\"fill: none; stroke: #000000; stroke-width: 0.8; stroke-linejoin: miter; stroke-linecap: square\"/>\n   </g>\n   <g id=\"patch_21\">\n    <path d=\"M 268.974286 35.7555 \nL 340.717143 35.7555 \n\" style=\"fill: none; stroke: #000000; stroke-width: 0.8; stroke-linejoin: miter; stroke-linecap: square\"/>\n   </g>\n   <g id=\"text_4\">\n    <!-- bag -->\n    <g transform=\"translate(293.550714 16.318125)scale(0.12 -0.12)\">\n     <defs>\n      <path id=\"DejaVuSans-62\" d=\"M 3116 1747 \nQ 3116 2381 2855 2742 \nQ 2594 3103 2138 3103 \nQ 1681 3103 1420 2742 \nQ 1159 2381 1159 1747 \nQ 1159 1113 1420 752 \nQ 1681 391 2138 391 \nQ 2594 391 2855 752 \nQ 3116 1113 3116 1747 \nz\nM 1159 2969 \nQ 1341 3281 1617 3432 \nQ 1894 3584 2278 3584 \nQ 2916 3584 3314 3078 \nQ 3713 2572 3713 1747 \nQ 3713 922 3314 415 \nQ 2916 -91 2278 -91 \nQ 1894 -91 1617 61 \nQ 1341 213 1159 525 \nL 1159 0 \nL 581 0 \nL 581 4863 \nL 1159 4863 \nL 1159 2969 \nz\n\" transform=\"scale(0.015625)\"/>\n      <path id=\"DejaVuSans-67\" d=\"M 2906 1791 \nQ 2906 2416 2648 2759 \nQ 2391 3103 1925 3103 \nQ 1463 3103 1205 2759 \nQ 947 2416 947 1791 \nQ 947 1169 1205 825 \nQ 1463 481 1925 481 \nQ 2391 481 2648 825 \nQ 2906 1169 2906 1791 \nz\nM 3481 434 \nQ 3481 -459 3084 -895 \nQ 2688 -1331 1869 -1331 \nQ 1566 -1331 1297 -1286 \nQ 1028 -1241 775 -1147 \nL 775 -588 \nQ 1028 -725 1275 -790 \nQ 1522 -856 1778 -856 \nQ 2344 -856 2625 -561 \nQ 2906 -266 2906 331 \nL 2906 616 \nQ 2728 306 2450 153 \nQ 2172 0 1784 0 \nQ 1141 0 747 490 \nQ 353 981 353 1791 \nQ 353 2603 747 3093 \nQ 1141 3584 1784 3584 \nQ 2172 3584 2450 3431 \nQ 2728 3278 2906 2969 \nL 2906 3500 \nL 3481 3500 \nL 3481 434 \nz\n\" transform=\"scale(0.015625)\"/>\n     </defs>\n     <use xlink:href=\"#DejaVuSans-62\"/>\n     <use xlink:href=\"#DejaVuSans-61\" x=\"63.476562\"/>\n     <use xlink:href=\"#DejaVuSans-67\" x=\"124.755859\"/>\n    </g>\n    <!-- bag -->\n    <g transform=\"translate(293.550714 29.7555)scale(0.12 -0.12)\">\n     <use xlink:href=\"#DejaVuSans-62\"/>\n     <use xlink:href=\"#DejaVuSans-61\" x=\"63.476562\"/>\n     <use xlink:href=\"#DejaVuSans-67\" x=\"124.755859\"/>\n    </g>\n   </g>\n  </g>\n  <g id=\"axes_5\">\n   <g id=\"patch_22\">\n    <path d=\"M 355.065714 107.498357 \nL 426.808571 107.498357 \nL 426.808571 35.7555 \nL 355.065714 35.7555 \nz\n\" style=\"fill: #ffffff\"/>\n   </g>\n   <g clip-path=\"url(#pe7e1f2c0e3)\">\n    <image xlink:href=\"data:image/png;base64,\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\" id=\"image00bb8e3fde\" transform=\"scale(1 -1)translate(0 -72)\" x=\"355.065714\" y=\"-35.498357\" width=\"72\" height=\"72\"/>\n   </g>\n   <g id=\"patch_23\">\n    <path d=\"M 355.065714 107.498357 \nL 355.065714 35.7555 \n\" style=\"fill: none; stroke: #000000; stroke-width: 0.8; stroke-linejoin: miter; stroke-linecap: square\"/>\n   </g>\n   <g id=\"patch_24\">\n    <path d=\"M 426.808571 107.498357 \nL 426.808571 35.7555 \n\" style=\"fill: none; stroke: #000000; stroke-width: 0.8; stroke-linejoin: miter; stroke-linecap: square\"/>\n   </g>\n   <g id=\"patch_25\">\n    <path d=\"M 355.065714 107.498357 \nL 426.808571 107.498357 \n\" style=\"fill: none; stroke: #000000; stroke-width: 0.8; stroke-linejoin: miter; stroke-linecap: square\"/>\n   </g>\n   <g id=\"patch_26\">\n    <path d=\"M 355.065714 35.7555 \nL 426.808571 35.7555 \n\" style=\"fill: none; stroke: #000000; stroke-width: 0.8; stroke-linejoin: miter; stroke-linecap: square\"/>\n   </g>\n   <g id=\"text_5\">\n    <!-- sneaker -->\n    <g transform=\"translate(367.224955 16.318125)scale(0.12 -0.12)\">\n     <use xlink:href=\"#DejaVuSans-73\"/>\n     <use xlink:href=\"#DejaVuSans-6e\" x=\"52.099609\"/>\n     <use xlink:href=\"#DejaVuSans-65\" x=\"115.478516\"/>\n     <use xlink:href=\"#DejaVuSans-61\" x=\"177.001953\"/>\n     <use xlink:href=\"#DejaVuSans-6b\" x=\"238.28125\"/>\n     <use xlink:href=\"#DejaVuSans-65\" x=\"292.566406\"/>\n     <use xlink:href=\"#DejaVuSans-72\" x=\"354.089844\"/>\n    </g>\n    <!-- sneaker -->\n    <g transform=\"translate(367.224955 29.7555)scale(0.12 -0.12)\">\n     <use xlink:href=\"#DejaVuSans-73\"/>\n     <use xlink:href=\"#DejaVuSans-6e\" x=\"52.099609\"/>\n     <use xlink:href=\"#DejaVuSans-65\" x=\"115.478516\"/>\n     <use xlink:href=\"#DejaVuSans-61\" x=\"177.001953\"/>\n     <use xlink:href=\"#DejaVuSans-6b\" x=\"238.28125\"/>\n     <use xlink:href=\"#DejaVuSans-65\" x=\"292.566406\"/>\n     <use xlink:href=\"#DejaVuSans-72\" x=\"354.089844\"/>\n    </g>\n   </g>\n  </g>\n  <g id=\"axes_6\">\n   <g id=\"patch_27\">\n    <path d=\"M 441.157143 107.498357 \nL 512.9 107.498357 \nL 512.9 35.7555 \nL 441.157143 35.7555 \nz\n\" style=\"fill: #ffffff\"/>\n   </g>\n   <g clip-path=\"url(#p089c469e33)\">\n    <image xlink:href=\"data:image/png;base64,\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\" id=\"imagef60dd9f69d\" transform=\"scale(1 -1)translate(0 -72)\" x=\"441.157143\" y=\"-35.498357\" width=\"72\" height=\"72\"/>\n   </g>\n   <g id=\"patch_28\">\n    <path d=\"M 441.157143 107.498357 \nL 441.157143 35.7555 \n\" style=\"fill: none; stroke: #000000; stroke-width: 0.8; stroke-linejoin: miter; stroke-linecap: square\"/>\n   </g>\n   <g id=\"patch_29\">\n    <path d=\"M 512.9 107.498357 \nL 512.9 35.7555 \n\" style=\"fill: none; stroke: #000000; stroke-width: 0.8; stroke-linejoin: miter; stroke-linecap: square\"/>\n   </g>\n   <g id=\"patch_30\">\n    <path d=\"M 441.157143 107.498357 \nL 512.9 107.498357 \n\" style=\"fill: none; stroke: #000000; stroke-width: 0.8; stroke-linejoin: miter; stroke-linecap: square\"/>\n   </g>\n   <g id=\"patch_31\">\n    <path d=\"M 441.157143 35.7555 \nL 512.9 35.7555 \n\" style=\"fill: none; stroke: #000000; stroke-width: 0.8; stroke-linejoin: miter; stroke-linecap: square\"/>\n   </g>\n   <g id=\"text_6\">\n    <!-- dress -->\n    <g transform=\"translate(460.944821 16.318125)scale(0.12 -0.12)\">\n     <use xlink:href=\"#DejaVuSans-64\"/>\n     <use xlink:href=\"#DejaVuSans-72\" x=\"63.476562\"/>\n     <use xlink:href=\"#DejaVuSans-65\" x=\"102.339844\"/>\n     <use xlink:href=\"#DejaVuSans-73\" x=\"163.863281\"/>\n     <use xlink:href=\"#DejaVuSans-73\" x=\"215.962891\"/>\n    </g>\n    <!-- dress -->\n    <g transform=\"translate(460.944821 29.7555)scale(0.12 -0.12)\">\n     <use xlink:href=\"#DejaVuSans-64\"/>\n     <use xlink:href=\"#DejaVuSans-72\" x=\"63.476562\"/>\n     <use xlink:href=\"#DejaVuSans-65\" x=\"102.339844\"/>\n     <use xlink:href=\"#DejaVuSans-73\" x=\"163.863281\"/>\n     <use xlink:href=\"#DejaVuSans-73\" x=\"215.962891\"/>\n    </g>\n   </g>\n  </g>\n </g>\n <defs>\n  <clipPath id=\"pf1abe1f671\">\n   <rect x=\"10.7\" y=\"35.7555\" width=\"71.742857\" height=\"71.742857\"/>\n  </clipPath>\n  <clipPath id=\"p7f1f6a0afd\">\n   <rect x=\"96.791429\" y=\"35.7555\" width=\"71.742857\" height=\"71.742857\"/>\n  </clipPath>\n  <clipPath id=\"p42c312d8e8\">\n   <rect x=\"182.882857\" y=\"35.7555\" width=\"71.742857\" height=\"71.742857\"/>\n  </clipPath>\n  <clipPath id=\"p3450029f57\">\n   <rect x=\"268.974286\" y=\"35.7555\" width=\"71.742857\" height=\"71.742857\"/>\n  </clipPath>\n  <clipPath id=\"pe7e1f2c0e3\">\n   <rect x=\"355.065714\" y=\"35.7555\" width=\"71.742857\" height=\"71.742857\"/>\n  </clipPath>\n  <clipPath id=\"p089c469e33\">\n   <rect x=\"441.157143\" y=\"35.7555\" width=\"71.742857\" height=\"71.742857\"/>\n  </clipPath>\n </defs>\n</svg>\n"
     },
     "metadata": {
      "needs_background": "light"
     },
     "output_type": "display_data"
    }
   ],
   "source": [
    "def predict(net, test_iter, n=6):  #@save\n",
    "    \"\"\"预测标签（定义见第3章）\"\"\"\n",
    "    for X, y in test_iter:\n",
    "        break\n",
    "    trues = d2l.get_fashion_mnist_labels(y)\n",
    "    preds = d2l.get_fashion_mnist_labels(net(X).argmax(axis=1))\n",
    "    titles = [true + '\\n' + pred for true, pred in zip(trues, preds)]\n",
    "    d2l.show_images(\n",
    "        X[0:n].reshape((n, 28, 28)), 1, n, titles=titles[0:n])\n",
    "\n",
    "\n",
    "predict(sm_net, test_iter)"
   ],
   "metadata": {
    "collapsed": false,
    "pycharm": {
     "name": "#%%\n"
    }
   }
  },
  {
   "cell_type": "code",
   "execution_count": 1,
   "outputs": [
    {
     "ename": "AssertionError",
     "evalue": "82.73",
     "output_type": "error",
     "traceback": [
      "\u001B[0;31m---------------------------------------------------------------------------\u001B[0m",
      "\u001B[0;31mAssertionError\u001B[0m                            Traceback (most recent call last)",
      "Input \u001B[0;32mIn [1]\u001B[0m, in \u001B[0;36m<cell line: 195>\u001B[0;34m()\u001B[0m\n\u001B[1;32m    209\u001B[0m net \u001B[38;5;241m=\u001B[39m sm_net(W, b)\n\u001B[1;32m    210\u001B[0m \u001B[38;5;66;03m# 开始训练网络\u001B[39;00m\n\u001B[0;32m--> 211\u001B[0m \u001B[43mtrain\u001B[49m\u001B[43m(\u001B[49m\u001B[43mnet\u001B[49m\u001B[43m,\u001B[49m\u001B[43m \u001B[49m\u001B[43mtrain_iter\u001B[49m\u001B[43m,\u001B[49m\u001B[43m \u001B[49m\u001B[43mtest_iter\u001B[49m\u001B[43m,\u001B[49m\u001B[43m \u001B[49m\u001B[43mcross_entropy\u001B[49m\u001B[43m,\u001B[49m\u001B[43m \u001B[49m\u001B[43mnum_epochs\u001B[49m\u001B[43m,\u001B[49m\u001B[43m \u001B[49m\u001B[43mupdater\u001B[49m\u001B[43m)\u001B[49m\n\u001B[1;32m    212\u001B[0m \u001B[38;5;66;03m# 预测\u001B[39;00m\n\u001B[1;32m    213\u001B[0m predict(net, test_iter)\n",
      "Input \u001B[0;32mIn [1]\u001B[0m, in \u001B[0;36mtrain\u001B[0;34m(net, train_iter, test_iter, loss, num_epochs, updater)\u001B[0m\n\u001B[1;32m    175\u001B[0m \u001B[38;5;28;01massert\u001B[39;00m train_loss \u001B[38;5;241m<\u001B[39m \u001B[38;5;241m.5\u001B[39m, train_loss\n\u001B[1;32m    176\u001B[0m \u001B[38;5;28;01massert\u001B[39;00m \u001B[38;5;241m1\u001B[39m \u001B[38;5;241m>\u001B[39m\u001B[38;5;241m=\u001B[39m train_acc \u001B[38;5;241m>\u001B[39m \u001B[38;5;241m.7\u001B[39m, train_acc\n\u001B[0;32m--> 177\u001B[0m \u001B[38;5;28;01massert\u001B[39;00m \u001B[38;5;241m1\u001B[39m \u001B[38;5;241m>\u001B[39m\u001B[38;5;241m=\u001B[39m test_acc \u001B[38;5;241m>\u001B[39m \u001B[38;5;241m0.7\u001B[39m, test_acc\n",
      "\u001B[0;31mAssertionError\u001B[0m: 82.73"
     ]
    },
    {
     "data": {
      "text/plain": "<Figure size 252x180 with 1 Axes>",
      "image/svg+xml": "<?xml version=\"1.0\" encoding=\"utf-8\" standalone=\"no\"?>\n<!DOCTYPE svg PUBLIC \"-//W3C//DTD SVG 1.1//EN\"\n  \"http://www.w3.org/Graphics/SVG/1.1/DTD/svg11.dtd\">\n<svg xmlns:xlink=\"http://www.w3.org/1999/xlink\" width=\"238.965625pt\" height=\"180.65625pt\" viewBox=\"0 0 238.965625 180.65625\" xmlns=\"http://www.w3.org/2000/svg\" version=\"1.1\">\n <metadata>\n  <rdf:RDF xmlns:dc=\"http://purl.org/dc/elements/1.1/\" xmlns:cc=\"http://creativecommons.org/ns#\" xmlns:rdf=\"http://www.w3.org/1999/02/22-rdf-syntax-ns#\">\n   <cc:Work>\n    <dc:type rdf:resource=\"http://purl.org/dc/dcmitype/StillImage\"/>\n    <dc:date>2022-03-19T21:26:08.604694</dc:date>\n    <dc:format>image/svg+xml</dc:format>\n    <dc:creator>\n     <cc:Agent>\n      <dc:title>Matplotlib v3.5.1, https://matplotlib.org/</dc:title>\n     </cc:Agent>\n    </dc:creator>\n   </cc:Work>\n  </rdf:RDF>\n </metadata>\n <defs>\n  <style type=\"text/css\">*{stroke-linejoin: round; stroke-linecap: butt}</style>\n </defs>\n <g id=\"figure_1\">\n  <g id=\"patch_1\">\n   <path d=\"M 0 180.65625 \nL 238.965625 180.65625 \nL 238.965625 0 \nL 0 0 \nL 0 180.65625 \nz\n\" style=\"fill: none\"/>\n  </g>\n  <g id=\"axes_1\">\n   <g id=\"patch_2\">\n    <path d=\"M 30.103125 143.1 \nL 225.403125 143.1 \nL 225.403125 7.2 \nL 30.103125 7.2 \nz\n\" style=\"fill: #ffffff\"/>\n   </g>\n   <g id=\"matplotlib.axis_1\">\n    <g id=\"xtick_1\">\n     <g id=\"line2d_1\">\n      <path d=\"M 51.803125 143.1 \nL 51.803125 7.2 \n\" clip-path=\"url(#pc5e934973b)\" style=\"fill: none; stroke: #b0b0b0; stroke-width: 0.8; stroke-linecap: square\"/>\n     </g>\n     <g id=\"line2d_2\">\n      <defs>\n       <path id=\"mb04794e483\" d=\"M 0 0 \nL 0 3.5 \n\" style=\"stroke: #000000; stroke-width: 0.8\"/>\n      </defs>\n      <g>\n       <use xlink:href=\"#mb04794e483\" x=\"51.803125\" y=\"143.1\" style=\"stroke: #000000; stroke-width: 0.8\"/>\n      </g>\n     </g>\n     <g id=\"text_1\">\n      <!-- 2 -->\n      <g transform=\"translate(48.621875 157.698438)scale(0.1 -0.1)\">\n       <defs>\n        <path id=\"DejaVuSans-32\" d=\"M 1228 531 \nL 3431 531 \nL 3431 0 \nL 469 0 \nL 469 531 \nQ 828 903 1448 1529 \nQ 2069 2156 2228 2338 \nQ 2531 2678 2651 2914 \nQ 2772 3150 2772 3378 \nQ 2772 3750 2511 3984 \nQ 2250 4219 1831 4219 \nQ 1534 4219 1204 4116 \nQ 875 4013 500 3803 \nL 500 4441 \nQ 881 4594 1212 4672 \nQ 1544 4750 1819 4750 \nQ 2544 4750 2975 4387 \nQ 3406 4025 3406 3419 \nQ 3406 3131 3298 2873 \nQ 3191 2616 2906 2266 \nQ 2828 2175 2409 1742 \nQ 1991 1309 1228 531 \nz\n\" transform=\"scale(0.015625)\"/>\n       </defs>\n       <use xlink:href=\"#DejaVuSans-32\"/>\n      </g>\n     </g>\n    </g>\n    <g id=\"xtick_2\">\n     <g id=\"line2d_3\">\n      <path d=\"M 95.203125 143.1 \nL 95.203125 7.2 \n\" clip-path=\"url(#pc5e934973b)\" style=\"fill: none; stroke: #b0b0b0; stroke-width: 0.8; stroke-linecap: square\"/>\n     </g>\n     <g id=\"line2d_4\">\n      <g>\n       <use xlink:href=\"#mb04794e483\" x=\"95.203125\" y=\"143.1\" style=\"stroke: #000000; stroke-width: 0.8\"/>\n      </g>\n     </g>\n     <g id=\"text_2\">\n      <!-- 4 -->\n      <g transform=\"translate(92.021875 157.698438)scale(0.1 -0.1)\">\n       <defs>\n        <path id=\"DejaVuSans-34\" d=\"M 2419 4116 \nL 825 1625 \nL 2419 1625 \nL 2419 4116 \nz\nM 2253 4666 \nL 3047 4666 \nL 3047 1625 \nL 3713 1625 \nL 3713 1100 \nL 3047 1100 \nL 3047 0 \nL 2419 0 \nL 2419 1100 \nL 313 1100 \nL 313 1709 \nL 2253 4666 \nz\n\" transform=\"scale(0.015625)\"/>\n       </defs>\n       <use xlink:href=\"#DejaVuSans-34\"/>\n      </g>\n     </g>\n    </g>\n    <g id=\"xtick_3\">\n     <g id=\"line2d_5\">\n      <path d=\"M 138.603125 143.1 \nL 138.603125 7.2 \n\" clip-path=\"url(#pc5e934973b)\" style=\"fill: none; stroke: #b0b0b0; stroke-width: 0.8; stroke-linecap: square\"/>\n     </g>\n     <g id=\"line2d_6\">\n      <g>\n       <use xlink:href=\"#mb04794e483\" x=\"138.603125\" y=\"143.1\" style=\"stroke: #000000; stroke-width: 0.8\"/>\n      </g>\n     </g>\n     <g id=\"text_3\">\n      <!-- 6 -->\n      <g transform=\"translate(135.421875 157.698438)scale(0.1 -0.1)\">\n       <defs>\n        <path id=\"DejaVuSans-36\" d=\"M 2113 2584 \nQ 1688 2584 1439 2293 \nQ 1191 2003 1191 1497 \nQ 1191 994 1439 701 \nQ 1688 409 2113 409 \nQ 2538 409 2786 701 \nQ 3034 994 3034 1497 \nQ 3034 2003 2786 2293 \nQ 2538 2584 2113 2584 \nz\nM 3366 4563 \nL 3366 3988 \nQ 3128 4100 2886 4159 \nQ 2644 4219 2406 4219 \nQ 1781 4219 1451 3797 \nQ 1122 3375 1075 2522 \nQ 1259 2794 1537 2939 \nQ 1816 3084 2150 3084 \nQ 2853 3084 3261 2657 \nQ 3669 2231 3669 1497 \nQ 3669 778 3244 343 \nQ 2819 -91 2113 -91 \nQ 1303 -91 875 529 \nQ 447 1150 447 2328 \nQ 447 3434 972 4092 \nQ 1497 4750 2381 4750 \nQ 2619 4750 2861 4703 \nQ 3103 4656 3366 4563 \nz\n\" transform=\"scale(0.015625)\"/>\n       </defs>\n       <use xlink:href=\"#DejaVuSans-36\"/>\n      </g>\n     </g>\n    </g>\n    <g id=\"xtick_4\">\n     <g id=\"line2d_7\">\n      <path d=\"M 182.003125 143.1 \nL 182.003125 7.2 \n\" clip-path=\"url(#pc5e934973b)\" style=\"fill: none; stroke: #b0b0b0; stroke-width: 0.8; stroke-linecap: square\"/>\n     </g>\n     <g id=\"line2d_8\">\n      <g>\n       <use xlink:href=\"#mb04794e483\" x=\"182.003125\" y=\"143.1\" style=\"stroke: #000000; stroke-width: 0.8\"/>\n      </g>\n     </g>\n     <g id=\"text_4\">\n      <!-- 8 -->\n      <g transform=\"translate(178.821875 157.698438)scale(0.1 -0.1)\">\n       <defs>\n        <path id=\"DejaVuSans-38\" d=\"M 2034 2216 \nQ 1584 2216 1326 1975 \nQ 1069 1734 1069 1313 \nQ 1069 891 1326 650 \nQ 1584 409 2034 409 \nQ 2484 409 2743 651 \nQ 3003 894 3003 1313 \nQ 3003 1734 2745 1975 \nQ 2488 2216 2034 2216 \nz\nM 1403 2484 \nQ 997 2584 770 2862 \nQ 544 3141 544 3541 \nQ 544 4100 942 4425 \nQ 1341 4750 2034 4750 \nQ 2731 4750 3128 4425 \nQ 3525 4100 3525 3541 \nQ 3525 3141 3298 2862 \nQ 3072 2584 2669 2484 \nQ 3125 2378 3379 2068 \nQ 3634 1759 3634 1313 \nQ 3634 634 3220 271 \nQ 2806 -91 2034 -91 \nQ 1263 -91 848 271 \nQ 434 634 434 1313 \nQ 434 1759 690 2068 \nQ 947 2378 1403 2484 \nz\nM 1172 3481 \nQ 1172 3119 1398 2916 \nQ 1625 2713 2034 2713 \nQ 2441 2713 2670 2916 \nQ 2900 3119 2900 3481 \nQ 2900 3844 2670 4047 \nQ 2441 4250 2034 4250 \nQ 1625 4250 1398 4047 \nQ 1172 3844 1172 3481 \nz\n\" transform=\"scale(0.015625)\"/>\n       </defs>\n       <use xlink:href=\"#DejaVuSans-38\"/>\n      </g>\n     </g>\n    </g>\n    <g id=\"xtick_5\">\n     <g id=\"line2d_9\">\n      <path d=\"M 225.403125 143.1 \nL 225.403125 7.2 \n\" clip-path=\"url(#pc5e934973b)\" style=\"fill: none; stroke: #b0b0b0; stroke-width: 0.8; stroke-linecap: square\"/>\n     </g>\n     <g id=\"line2d_10\">\n      <g>\n       <use xlink:href=\"#mb04794e483\" x=\"225.403125\" y=\"143.1\" style=\"stroke: #000000; stroke-width: 0.8\"/>\n      </g>\n     </g>\n     <g id=\"text_5\">\n      <!-- 10 -->\n      <g transform=\"translate(219.040625 157.698438)scale(0.1 -0.1)\">\n       <defs>\n        <path id=\"DejaVuSans-31\" d=\"M 794 531 \nL 1825 531 \nL 1825 4091 \nL 703 3866 \nL 703 4441 \nL 1819 4666 \nL 2450 4666 \nL 2450 531 \nL 3481 531 \nL 3481 0 \nL 794 0 \nL 794 531 \nz\n\" transform=\"scale(0.015625)\"/>\n        <path id=\"DejaVuSans-30\" d=\"M 2034 4250 \nQ 1547 4250 1301 3770 \nQ 1056 3291 1056 2328 \nQ 1056 1369 1301 889 \nQ 1547 409 2034 409 \nQ 2525 409 2770 889 \nQ 3016 1369 3016 2328 \nQ 3016 3291 2770 3770 \nQ 2525 4250 2034 4250 \nz\nM 2034 4750 \nQ 2819 4750 3233 4129 \nQ 3647 3509 3647 2328 \nQ 3647 1150 3233 529 \nQ 2819 -91 2034 -91 \nQ 1250 -91 836 529 \nQ 422 1150 422 2328 \nQ 422 3509 836 4129 \nQ 1250 4750 2034 4750 \nz\n\" transform=\"scale(0.015625)\"/>\n       </defs>\n       <use xlink:href=\"#DejaVuSans-31\"/>\n       <use xlink:href=\"#DejaVuSans-30\" x=\"63.623047\"/>\n      </g>\n     </g>\n    </g>\n    <g id=\"text_6\">\n     <!-- epoch -->\n     <g transform=\"translate(112.525 171.376563)scale(0.1 -0.1)\">\n      <defs>\n       <path id=\"DejaVuSans-65\" d=\"M 3597 1894 \nL 3597 1613 \nL 953 1613 \nQ 991 1019 1311 708 \nQ 1631 397 2203 397 \nQ 2534 397 2845 478 \nQ 3156 559 3463 722 \nL 3463 178 \nQ 3153 47 2828 -22 \nQ 2503 -91 2169 -91 \nQ 1331 -91 842 396 \nQ 353 884 353 1716 \nQ 353 2575 817 3079 \nQ 1281 3584 2069 3584 \nQ 2775 3584 3186 3129 \nQ 3597 2675 3597 1894 \nz\nM 3022 2063 \nQ 3016 2534 2758 2815 \nQ 2500 3097 2075 3097 \nQ 1594 3097 1305 2825 \nQ 1016 2553 972 2059 \nL 3022 2063 \nz\n\" transform=\"scale(0.015625)\"/>\n       <path id=\"DejaVuSans-70\" d=\"M 1159 525 \nL 1159 -1331 \nL 581 -1331 \nL 581 3500 \nL 1159 3500 \nL 1159 2969 \nQ 1341 3281 1617 3432 \nQ 1894 3584 2278 3584 \nQ 2916 3584 3314 3078 \nQ 3713 2572 3713 1747 \nQ 3713 922 3314 415 \nQ 2916 -91 2278 -91 \nQ 1894 -91 1617 61 \nQ 1341 213 1159 525 \nz\nM 3116 1747 \nQ 3116 2381 2855 2742 \nQ 2594 3103 2138 3103 \nQ 1681 3103 1420 2742 \nQ 1159 2381 1159 1747 \nQ 1159 1113 1420 752 \nQ 1681 391 2138 391 \nQ 2594 391 2855 752 \nQ 3116 1113 3116 1747 \nz\n\" transform=\"scale(0.015625)\"/>\n       <path id=\"DejaVuSans-6f\" d=\"M 1959 3097 \nQ 1497 3097 1228 2736 \nQ 959 2375 959 1747 \nQ 959 1119 1226 758 \nQ 1494 397 1959 397 \nQ 2419 397 2687 759 \nQ 2956 1122 2956 1747 \nQ 2956 2369 2687 2733 \nQ 2419 3097 1959 3097 \nz\nM 1959 3584 \nQ 2709 3584 3137 3096 \nQ 3566 2609 3566 1747 \nQ 3566 888 3137 398 \nQ 2709 -91 1959 -91 \nQ 1206 -91 779 398 \nQ 353 888 353 1747 \nQ 353 2609 779 3096 \nQ 1206 3584 1959 3584 \nz\n\" transform=\"scale(0.015625)\"/>\n       <path id=\"DejaVuSans-63\" d=\"M 3122 3366 \nL 3122 2828 \nQ 2878 2963 2633 3030 \nQ 2388 3097 2138 3097 \nQ 1578 3097 1268 2742 \nQ 959 2388 959 1747 \nQ 959 1106 1268 751 \nQ 1578 397 2138 397 \nQ 2388 397 2633 464 \nQ 2878 531 3122 666 \nL 3122 134 \nQ 2881 22 2623 -34 \nQ 2366 -91 2075 -91 \nQ 1284 -91 818 406 \nQ 353 903 353 1747 \nQ 353 2603 823 3093 \nQ 1294 3584 2113 3584 \nQ 2378 3584 2631 3529 \nQ 2884 3475 3122 3366 \nz\n\" transform=\"scale(0.015625)\"/>\n       <path id=\"DejaVuSans-68\" d=\"M 3513 2113 \nL 3513 0 \nL 2938 0 \nL 2938 2094 \nQ 2938 2591 2744 2837 \nQ 2550 3084 2163 3084 \nQ 1697 3084 1428 2787 \nQ 1159 2491 1159 1978 \nL 1159 0 \nL 581 0 \nL 581 4863 \nL 1159 4863 \nL 1159 2956 \nQ 1366 3272 1645 3428 \nQ 1925 3584 2291 3584 \nQ 2894 3584 3203 3211 \nQ 3513 2838 3513 2113 \nz\n\" transform=\"scale(0.015625)\"/>\n      </defs>\n      <use xlink:href=\"#DejaVuSans-65\"/>\n      <use xlink:href=\"#DejaVuSans-70\" x=\"61.523438\"/>\n      <use xlink:href=\"#DejaVuSans-6f\" x=\"125\"/>\n      <use xlink:href=\"#DejaVuSans-63\" x=\"186.181641\"/>\n      <use xlink:href=\"#DejaVuSans-68\" x=\"241.162109\"/>\n     </g>\n    </g>\n   </g>\n   <g id=\"matplotlib.axis_2\">\n    <g id=\"ytick_1\">\n     <g id=\"line2d_11\">\n      <path d=\"M 30.103125 120.45 \nL 225.403125 120.45 \n\" clip-path=\"url(#pc5e934973b)\" style=\"fill: none; stroke: #b0b0b0; stroke-width: 0.8; stroke-linecap: square\"/>\n     </g>\n     <g id=\"line2d_12\">\n      <defs>\n       <path id=\"mc81c2ee845\" d=\"M 0 0 \nL -3.5 0 \n\" style=\"stroke: #000000; stroke-width: 0.8\"/>\n      </defs>\n      <g>\n       <use xlink:href=\"#mc81c2ee845\" x=\"30.103125\" y=\"120.45\" style=\"stroke: #000000; stroke-width: 0.8\"/>\n      </g>\n     </g>\n     <g id=\"text_7\">\n      <!-- 0.4 -->\n      <g transform=\"translate(7.2 124.249219)scale(0.1 -0.1)\">\n       <defs>\n        <path id=\"DejaVuSans-2e\" d=\"M 684 794 \nL 1344 794 \nL 1344 0 \nL 684 0 \nL 684 794 \nz\n\" transform=\"scale(0.015625)\"/>\n       </defs>\n       <use xlink:href=\"#DejaVuSans-30\"/>\n       <use xlink:href=\"#DejaVuSans-2e\" x=\"63.623047\"/>\n       <use xlink:href=\"#DejaVuSans-34\" x=\"95.410156\"/>\n      </g>\n     </g>\n    </g>\n    <g id=\"ytick_2\">\n     <g id=\"line2d_13\">\n      <path d=\"M 30.103125 75.15 \nL 225.403125 75.15 \n\" clip-path=\"url(#pc5e934973b)\" style=\"fill: none; stroke: #b0b0b0; stroke-width: 0.8; stroke-linecap: square\"/>\n     </g>\n     <g id=\"line2d_14\">\n      <g>\n       <use xlink:href=\"#mc81c2ee845\" x=\"30.103125\" y=\"75.15\" style=\"stroke: #000000; stroke-width: 0.8\"/>\n      </g>\n     </g>\n     <g id=\"text_8\">\n      <!-- 0.6 -->\n      <g transform=\"translate(7.2 78.949219)scale(0.1 -0.1)\">\n       <use xlink:href=\"#DejaVuSans-30\"/>\n       <use xlink:href=\"#DejaVuSans-2e\" x=\"63.623047\"/>\n       <use xlink:href=\"#DejaVuSans-36\" x=\"95.410156\"/>\n      </g>\n     </g>\n    </g>\n    <g id=\"ytick_3\">\n     <g id=\"line2d_15\">\n      <path d=\"M 30.103125 29.85 \nL 225.403125 29.85 \n\" clip-path=\"url(#pc5e934973b)\" style=\"fill: none; stroke: #b0b0b0; stroke-width: 0.8; stroke-linecap: square\"/>\n     </g>\n     <g id=\"line2d_16\">\n      <g>\n       <use xlink:href=\"#mc81c2ee845\" x=\"30.103125\" y=\"29.85\" style=\"stroke: #000000; stroke-width: 0.8\"/>\n      </g>\n     </g>\n     <g id=\"text_9\">\n      <!-- 0.8 -->\n      <g transform=\"translate(7.2 33.649219)scale(0.1 -0.1)\">\n       <use xlink:href=\"#DejaVuSans-30\"/>\n       <use xlink:href=\"#DejaVuSans-2e\" x=\"63.623047\"/>\n       <use xlink:href=\"#DejaVuSans-38\" x=\"95.410156\"/>\n      </g>\n     </g>\n    </g>\n   </g>\n   <g id=\"line2d_17\">\n    <path d=\"M 30.103125 70.045543 \nL 51.803125 100.241276 \nL 73.503125 105.394029 \nL 95.203125 109.004304 \nL 116.903125 111.147458 \nL 138.603125 112.992476 \nL 160.303125 113.678531 \nL 182.003125 114.810181 \nL 203.703125 115.30716 \nL 225.403125 116.322039 \n\" clip-path=\"url(#pc5e934973b)\" style=\"fill: none; stroke: #1f77b4; stroke-width: 1.5; stroke-linecap: square\"/>\n   </g>\n   <g id=\"line2d_18\">\n    <path d=\"M 30.103125 32.10745 \nL 51.803125 22.417025 \nL 73.503125 21.00895 \nL 95.203125 19.7028 \nL 116.903125 18.913825 \nL 138.603125 18.151275 \nL 160.303125 18.09465 \nL 182.003125 17.713375 \nL 203.703125 17.600125 \nL 225.403125 17.1207 \n\" clip-path=\"url(#pc5e934973b)\" style=\"fill: none; stroke-dasharray: 5.55,2.4; stroke-dashoffset: 0; stroke: #bf00bf; stroke-width: 1.5\"/>\n   </g>\n   <g id=\"line2d_19\">\n    <path clip-path=\"url(#pc5e934973b)\" style=\"fill: none; stroke-dasharray: 9.6,2.4,1.5,2.4; stroke-dashoffset: 0; stroke: #008000; stroke-width: 1.5\"/>\n   </g>\n   <g id=\"patch_3\">\n    <path d=\"M 30.103125 143.1 \nL 30.103125 7.2 \n\" style=\"fill: none; stroke: #000000; stroke-width: 0.8; stroke-linejoin: miter; stroke-linecap: square\"/>\n   </g>\n   <g id=\"patch_4\">\n    <path d=\"M 225.403125 143.1 \nL 225.403125 7.2 \n\" style=\"fill: none; stroke: #000000; stroke-width: 0.8; stroke-linejoin: miter; stroke-linecap: square\"/>\n   </g>\n   <g id=\"patch_5\">\n    <path d=\"M 30.103125 143.1 \nL 225.403125 143.1 \n\" style=\"fill: none; stroke: #000000; stroke-width: 0.8; stroke-linejoin: miter; stroke-linecap: square\"/>\n   </g>\n   <g id=\"patch_6\">\n    <path d=\"M 30.103125 7.2 \nL 225.403125 7.2 \n\" style=\"fill: none; stroke: #000000; stroke-width: 0.8; stroke-linejoin: miter; stroke-linecap: square\"/>\n   </g>\n   <g id=\"legend_1\">\n    <g id=\"patch_7\">\n     <path d=\"M 138.8125 99.084375 \nL 218.403125 99.084375 \nQ 220.403125 99.084375 220.403125 97.084375 \nL 220.403125 53.215625 \nQ 220.403125 51.215625 218.403125 51.215625 \nL 138.8125 51.215625 \nQ 136.8125 51.215625 136.8125 53.215625 \nL 136.8125 97.084375 \nQ 136.8125 99.084375 138.8125 99.084375 \nz\n\" style=\"fill: #ffffff; opacity: 0.8; stroke: #cccccc; stroke-linejoin: miter\"/>\n    </g>\n    <g id=\"line2d_20\">\n     <path d=\"M 140.8125 59.314062 \nL 150.8125 59.314062 \nL 160.8125 59.314062 \n\" style=\"fill: none; stroke: #1f77b4; stroke-width: 1.5; stroke-linecap: square\"/>\n    </g>\n    <g id=\"text_10\">\n     <!-- train_loss -->\n     <g transform=\"translate(168.8125 62.814062)scale(0.1 -0.1)\">\n      <defs>\n       <path id=\"DejaVuSans-74\" d=\"M 1172 4494 \nL 1172 3500 \nL 2356 3500 \nL 2356 3053 \nL 1172 3053 \nL 1172 1153 \nQ 1172 725 1289 603 \nQ 1406 481 1766 481 \nL 2356 481 \nL 2356 0 \nL 1766 0 \nQ 1100 0 847 248 \nQ 594 497 594 1153 \nL 594 3053 \nL 172 3053 \nL 172 3500 \nL 594 3500 \nL 594 4494 \nL 1172 4494 \nz\n\" transform=\"scale(0.015625)\"/>\n       <path id=\"DejaVuSans-72\" d=\"M 2631 2963 \nQ 2534 3019 2420 3045 \nQ 2306 3072 2169 3072 \nQ 1681 3072 1420 2755 \nQ 1159 2438 1159 1844 \nL 1159 0 \nL 581 0 \nL 581 3500 \nL 1159 3500 \nL 1159 2956 \nQ 1341 3275 1631 3429 \nQ 1922 3584 2338 3584 \nQ 2397 3584 2469 3576 \nQ 2541 3569 2628 3553 \nL 2631 2963 \nz\n\" transform=\"scale(0.015625)\"/>\n       <path id=\"DejaVuSans-61\" d=\"M 2194 1759 \nQ 1497 1759 1228 1600 \nQ 959 1441 959 1056 \nQ 959 750 1161 570 \nQ 1363 391 1709 391 \nQ 2188 391 2477 730 \nQ 2766 1069 2766 1631 \nL 2766 1759 \nL 2194 1759 \nz\nM 3341 1997 \nL 3341 0 \nL 2766 0 \nL 2766 531 \nQ 2569 213 2275 61 \nQ 1981 -91 1556 -91 \nQ 1019 -91 701 211 \nQ 384 513 384 1019 \nQ 384 1609 779 1909 \nQ 1175 2209 1959 2209 \nL 2766 2209 \nL 2766 2266 \nQ 2766 2663 2505 2880 \nQ 2244 3097 1772 3097 \nQ 1472 3097 1187 3025 \nQ 903 2953 641 2809 \nL 641 3341 \nQ 956 3463 1253 3523 \nQ 1550 3584 1831 3584 \nQ 2591 3584 2966 3190 \nQ 3341 2797 3341 1997 \nz\n\" transform=\"scale(0.015625)\"/>\n       <path id=\"DejaVuSans-69\" d=\"M 603 3500 \nL 1178 3500 \nL 1178 0 \nL 603 0 \nL 603 3500 \nz\nM 603 4863 \nL 1178 4863 \nL 1178 4134 \nL 603 4134 \nL 603 4863 \nz\n\" transform=\"scale(0.015625)\"/>\n       <path id=\"DejaVuSans-6e\" d=\"M 3513 2113 \nL 3513 0 \nL 2938 0 \nL 2938 2094 \nQ 2938 2591 2744 2837 \nQ 2550 3084 2163 3084 \nQ 1697 3084 1428 2787 \nQ 1159 2491 1159 1978 \nL 1159 0 \nL 581 0 \nL 581 3500 \nL 1159 3500 \nL 1159 2956 \nQ 1366 3272 1645 3428 \nQ 1925 3584 2291 3584 \nQ 2894 3584 3203 3211 \nQ 3513 2838 3513 2113 \nz\n\" transform=\"scale(0.015625)\"/>\n       <path id=\"DejaVuSans-5f\" d=\"M 3263 -1063 \nL 3263 -1509 \nL -63 -1509 \nL -63 -1063 \nL 3263 -1063 \nz\n\" transform=\"scale(0.015625)\"/>\n       <path id=\"DejaVuSans-6c\" d=\"M 603 4863 \nL 1178 4863 \nL 1178 0 \nL 603 0 \nL 603 4863 \nz\n\" transform=\"scale(0.015625)\"/>\n       <path id=\"DejaVuSans-73\" d=\"M 2834 3397 \nL 2834 2853 \nQ 2591 2978 2328 3040 \nQ 2066 3103 1784 3103 \nQ 1356 3103 1142 2972 \nQ 928 2841 928 2578 \nQ 928 2378 1081 2264 \nQ 1234 2150 1697 2047 \nL 1894 2003 \nQ 2506 1872 2764 1633 \nQ 3022 1394 3022 966 \nQ 3022 478 2636 193 \nQ 2250 -91 1575 -91 \nQ 1294 -91 989 -36 \nQ 684 19 347 128 \nL 347 722 \nQ 666 556 975 473 \nQ 1284 391 1588 391 \nQ 1994 391 2212 530 \nQ 2431 669 2431 922 \nQ 2431 1156 2273 1281 \nQ 2116 1406 1581 1522 \nL 1381 1569 \nQ 847 1681 609 1914 \nQ 372 2147 372 2553 \nQ 372 3047 722 3315 \nQ 1072 3584 1716 3584 \nQ 2034 3584 2315 3537 \nQ 2597 3491 2834 3397 \nz\n\" transform=\"scale(0.015625)\"/>\n      </defs>\n      <use xlink:href=\"#DejaVuSans-74\"/>\n      <use xlink:href=\"#DejaVuSans-72\" x=\"39.208984\"/>\n      <use xlink:href=\"#DejaVuSans-61\" x=\"80.322266\"/>\n      <use xlink:href=\"#DejaVuSans-69\" x=\"141.601562\"/>\n      <use xlink:href=\"#DejaVuSans-6e\" x=\"169.384766\"/>\n      <use xlink:href=\"#DejaVuSans-5f\" x=\"232.763672\"/>\n      <use xlink:href=\"#DejaVuSans-6c\" x=\"282.763672\"/>\n      <use xlink:href=\"#DejaVuSans-6f\" x=\"310.546875\"/>\n      <use xlink:href=\"#DejaVuSans-73\" x=\"371.728516\"/>\n      <use xlink:href=\"#DejaVuSans-73\" x=\"423.828125\"/>\n     </g>\n    </g>\n    <g id=\"line2d_21\">\n     <path d=\"M 140.8125 74.270312 \nL 150.8125 74.270312 \nL 160.8125 74.270312 \n\" style=\"fill: none; stroke-dasharray: 5.55,2.4; stroke-dashoffset: 0; stroke: #bf00bf; stroke-width: 1.5\"/>\n    </g>\n    <g id=\"text_11\">\n     <!-- train_acc -->\n     <g transform=\"translate(168.8125 77.770312)scale(0.1 -0.1)\">\n      <use xlink:href=\"#DejaVuSans-74\"/>\n      <use xlink:href=\"#DejaVuSans-72\" x=\"39.208984\"/>\n      <use xlink:href=\"#DejaVuSans-61\" x=\"80.322266\"/>\n      <use xlink:href=\"#DejaVuSans-69\" x=\"141.601562\"/>\n      <use xlink:href=\"#DejaVuSans-6e\" x=\"169.384766\"/>\n      <use xlink:href=\"#DejaVuSans-5f\" x=\"232.763672\"/>\n      <use xlink:href=\"#DejaVuSans-61\" x=\"282.763672\"/>\n      <use xlink:href=\"#DejaVuSans-63\" x=\"344.042969\"/>\n      <use xlink:href=\"#DejaVuSans-63\" x=\"399.023438\"/>\n     </g>\n    </g>\n    <g id=\"line2d_22\">\n     <path d=\"M 140.8125 89.226562 \nL 150.8125 89.226562 \nL 160.8125 89.226562 \n\" style=\"fill: none; stroke-dasharray: 9.6,2.4,1.5,2.4; stroke-dashoffset: 0; stroke: #008000; stroke-width: 1.5\"/>\n    </g>\n    <g id=\"text_12\">\n     <!-- test_acc -->\n     <g transform=\"translate(168.8125 92.726562)scale(0.1 -0.1)\">\n      <use xlink:href=\"#DejaVuSans-74\"/>\n      <use xlink:href=\"#DejaVuSans-65\" x=\"39.208984\"/>\n      <use xlink:href=\"#DejaVuSans-73\" x=\"100.732422\"/>\n      <use xlink:href=\"#DejaVuSans-74\" x=\"152.832031\"/>\n      <use xlink:href=\"#DejaVuSans-5f\" x=\"192.041016\"/>\n      <use xlink:href=\"#DejaVuSans-61\" x=\"242.041016\"/>\n      <use xlink:href=\"#DejaVuSans-63\" x=\"303.320312\"/>\n      <use xlink:href=\"#DejaVuSans-63\" x=\"358.300781\"/>\n     </g>\n    </g>\n   </g>\n  </g>\n </g>\n <defs>\n  <clipPath id=\"pc5e934973b\">\n   <rect x=\"30.103125\" y=\"7.2\" width=\"195.3\" height=\"135.9\"/>\n  </clipPath>\n </defs>\n</svg>\n"
     },
     "metadata": {
      "needs_background": "light"
     },
     "output_type": "display_data"
    }
   ],
   "source": [
    "import torch\n",
    "import torchvision\n",
    "from torch.utils import data\n",
    "from torchvision import transforms\n",
    "import d2l\n",
    "from Timer import Timer\n",
    "from IPython import display\n",
    "\n",
    "\n",
    "class Accumulator:\n",
    "    '''在n个变量上累加'''\n",
    "\n",
    "    def __init__(self, n):\n",
    "        self.data = [.0] * n\n",
    "\n",
    "    def add(self, *args):\n",
    "        num = 0\n",
    "        for arg in args:\n",
    "            self.data[num] += float(arg)\n",
    "            num += 1\n",
    "        # 添加数据\n",
    "        # self.data = [a + float(b) for a, b in zip(self.data, args)]\n",
    "\n",
    "    def reset(self):\n",
    "        # 归零\n",
    "        self.data = [.0] * len(self.data)\n",
    "\n",
    "    def __getitem__(self, idx):\n",
    "        return self.data[idx]\n",
    "\n",
    "\n",
    "class sm_net:\n",
    "    def __init__(self, W, b):\n",
    "        self.W = W\n",
    "        self.b = b\n",
    "        self.count_times = 0\n",
    "\n",
    "    def count(self, X):\n",
    "        # self.count_times += 1\n",
    "        # print(self.count_times)\n",
    "        return softmax(torch.matmul(X.reshape(-1, self.W.shape[0]), self.W) + self.b)\n",
    "\n",
    "\n",
    "class Animator:\n",
    "    def __init__(self, xlabel=None, ylabel=None, legend=None, xlim=None, ylim=None, xscale='linear', yscale='linear',\n",
    "                 fmts=('-', 'm--', 'g-.', 'r:'), nrows=1, ncols=1,\n",
    "                 figsize=(3.5, 2.5)):\n",
    "        if legend is None:\n",
    "            legend = []\n",
    "        d2l.use_svg_display()\n",
    "        self.fig, self.axes = d2l.plt.subplots(nrows, ncols, figsize=figsize)\n",
    "        if nrows * ncols == 1:\n",
    "            self.axes = [self.axes, ]\n",
    "        self.config_axes = lambda: d2l.set_axes(self.axes[0], xlabel, ylabel, xlim, ylim, xscale, yscale, legend)\n",
    "        self.X, self.Y, self.fmts = None, None, fmts\n",
    "\n",
    "    def add(self, x, y):\n",
    "        # 向图表中添加多个数据点\n",
    "        if not hasattr(y, \"__len__\"):\n",
    "            y = [y]\n",
    "        n = len(y)\n",
    "        if not hasattr(x, \"__len__\"):\n",
    "            x = [x] * n\n",
    "        if not self.X:\n",
    "            self.X = [[] for _ in range(n)]\n",
    "        if not self.Y:\n",
    "            self.Y = [[] for _ in range(n)]\n",
    "        for i, (a, b) in enumerate(zip(x, y)):\n",
    "            if a is not None and b is not None:\n",
    "                self.X[i].append(a)\n",
    "                self.Y[i].append(b)\n",
    "        self.axes[0].cla()\n",
    "        for x, y, fmt in zip(self.X, self.Y, self.fmts):\n",
    "            self.axes[0].plot(x, y, fmt)\n",
    "        self.config_axes()\n",
    "        display.display(self.fig)\n",
    "        display.clear_output(wait=True)\n",
    "\n",
    "\n",
    "def loadFashionMnistData(batch_size, resize=None):\n",
    "    \"\"\"\n",
    "    下载FashionMnist数据集并加载到内存中\n",
    "    :param batch_size:\n",
    "    :param resize:\n",
    "    :return:返回训练集和测试集的DataLoader\n",
    "    \"\"\"\n",
    "    # 通过ToTenser()这个类 将图像数据从PIL类型转为浮点型的tensor类型,并除以255使得所有的像素数值均在0-1之间(归一化)  #需要下载将download改为True\n",
    "    trans = [transforms.ToTensor()]\n",
    "    if resize:\n",
    "        trans.insert(0, transforms.Resize(resize))\n",
    "    trans = transforms.Compose(trans)\n",
    "    mnist_train = torchvision.datasets.FashionMNIST(root=\"./data\", train=True, transform=trans, download=False)\n",
    "    mnist_test = torchvision.datasets.FashionMNIST(root=\"./data\", train=False, transform=trans, download=False)\n",
    "    print(\"数据集加载成功\", len(mnist_train), len(mnist_test))  # 60000 ,10000\n",
    "\n",
    "    num_workers = 4  # 设置读取图片的进程数量 小于cpu的核心数\n",
    "    return (data.DataLoader(mnist_train, batch_size, shuffle=True, num_workers=num_workers),\n",
    "            data.DataLoader(mnist_test, batch_size, shuffle=True, num_workers=num_workers))\n",
    "\n",
    "\n",
    "def get_fashion_mnist_labels(labels):\n",
    "    \"\"\"返回Fashion-MNIST数据集的文本标签\"\"\"\n",
    "    text_labels = ['t-shirt', 'trouser', 'pullover', 'dress', 'coat',\n",
    "                   'sandal', 'shirt', 'sneaker', 'bag', 'ankle boot']\n",
    "    return [text_labels[int(i)] for i in labels]\n",
    "\n",
    "\n",
    "def softmax(x):\n",
    "    \"\"\"\n",
    "    求得所有的x的softmax值\n",
    "    :param x:计算的矩阵\n",
    "    :return: 返回每个位置的比例\n",
    "    \"\"\"\n",
    "    X_exp = torch.exp(x)\n",
    "    partition = X_exp.sum(1, keepdim=True)\n",
    "    return X_exp / partition\n",
    "\n",
    "\n",
    "def cross_entropy(y_hat, y):\n",
    "    \"\"\"计算交叉熵\"\"\"\n",
    "    return -torch.log(y_hat[range(len(y_hat)), y])\n",
    "\n",
    "\n",
    "def num_correct(y_hat, y):\n",
    "    if len(y_hat.shape) > 1 and y_hat.shape[1] > 1:\n",
    "        y_hat = y_hat.argmax(axis=1)\n",
    "    cmp = y_hat.type(y.dtype) == y\n",
    "    return cmp.type(torch.int).sum()\n",
    "\n",
    "\n",
    "def net_accuracy(net, data_iter):\n",
    "    if isinstance(net, torch.nn.Module):\n",
    "        # 判断net是不是nn的一个模块 如果是 将网络设置为评估模式 告诉其不要计算梯度了 只用计算准确率\n",
    "        net.eval()\n",
    "\n",
    "    metric = Accumulator(2)\n",
    "    with torch.no_grad():\n",
    "        for X, y in data_iter:\n",
    "            metric.add(num_correct(net.count(X), y), y.numel())\n",
    "    return float(metric[0]) * 100 / metric[1]\n",
    "\n",
    "@profile\n",
    "def train_epoch(net, train_iter, loss, updater):\n",
    "    if isinstance(net, torch.nn.Module):\n",
    "        net.train()  # 设置为训练模式\n",
    "    metric = Accumulator(3)\n",
    "    for X, y in train_iter:\n",
    "        y_hat = net.count(X)\n",
    "        l = loss(y_hat, y)\n",
    "        if isinstance(updater, torch.optim.Optimizer):\n",
    "            updater.zero_grad()\n",
    "            l.backward()\n",
    "            updater.step()\n",
    "        else:\n",
    "            l.sum().backward()\n",
    "            updater(net, X.shape[0])\n",
    "        metric.add(\n",
    "            float(l.sum()),\n",
    "            num_correct(y_hat, y),\n",
    "            y.numel()\n",
    "        )\n",
    "    return metric[0] / metric[2], metric[1] / metric[2]\n",
    "\n",
    "\n",
    "def train(net, train_iter, test_iter, loss, num_epochs, updater):\n",
    "    animator = Animator(xlabel='epoch', xlim=[1, num_epochs], ylim=[.3, .9],\n",
    "                        legend=['train_loss', 'train_acc', 'test_acc'])\n",
    "    for epoch in range(num_epochs):\n",
    "        print(('*' * 10 + str(epoch + 1) + '*' * 10).center(50))\n",
    "        train_metrics = train_epoch(net, train_iter, loss, updater)\n",
    "        test_acc = net_accuracy(net, test_iter)\n",
    "        animator.add(epoch + 1, train_metrics + (test_acc,))\n",
    "\n",
    "    train_loss, train_acc = train_metrics\n",
    "    # assert train_loss < .5, train_loss\n",
    "    # assert 1 >= train_acc > .7, train_acc\n",
    "    # assert 1 >= test_acc > 0.7, test_acc\n",
    "\n",
    "\n",
    "def updater(net, batch_size):\n",
    "    return d2l.sgd([net.W, net.b], lr, batch_size)\n",
    "\n",
    "\n",
    "def predict(net, test_iter, n=6):  # @save\n",
    "    \"\"\"预测标签\"\"\"\n",
    "    for X, y in test_iter:\n",
    "        break\n",
    "    trues = get_fashion_mnist_labels(y)\n",
    "    preds = get_fashion_mnist_labels(net.count(X).argmax(axis=1))\n",
    "    titles = [true + '\\n' + pred for true, pred in zip(trues, preds)]\n",
    "    d2l.show_images(\n",
    "        X[0:n].reshape((n, 28, 28)), 1, n, titles=titles[0:n])\n",
    "\n",
    "\n",
    "if __name__ == '__main__':\n",
    "    batch_size = 64\n",
    "    # 加载数据集\n",
    "    train_iter, test_iter = loadFashionMnistData(batch_size)\n",
    "\n",
    "    num_inputs = 784\n",
    "    num_outputs = 10\n",
    "    lr = 0.1\n",
    "\n",
    "    # 初始化权重\n",
    "    W = torch.normal(0, .01, size=(num_inputs, num_outputs), requires_grad=True)\n",
    "    b = torch.zeros(num_outputs, requires_grad=True)\n",
    "\n",
    "    num_epochs = 10\n",
    "    net = sm_net(W, b)\n",
    "    # 开始训练网络\n",
    "    train(net, train_iter, test_iter, cross_entropy, num_epochs, updater)\n",
    "    # 预测\n",
    "    predict(net, test_iter)\n",
    "    pass"
   ],
   "metadata": {
    "collapsed": false,
    "pycharm": {
     "name": "#%%\n"
    }
   }
  },
  {
   "cell_type": "markdown",
   "source": [
    "## Softmax框架实现"
   ],
   "metadata": {
    "collapsed": false,
    "pycharm": {
     "name": "#%% md\n"
    }
   }
  },
  {
   "cell_type": "code",
   "execution_count": 2,
   "outputs": [
    {
     "name": "stderr",
     "output_type": "stream",
     "text": [
      "/Users/zane/miniforge3/envs/torch/lib/python3.8/site-packages/tqdm/auto.py:22: TqdmWarning: IProgress not found. Please update jupyter and ipywidgets. See https://ipywidgets.readthedocs.io/en/stable/user_install.html\n",
      "  from .autonotebook import tqdm as notebook_tqdm\n"
     ]
    },
    {
     "name": "stdout",
     "output_type": "stream",
     "text": [
      "数据集加载成功 60000 10000\n"
     ]
    }
   ],
   "source": [
    "import torch\n",
    "from torch import nn\n",
    "import d2l\n",
    "import softmax底层\n",
    "\n",
    "batch_size = 256\n",
    "train_iter,test_iter = softmax底层.loadFashionMnistData(batch_size)"
   ],
   "metadata": {
    "collapsed": false,
    "pycharm": {
     "name": "#%%\n"
    }
   }
  },
  {
   "cell_type": "markdown",
   "source": [
    "### softmax是一个单层的全连接层"
   ],
   "metadata": {
    "collapsed": false,
    "pycharm": {
     "name": "#%% md\n"
    }
   }
  },
  {
   "cell_type": "code",
   "execution_count": 3,
   "outputs": [],
   "source": [
    "# torch不会隐式地调整输入的形状 例如从28*28转至1*784 因此 我们需要在线性层前通过定义展平层 flatten()来调整网络的输入形状\n",
    "net = nn.Sequential(nn.Flatten(), nn.Linear(784, 10))\n",
    "loss = nn.CrossEntropyLoss()"
   ],
   "metadata": {
    "collapsed": false,
    "pycharm": {
     "name": "#%%\n"
    }
   }
  },
  {
   "cell_type": "markdown",
   "source": [
    "初始化权重"
   ],
   "metadata": {
    "collapsed": false,
    "pycharm": {
     "name": "#%% md\n"
    }
   }
  },
  {
   "cell_type": "code",
   "execution_count": 4,
   "outputs": [],
   "source": [
    "def init_weights(module):\n",
    "    if type(module) == nn.Linear:\n",
    "        nn.init.normal_(module.weight, std=.1)"
   ],
   "metadata": {
    "collapsed": false,
    "pycharm": {
     "name": "#%%\n"
    }
   }
  },
  {
   "cell_type": "code",
   "execution_count": 5,
   "outputs": [
    {
     "data": {
      "text/plain": "Sequential(\n  (0): Flatten(start_dim=1, end_dim=-1)\n  (1): Linear(in_features=784, out_features=10, bias=True)\n)"
     },
     "execution_count": 5,
     "metadata": {},
     "output_type": "execute_result"
    }
   ],
   "source": [
    "net.apply(init_weights)"
   ],
   "metadata": {
    "collapsed": false,
    "pycharm": {
     "name": "#%%\n"
    }
   }
  },
  {
   "cell_type": "code",
   "execution_count": null,
   "outputs": [],
   "source": [
    "trainer = torch.optim.SGD(net.parameters(), lr=.1)"
   ],
   "metadata": {
    "collapsed": false,
    "pycharm": {
     "name": "#%%\n"
    }
   }
  },
  {
   "cell_type": "code",
   "execution_count": null,
   "outputs": [],
   "source": [
    "epochs =10\n",
    "softmax底层.train(net,train_iter,test_iter,loss,epochs,trainer)"
   ],
   "metadata": {
    "collapsed": false,
    "pycharm": {
     "name": "#%%\n"
    }
   }
  },
  {
   "cell_type": "markdown",
   "source": [],
   "metadata": {
    "collapsed": false,
    "pycharm": {
     "name": "#%% md\n"
    }
   }
  }
 ],
 "metadata": {
  "kernelspec": {
   "display_name": "Python 3",
   "language": "python",
   "name": "python3"
  },
  "language_info": {
   "codemirror_mode": {
    "name": "ipython",
    "version": 2
   },
   "file_extension": ".py",
   "mimetype": "text/x-python",
   "name": "python",
   "nbconvert_exporter": "python",
   "pygments_lexer": "ipython2",
   "version": "2.7.6"
  }
 },
 "nbformat": 4,
 "nbformat_minor": 0
}