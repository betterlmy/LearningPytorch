{
 "cells": [
  {
   "cell_type": "markdown",
   "metadata": {},
   "source": [
    "### 注意力评分函数\n"
   ]
  },
  {
   "cell_type": "markdown",
   "metadata": {},
   "source": [
    "假设有查询$\\mathbf{q} \\in \\mathbb{R}^q$和m个Key-Value Pair\n",
    "$(\\mathbf{k}_1, \\mathbf{v}_1), \\ldots, (\\mathbf{k}_m,\\mathbf{v}_m)$,其中$\\mathbb{k_i} \\in \\mathbb{R^k},\\mathbf{v_i} \\in \\mathbb{R^v}$注意力汇聚函数$f$就被表示成值的加权和:\n",
    "$$f(\\mathbf{q}, (\\mathbf{k}_1, \\mathbf{v}_1), \\ldots, (\\mathbf{k}_m, \\mathbf{v}_m)) = \\sum_{i=1}^m \\alpha(\\mathbf{q}, \\mathbf{k}_i) \\mathbf{v}_i \\in \\mathbb{R}^v,$$\n",
    "其中,$\\mathbf{q}和\\mathbf{k_i}$的注意力权重通过注意力评分函数$a$将两个向量映射成标量,再经过softmax运算得到:\n",
    "$$\n",
    "\\alpha(\\mathbf{q},\\mathbf{k}_i)=\\mathrm{softmax}(a(\\mathbf{q},\\mathbf{k}_i)) = \\frac {\\exp(a(\\mathbf{q},\\mathbf{k}_j))}{\\sum_{j=1}^m \\exp(a(\\mathbf{q},\\mathbf{k}_j))} \\in \\mathbb{R}\n",
    "$$\n"
   ]
  },
  {
   "cell_type": "markdown",
   "metadata": {},
   "source": [
    "不同的注意力评分函数会导致不同的注意力汇聚操作."
   ]
  },
  {
   "cell_type": "code",
   "execution_count": 2,
   "metadata": {},
   "outputs": [
    {
     "name": "stderr",
     "output_type": "stream",
     "text": [
      "/Users/zane/miniforge3/envs/torch/lib/python3.9/site-packages/torchvision/io/image.py:13: UserWarning: Failed to load image Python extension: dlopen(/Users/zane/miniforge3/envs/torch/lib/python3.9/site-packages/torchvision/image.so, 0x0006): Library not loaded: @rpath/libpng16.16.dylib\n",
      "  Referenced from: <C5023A15-CF0B-3BCA-A7A1-8343A4696561> /Users/zane/miniforge3/envs/torch/lib/python3.9/site-packages/torchvision/image.so\n",
      "  Reason: tried: '/Users/ec2-user/actions-runner/_work/vision/vision/conda-env-2408739877/lib/libpng16.16.dylib' (no such file), '/System/Volumes/Preboot/Cryptexes/OS/Users/ec2-user/actions-runner/_work/vision/vision/conda-env-2408739877/lib/libpng16.16.dylib' (no such file), '/Users/ec2-user/actions-runner/_work/vision/vision/conda-env-2408739877/lib/libpng16.16.dylib' (no such file), '/System/Volumes/Preboot/Cryptexes/OS/Users/ec2-user/actions-runner/_work/vision/vision/conda-env-2408739877/lib/libpng16.16.dylib' (no such file), '/Users/ec2-user/actions-runner/_work/vision/vision/conda-env-2408739877/lib/libpng16.16.dylib' (no such file), '/System/Volumes/Preboot/Cryptexes/OS/Users/ec2-user/actions-runner/_work/vision/vision/conda-env-2408739877/lib/libpng16.16.dylib' (no such file), '/Users/ec2-user/actions-runner/_work/vision/vision/conda-env-2408739877/lib/libpng16.16.dylib' (no such file), '/System/Volumes/Preboot/Cryptexes/OS/Users/ec2-user/actions-runner/_work/vision/vision/conda-env-2408739877/lib/libpng16.16.dylib' (no such file), '/Users/zane/miniforge3/envs/torch/lib/python3.9/lib-dynload/../../libpng16.16.dylib' (no such file), '/Users/zane/miniforge3/envs/torch/bin/../lib/libpng16.16.dylib' (no such file), '/System/Volumes/Preboot/Cryptexes/OS@rpath/libpng16.16.dylib' (no such file), '/Users/ec2-user/actions-runner/_work/vision/vision/conda-env-2408739877/lib/libpng16.16.dylib' (no such file), '/System/Volumes/Preboot/Cryptexes/OS/Users/ec2-user/actions-runner/_work/vision/vision/conda-env-2408739877/lib/libpng16.16.dylib' (no such file), '/Users/ec2-user/actions-runner/_work/vision/vision/conda-env-2408739877/lib/libpng16.16.dylib' (no such file), '/System/Volumes/Preboot/Cryptexes/OS/Users/ec2-user/actions-runner/_work/vision/vision/conda-env-2408739877/lib/libpng16.16.dylib' (no such file), '/Users/ec2-user/actions-runner/_work/vision/vision/conda-env-2408739877/lib/libpng16.16.dylib' (no such file), '/System/Volumes/Preboot/Cryptexes/OS/Users/ec2-user/actions-runner/_work/vision/vision/conda-env-2408739877/lib/libpng16.16.dylib' (no such file), '/Users/ec2-user/actions-runner/_work/vision/vision/conda-env-2408739877/lib/libpng16.16.dylib' (no such file), '/System/Volumes/Preboot/Cryptexes/OS/Users/ec2-user/actions-runner/_work/vision/vision/conda-env-2408739877/lib/libpng16.16.dylib' (no such file), '/Users/zane/miniforge3/envs/torch/lib/python3.9/lib-dynload/../../libpng16.16.dylib' (no such file), '/Users/zane/miniforge3/envs/torch/bin/../lib/libpng16.16.dylib' (no such file), '/usr/local/lib/libpng16.16.dylib' (no such file), '/usr/lib/libpng16.16.dylib' (no such file, not in dyld cache)\n",
      "  warn(f\"Failed to load image Python extension: {e}\")\n"
     ]
    }
   ],
   "source": [
    "import math\n",
    "import torch\n",
    "from torch import nn\n",
    "import sys,os\n",
    "sys.path.append(os.path.abspath(\"../\"))\n",
    "import lmy\n",
    "from lmy import show_heatmaps\n",
    "import d2l\n"
   ]
  },
  {
   "cell_type": "markdown",
   "metadata": {},
   "source": [
    "#### 掩码softmax操作\n",
    "目的:删除部分无意义的,长度超限的元素,进行softmax操作."
   ]
  },
  {
   "cell_type": "code",
   "execution_count": 3,
   "metadata": {},
   "outputs": [],
   "source": [
    "def masked_softmax(X,valid_lens):\n",
    "    if valid_lens is None:\n",
    "        return nn.functional.softmax(X,dim=-1)\n",
    "    else:\n",
    "        shape = X.shape\n",
    "        if valid_lens.dim() == 1:\n",
    "            valid_lens = torch.repeat_interleave(valid_lens,shape[1])\n",
    "        else:\n",
    "            valid_lens = valid_lens.reshape(-1) \n",
    "        X = d2l.sequence_mask(X.reshape(-1,shape[-1]),valid_lens,value=-1e6)\n",
    "        X= X.reshape(shape)\n",
    "        print(X)\n",
    "        return nn.functional.softmax(X,dim=-1)"
   ]
  },
  {
   "cell_type": "code",
   "execution_count": 4,
   "metadata": {},
   "outputs": [
    {
     "name": "stdout",
     "output_type": "stream",
     "text": [
      "tensor([ 1.0000e+00,  2.0000e+00,  3.0000e+00, -1.0000e+06])\n"
     ]
    },
    {
     "data": {
      "text/plain": [
       "tensor([0.0900, 0.2447, 0.6652, 0.0000])"
      ]
     },
     "execution_count": 4,
     "metadata": {},
     "output_type": "execute_result"
    }
   ],
   "source": [
    "masked_softmax(torch.arange(1, 5,dtype=torch.float32), torch.tensor(3))"
   ]
  },
  {
   "cell_type": "code",
   "execution_count": 5,
   "metadata": {},
   "outputs": [
    {
     "data": {
      "text/plain": [
       "(tensor([1., 2., 3.]), tensor([0.0900, 0.2447, 0.6652]))"
      ]
     },
     "execution_count": 5,
     "metadata": {},
     "output_type": "execute_result"
    }
   ],
   "source": [
    "# 效果与上述相同\n",
    "X = torch.arange(1,4,dtype=torch.float32)\n",
    "X,X.softmax(-1)"
   ]
  },
  {
   "cell_type": "markdown",
   "metadata": {},
   "source": [
    "### 加性注意力\n",
    "一般来说,当Query和Key是不同长度的矢量时,我们可以使用加性注意力作为评分函数.给定一个查询$q \\in \\mathbb{R}^q$和键$k \\in \\mathbb{R}^k$,additive attention 的评分函数为\n",
    "$$\n",
    "a(q,k) = \\mathbf{w}_v^T\\mathrm{tanh}(\\mathbf{w}_q q+\\mathbf{w}_k k ) \\in \\mathbb{R}\n",
    "$$\n",
    ",其中可学习的参数是wq和wk,wv.将查询和键连接到一起后输入到一个MLP中,感知机包含一个隐含层,单元数量为超参数h,使用tanh作为激活函数且禁止偏置项."
   ]
  },
  {
   "cell_type": "code",
   "execution_count": 6,
   "metadata": {},
   "outputs": [],
   "source": [
    "class AdditiveAttention(nn.Module):\n",
    "    \"\"\"加性注意力\"\"\"\n",
    "\n",
    "    def __init__(self, key_size, query_size, num_hiddens, dropout, **kwargs):\n",
    "        super().__init__(**kwargs)\n",
    "        self.W_k = nn.Linear(key_size, num_hiddens, bias=False)  # 不添加偏置\n",
    "        self.W_q = nn.Linear(query_size, num_hiddens, bias=False)\n",
    "        self.w_v = nn.Linear(num_hiddens, 1, bias=False)\n",
    "        self.dropout = nn.Dropout(dropout)\n",
    "\n",
    "    def forward(self, queries, keys, values, valid_lens):\n",
    "        queries = self.W_q(queries)\n",
    "        keys = self.W_k(keys)\n",
    "        # 在维度扩展之后， Q的形状(batch_size, 查询的个数，1，num_hiddens)\n",
    "        # K的形状(batch_size, 1 ，键值对个数，hun_hiddens)\n",
    "\n",
    "        # 使用广播的方式进行求和\n",
    "        features = queries.unsqueeze(2)+keys.unsqueeze(1)\n",
    "        features = torch.tanh(features)\n",
    "        # self.w_v 只有一个输出,因此从形状中移除最后那个维度\n",
    "        # scores形状(batch_size,查询的个数,键值对的个数)\n",
    "        scores = self.w_v(features).squeeze(-1)\n",
    "        self.attention_weights = masked_softmax(scores, valid_lens)\n",
    "        return torch.bmm(self.dropout(self.attention_weights), values)\n"
   ]
  },
  {
   "cell_type": "code",
   "execution_count": 12,
   "metadata": {},
   "outputs": [
    {
     "name": "stdout",
     "output_type": "stream",
     "text": [
      "tensor([[[ 7.4718e-02,  7.4718e-02, -1.0000e+06, -1.0000e+06, -1.0000e+06,\n",
      "          -1.0000e+06, -1.0000e+06, -1.0000e+06, -1.0000e+06, -1.0000e+06]],\n",
      "\n",
      "        [[-1.3514e-02, -1.3514e-02, -1.3514e-02, -1.3514e-02, -1.3514e-02,\n",
      "          -1.3514e-02, -1.0000e+06, -1.0000e+06, -1.0000e+06, -1.0000e+06]]],\n",
      "       grad_fn=<ReshapeAliasBackward0>)\n"
     ]
    },
    {
     "data": {
      "text/plain": [
       "tensor([[[ 2.0000,  3.0000,  4.0000,  5.0000]],\n",
       "\n",
       "        [[10.0000, 11.0000, 12.0000, 13.0000]]], grad_fn=<BmmBackward0>)"
      ]
     },
     "execution_count": 12,
     "metadata": {},
     "output_type": "execute_result"
    }
   ],
   "source": [
    "queries = torch.normal(0, 1, size=(2, 1, 20))\n",
    "keys = torch.ones((2, 10, 2))\n",
    "values = torch.arange(40,dtype= torch.float32).reshape(1,10,4).repeat(2,1,1)\n",
    "# queries,keys,values.shape\n",
    "valid_lens = torch.tensor([2,6])\n",
    "attention = AdditiveAttention(key_size=2,query_size=20,num_hiddens=8,dropout=.1)\n",
    "attention.eval() # evaluation\n",
    "attention(queries,keys,values,valid_lens)"
   ]
  },
  {
   "cell_type": "code",
   "execution_count": null,
   "metadata": {},
   "outputs": [],
   "source": []
  }
 ],
 "metadata": {
  "interpreter": {
   "hash": "d8bc75a386d56b6551c17e1904f8529f6445721752a10015ef716c860769d0c0"
  },
  "kernelspec": {
   "display_name": "Python 3.8.12 ('torch')",
   "language": "python",
   "name": "python3"
  },
  "language_info": {
   "codemirror_mode": {
    "name": "ipython",
    "version": 3
   },
   "file_extension": ".py",
   "mimetype": "text/x-python",
   "name": "python",
   "nbconvert_exporter": "python",
   "pygments_lexer": "ipython3",
   "version": "3.9.13"
  },
  "orig_nbformat": 4
 },
 "nbformat": 4,
 "nbformat_minor": 2
}
