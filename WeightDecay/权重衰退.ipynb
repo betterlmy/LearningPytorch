{
 "cells": [
  {
   "cell_type": "markdown",
   "source": [
    "## 权重衰退通过控制定义域进行限制\n",
    "\n"
   ],
   "metadata": {
    "collapsed": false,
    "pycharm": {
     "name": "#%% md\n"
    }
   }
  },
  {
   "cell_type": "markdown",
   "source": [
    "### 1.通过使用均方误差作硬性限制"
   ],
   "metadata": {
    "collapsed": false,
    "pycharm": {
     "name": "#%% md\n"
    }
   }
  },
  {
   "cell_type": "markdown",
   "source": [
    "正常情况下\n",
    "目标函数 = $min$ $l(\\omega,\\beta)$\n",
    "但是 通过subject to $||\\omega||^2 \\le \\theta$,并且不对偏置进行限制,小的限制意味着更强的正则性"
   ],
   "metadata": {
    "collapsed": false,
    "pycharm": {
     "name": "#%% md\n"
    }
   }
  },
  {
   "cell_type": "markdown",
   "source": [
    "### 2.使用均方误差作软性限制(加入惩罚项)"
   ],
   "metadata": {
    "collapsed": false,
    "pycharm": {
     "name": "#%% md\n"
    }
   }
  },
  {
   "cell_type": "markdown",
   "source": [
    "* 对于每个$\\theta$,都可以找到一个$\\lambda$使得之前的目标函数等价于下面的\n",
    "    $min$ $l(\\omega,\\beta)+\\frac{\\lambda}{2}||\\omega||^2$ 后方称作惩罚项\n",
    "* 可以通过拉格朗日乘子来证明\n",
    "* 超参数$\\lambda$控制了正则项的重要程度 $\\lambda$越大,惩罚越大,对w的限制越多\n",
    "* $\\lambda$ = 0 :无作用\n",
    "* $\\lambda -> \\infty$:w*->0\n",
    "* 罚的引入,将w的位置向原点拉伸"
   ],
   "metadata": {
    "collapsed": false,
    "pycharm": {
     "name": "#%% md\n"
    }
   }
  },
  {
   "cell_type": "markdown",
   "source": [
    "$\\frac{\\partial}{\\partial \\omega}\\left( l(w,b)+\\frac{\\lambda}{2}||w||^2\\right)=\\frac{\\partial}{\\partial \\omega} $"
   ],
   "metadata": {
    "collapsed": false,
    "pycharm": {
     "name": "#%% md\n"
    }
   }
  },
  {
   "cell_type": "markdown",
   "source": [],
   "metadata": {
    "collapsed": false
   }
  }
 ],
 "metadata": {
  "kernelspec": {
   "display_name": "Python 3",
   "language": "python",
   "name": "python3"
  },
  "language_info": {
   "codemirror_mode": {
    "name": "ipython",
    "version": 2
   },
   "file_extension": ".py",
   "mimetype": "text/x-python",
   "name": "python",
   "nbconvert_exporter": "python",
   "pygments_lexer": "ipython2",
   "version": "2.7.6"
  }
 },
 "nbformat": 4,
 "nbformat_minor": 0
}