{
 "cells": [
  {
   "cell_type": "markdown",
   "metadata": {
    "pycharm": {
     "name": "#%% md\n"
    }
   },
   "source": [
    "# 多GPU训练"
   ]
  },
  {
   "cell_type": "markdown",
   "metadata": {
    "pycharm": {
     "name": "#%% md\n"
    }
   },
   "source": [
    "将问题分散到多个GPU上，例如每个GPU计算16个通道的数据，而非一个GPU计算64通道"
   ]
  },
  {
   "cell_type": "markdown",
   "metadata": {
    "pycharm": {
     "name": "#%% md\n"
    }
   },
   "source": [
    "K个GPU进行数据并行实验：\n",
    "   * 将随机小批量分成k份，均匀的分配到k个GPU上\n",
    "   * 每个GPU根据分得的数据计算模型参数的损失和梯度\n",
    "   * 将k个GPU的梯度进行聚合，获得当前小批量的随机梯度\n",
    "   * 聚合梯度重新分配到每个GPU中\n",
    "   * 每个GPU使用这个小批量随机梯度，来更近它所维护的完整的模型参数集"
   ]
  },
  {
   "cell_type": "code",
   "execution_count": 2,
   "outputs": [
    {
     "name": "stdout",
     "output_type": "stream",
     "text": [
      "Looking in indexes: https://pypi.tuna.tsinghua.edu.cn/simple\r\n",
      "Collecting d2l\r\n",
      "  Using cached https://pypi.tuna.tsinghua.edu.cn/packages/6a/be/eb453dbdd80d0563e2a6dac4aff8b76b0c24641d20b05e85b560f90282f9/d2l-0.17.5-py3-none-any.whl (82 kB)\r\n",
      "Requirement already satisfied: pandas==1.2.4 in /home/anaconda3/envs/lmypy/lib/python3.9/site-packages (from d2l) (1.2.4)\r\n",
      "Requirement already satisfied: requests==2.25.1 in /home/anaconda3/envs/lmypy/lib/python3.9/site-packages (from d2l) (2.25.1)\r\n",
      "Requirement already satisfied: jupyter==1.0.0 in /home/anaconda3/envs/lmypy/lib/python3.9/site-packages (from d2l) (1.0.0)\r\n",
      "Requirement already satisfied: numpy==1.21.5 in /home/anaconda3/envs/lmypy/lib/python3.9/site-packages (from d2l) (1.21.5)\r\n",
      "Requirement already satisfied: matplotlib==3.5.1 in /home/anaconda3/envs/lmypy/lib/python3.9/site-packages (from d2l) (3.5.1)\r\n",
      "Requirement already satisfied: nbconvert in /home/anaconda3/envs/lmypy/lib/python3.9/site-packages (from jupyter==1.0.0->d2l) (6.4.5)\r\n",
      "Requirement already satisfied: ipykernel in /home/anaconda3/envs/lmypy/lib/python3.9/site-packages (from jupyter==1.0.0->d2l) (6.10.0)\r\n",
      "Requirement already satisfied: qtconsole in /home/anaconda3/envs/lmypy/lib/python3.9/site-packages (from jupyter==1.0.0->d2l) (5.3.0)\r\n",
      "Requirement already satisfied: ipywidgets in /home/anaconda3/envs/lmypy/lib/python3.9/site-packages (from jupyter==1.0.0->d2l) (7.7.0)\r\n",
      "Requirement already satisfied: jupyter-console in /home/anaconda3/envs/lmypy/lib/python3.9/site-packages (from jupyter==1.0.0->d2l) (6.4.3)\r\n",
      "Requirement already satisfied: notebook in /home/anaconda3/envs/lmypy/lib/python3.9/site-packages (from jupyter==1.0.0->d2l) (6.4.10)\r\n",
      "Requirement already satisfied: pyparsing>=2.2.1 in /home/anaconda3/envs/lmypy/lib/python3.9/site-packages (from matplotlib==3.5.1->d2l) (3.0.7)\r\n",
      "Requirement already satisfied: kiwisolver>=1.0.1 in /home/anaconda3/envs/lmypy/lib/python3.9/site-packages (from matplotlib==3.5.1->d2l) (1.4.2)\r\n",
      "Requirement already satisfied: pillow>=6.2.0 in /home/anaconda3/envs/lmypy/lib/python3.9/site-packages (from matplotlib==3.5.1->d2l) (9.0.1)\r\n",
      "Requirement already satisfied: fonttools>=4.22.0 in /home/anaconda3/envs/lmypy/lib/python3.9/site-packages (from matplotlib==3.5.1->d2l) (4.31.2)\r\n",
      "Requirement already satisfied: python-dateutil>=2.7 in /home/anaconda3/envs/lmypy/lib/python3.9/site-packages (from matplotlib==3.5.1->d2l) (2.8.2)\r\n",
      "Requirement already satisfied: packaging>=20.0 in /home/anaconda3/envs/lmypy/lib/python3.9/site-packages (from matplotlib==3.5.1->d2l) (21.3)\r\n",
      "Requirement already satisfied: cycler>=0.10 in /home/anaconda3/envs/lmypy/lib/python3.9/site-packages (from matplotlib==3.5.1->d2l) (0.11.0)\r\n",
      "Requirement already satisfied: pytz>=2017.3 in /home/anaconda3/envs/lmypy/lib/python3.9/site-packages (from pandas==1.2.4->d2l) (2022.1)\r\n",
      "Requirement already satisfied: idna<3,>=2.5 in /home/anaconda3/envs/lmypy/lib/python3.9/site-packages (from requests==2.25.1->d2l) (2.10)\r\n",
      "Requirement already satisfied: urllib3<1.27,>=1.21.1 in /home/anaconda3/envs/lmypy/lib/python3.9/site-packages (from requests==2.25.1->d2l) (1.26.9)\r\n",
      "Requirement already satisfied: chardet<5,>=3.0.2 in /home/anaconda3/envs/lmypy/lib/python3.9/site-packages (from requests==2.25.1->d2l) (4.0.0)\r\n",
      "Requirement already satisfied: certifi>=2017.4.17 in /home/anaconda3/envs/lmypy/lib/python3.9/site-packages (from requests==2.25.1->d2l) (2021.10.8)\r\n",
      "Requirement already satisfied: six>=1.5 in /home/anaconda3/envs/lmypy/lib/python3.9/site-packages (from python-dateutil>=2.7->matplotlib==3.5.1->d2l) (1.16.0)\r\n",
      "Requirement already satisfied: nest-asyncio in /home/anaconda3/envs/lmypy/lib/python3.9/site-packages (from ipykernel->jupyter==1.0.0->d2l) (1.5.4)\r\n",
      "Requirement already satisfied: jupyter-client<8.0 in /home/anaconda3/envs/lmypy/lib/python3.9/site-packages (from ipykernel->jupyter==1.0.0->d2l) (7.2.0)\r\n",
      "Requirement already satisfied: debugpy<2.0,>=1.0.0 in /home/anaconda3/envs/lmypy/lib/python3.9/site-packages (from ipykernel->jupyter==1.0.0->d2l) (1.6.0)\r\n",
      "Requirement already satisfied: tornado<7.0,>=5.0 in /home/anaconda3/envs/lmypy/lib/python3.9/site-packages (from ipykernel->jupyter==1.0.0->d2l) (6.1)\r\n",
      "Requirement already satisfied: psutil in /home/anaconda3/envs/lmypy/lib/python3.9/site-packages (from ipykernel->jupyter==1.0.0->d2l) (5.9.0)\r\n",
      "Requirement already satisfied: matplotlib-inline<0.2.0,>=0.1.0 in /home/anaconda3/envs/lmypy/lib/python3.9/site-packages (from ipykernel->jupyter==1.0.0->d2l) (0.1.3)\r\n",
      "Requirement already satisfied: traitlets<6.0,>=5.1.0 in /home/anaconda3/envs/lmypy/lib/python3.9/site-packages (from ipykernel->jupyter==1.0.0->d2l) (5.1.1)\r\n",
      "Requirement already satisfied: ipython>=7.23.1 in /home/anaconda3/envs/lmypy/lib/python3.9/site-packages (from ipykernel->jupyter==1.0.0->d2l) (8.2.0)\r\n",
      "Requirement already satisfied: decorator in /home/anaconda3/envs/lmypy/lib/python3.9/site-packages (from ipython>=7.23.1->ipykernel->jupyter==1.0.0->d2l) (5.1.1)\r\n",
      "Requirement already satisfied: pexpect>4.3 in /home/anaconda3/envs/lmypy/lib/python3.9/site-packages (from ipython>=7.23.1->ipykernel->jupyter==1.0.0->d2l) (4.8.0)\r\n",
      "Requirement already satisfied: pygments>=2.4.0 in /home/anaconda3/envs/lmypy/lib/python3.9/site-packages (from ipython>=7.23.1->ipykernel->jupyter==1.0.0->d2l) (2.11.2)\r\n",
      "Requirement already satisfied: setuptools>=18.5 in /home/anaconda3/envs/lmypy/lib/python3.9/site-packages (from ipython>=7.23.1->ipykernel->jupyter==1.0.0->d2l) (58.0.4)\r\n",
      "Requirement already satisfied: jedi>=0.16 in /home/anaconda3/envs/lmypy/lib/python3.9/site-packages (from ipython>=7.23.1->ipykernel->jupyter==1.0.0->d2l) (0.18.1)\r\n",
      "Requirement already satisfied: stack-data in /home/anaconda3/envs/lmypy/lib/python3.9/site-packages (from ipython>=7.23.1->ipykernel->jupyter==1.0.0->d2l) (0.2.0)\r\n",
      "Requirement already satisfied: prompt-toolkit!=3.0.0,!=3.0.1,<3.1.0,>=2.0.0 in /home/anaconda3/envs/lmypy/lib/python3.9/site-packages (from ipython>=7.23.1->ipykernel->jupyter==1.0.0->d2l) (3.0.28)\r\n",
      "Requirement already satisfied: pickleshare in /home/anaconda3/envs/lmypy/lib/python3.9/site-packages (from ipython>=7.23.1->ipykernel->jupyter==1.0.0->d2l) (0.7.5)\r\n",
      "Requirement already satisfied: backcall in /home/anaconda3/envs/lmypy/lib/python3.9/site-packages (from ipython>=7.23.1->ipykernel->jupyter==1.0.0->d2l) (0.2.0)\r\n",
      "Requirement already satisfied: parso<0.9.0,>=0.8.0 in /home/anaconda3/envs/lmypy/lib/python3.9/site-packages (from jedi>=0.16->ipython>=7.23.1->ipykernel->jupyter==1.0.0->d2l) (0.8.3)\r\n",
      "Requirement already satisfied: entrypoints in /home/anaconda3/envs/lmypy/lib/python3.9/site-packages (from jupyter-client<8.0->ipykernel->jupyter==1.0.0->d2l) (0.4)\r\n",
      "Requirement already satisfied: jupyter-core>=4.9.2 in /home/anaconda3/envs/lmypy/lib/python3.9/site-packages (from jupyter-client<8.0->ipykernel->jupyter==1.0.0->d2l) (4.9.2)\r\n",
      "Requirement already satisfied: pyzmq>=17 in /home/anaconda3/envs/lmypy/lib/python3.9/site-packages (from jupyter-client<8.0->ipykernel->jupyter==1.0.0->d2l) (22.3.0)\r\n",
      "Requirement already satisfied: ptyprocess>=0.5 in /home/anaconda3/envs/lmypy/lib/python3.9/site-packages (from pexpect>4.3->ipython>=7.23.1->ipykernel->jupyter==1.0.0->d2l) (0.7.0)\r\n",
      "Requirement already satisfied: wcwidth in /home/anaconda3/envs/lmypy/lib/python3.9/site-packages (from prompt-toolkit!=3.0.0,!=3.0.1,<3.1.0,>=2.0.0->ipython>=7.23.1->ipykernel->jupyter==1.0.0->d2l) (0.2.5)\r\n",
      "Requirement already satisfied: jupyterlab-widgets>=1.0.0 in /home/anaconda3/envs/lmypy/lib/python3.9/site-packages (from ipywidgets->jupyter==1.0.0->d2l) (1.1.0)\r\n",
      "Requirement already satisfied: nbformat>=4.2.0 in /home/anaconda3/envs/lmypy/lib/python3.9/site-packages (from ipywidgets->jupyter==1.0.0->d2l) (5.2.0)\r\n",
      "Requirement already satisfied: ipython-genutils~=0.2.0 in /home/anaconda3/envs/lmypy/lib/python3.9/site-packages (from ipywidgets->jupyter==1.0.0->d2l) (0.2.0)\r\n",
      "Requirement already satisfied: widgetsnbextension~=3.6.0 in /home/anaconda3/envs/lmypy/lib/python3.9/site-packages (from ipywidgets->jupyter==1.0.0->d2l) (3.6.0)\r\n",
      "Requirement already satisfied: jsonschema!=2.5.0,>=2.4 in /home/anaconda3/envs/lmypy/lib/python3.9/site-packages (from nbformat>=4.2.0->ipywidgets->jupyter==1.0.0->d2l) (4.4.0)\r\n",
      "Requirement already satisfied: attrs>=17.4.0 in /home/anaconda3/envs/lmypy/lib/python3.9/site-packages (from jsonschema!=2.5.0,>=2.4->nbformat>=4.2.0->ipywidgets->jupyter==1.0.0->d2l) (21.4.0)\r\n",
      "Requirement already satisfied: pyrsistent!=0.17.0,!=0.17.1,!=0.17.2,>=0.14.0 in /home/anaconda3/envs/lmypy/lib/python3.9/site-packages (from jsonschema!=2.5.0,>=2.4->nbformat>=4.2.0->ipywidgets->jupyter==1.0.0->d2l) (0.18.1)\r\n",
      "Requirement already satisfied: Send2Trash>=1.8.0 in /home/anaconda3/envs/lmypy/lib/python3.9/site-packages (from notebook->jupyter==1.0.0->d2l) (1.8.0)\r\n",
      "Requirement already satisfied: terminado>=0.8.3 in /home/anaconda3/envs/lmypy/lib/python3.9/site-packages (from notebook->jupyter==1.0.0->d2l) (0.13.3)\r\n",
      "Requirement already satisfied: prometheus-client in /home/anaconda3/envs/lmypy/lib/python3.9/site-packages (from notebook->jupyter==1.0.0->d2l) (0.13.1)\r\n",
      "Requirement already satisfied: argon2-cffi in /home/anaconda3/envs/lmypy/lib/python3.9/site-packages (from notebook->jupyter==1.0.0->d2l) (21.3.0)\r\n",
      "Requirement already satisfied: jinja2 in /home/anaconda3/envs/lmypy/lib/python3.9/site-packages (from notebook->jupyter==1.0.0->d2l) (3.1.1)\r\n",
      "Requirement already satisfied: jupyterlab-pygments in /home/anaconda3/envs/lmypy/lib/python3.9/site-packages (from nbconvert->jupyter==1.0.0->d2l) (0.1.2)\r\n",
      "Requirement already satisfied: MarkupSafe>=2.0 in /home/anaconda3/envs/lmypy/lib/python3.9/site-packages (from nbconvert->jupyter==1.0.0->d2l) (2.1.1)\r\n",
      "Requirement already satisfied: beautifulsoup4 in /home/anaconda3/envs/lmypy/lib/python3.9/site-packages (from nbconvert->jupyter==1.0.0->d2l) (4.10.0)\r\n",
      "Requirement already satisfied: testpath in /home/anaconda3/envs/lmypy/lib/python3.9/site-packages (from nbconvert->jupyter==1.0.0->d2l) (0.6.0)\r\n",
      "Requirement already satisfied: bleach in /home/anaconda3/envs/lmypy/lib/python3.9/site-packages (from nbconvert->jupyter==1.0.0->d2l) (4.1.0)\r\n",
      "Requirement already satisfied: defusedxml in /home/anaconda3/envs/lmypy/lib/python3.9/site-packages (from nbconvert->jupyter==1.0.0->d2l) (0.7.1)\r\n",
      "Requirement already satisfied: nbclient<0.6.0,>=0.5.0 in /home/anaconda3/envs/lmypy/lib/python3.9/site-packages (from nbconvert->jupyter==1.0.0->d2l) (0.5.13)\r\n",
      "Requirement already satisfied: mistune<2,>=0.8.1 in /home/anaconda3/envs/lmypy/lib/python3.9/site-packages (from nbconvert->jupyter==1.0.0->d2l) (0.8.4)\r\n",
      "Requirement already satisfied: pandocfilters>=1.4.1 in /home/anaconda3/envs/lmypy/lib/python3.9/site-packages (from nbconvert->jupyter==1.0.0->d2l) (1.5.0)\r\n",
      "Requirement already satisfied: argon2-cffi-bindings in /home/anaconda3/envs/lmypy/lib/python3.9/site-packages (from argon2-cffi->notebook->jupyter==1.0.0->d2l) (21.2.0)\r\n",
      "Requirement already satisfied: cffi>=1.0.1 in /home/anaconda3/envs/lmypy/lib/python3.9/site-packages (from argon2-cffi-bindings->argon2-cffi->notebook->jupyter==1.0.0->d2l) (1.15.0)\r\n",
      "Requirement already satisfied: pycparser in /home/anaconda3/envs/lmypy/lib/python3.9/site-packages (from cffi>=1.0.1->argon2-cffi-bindings->argon2-cffi->notebook->jupyter==1.0.0->d2l) (2.21)\r\n",
      "Requirement already satisfied: soupsieve>1.2 in /home/anaconda3/envs/lmypy/lib/python3.9/site-packages (from beautifulsoup4->nbconvert->jupyter==1.0.0->d2l) (2.3.1)\r\n",
      "Requirement already satisfied: webencodings in /home/anaconda3/envs/lmypy/lib/python3.9/site-packages (from bleach->nbconvert->jupyter==1.0.0->d2l) (0.5.1)\r\n",
      "Requirement already satisfied: qtpy>=2.0.1 in /home/anaconda3/envs/lmypy/lib/python3.9/site-packages (from qtconsole->jupyter==1.0.0->d2l) (2.0.1)\r\n",
      "Requirement already satisfied: pure-eval in /home/anaconda3/envs/lmypy/lib/python3.9/site-packages (from stack-data->ipython>=7.23.1->ipykernel->jupyter==1.0.0->d2l) (0.2.2)\r\n",
      "Requirement already satisfied: executing in /home/anaconda3/envs/lmypy/lib/python3.9/site-packages (from stack-data->ipython>=7.23.1->ipykernel->jupyter==1.0.0->d2l) (0.8.3)\r\n",
      "Requirement already satisfied: asttokens in /home/anaconda3/envs/lmypy/lib/python3.9/site-packages (from stack-data->ipython>=7.23.1->ipykernel->jupyter==1.0.0->d2l) (2.0.5)\r\n",
      "Installing collected packages: d2l\r\n",
      "Successfully installed d2l-0.17.5\r\n"
     ]
    }
   ],
   "source": [
    "!pip install d2l"
   ],
   "metadata": {
    "collapsed": false,
    "pycharm": {
     "name": "#%%\n"
    }
   }
  },
  {
   "cell_type": "code",
   "execution_count": 3,
   "metadata": {
    "trusted": false,
    "pycharm": {
     "name": "#%%\n"
    }
   },
   "outputs": [],
   "source": [
    "import sys \n",
    "sys.path.append(\"../\")\n",
    "import lmy"
   ]
  },
  {
   "cell_type": "code",
   "execution_count": 4,
   "metadata": {
    "collapsed": false,
    "jupyter": {
     "outputs_hidden": false
    },
    "pycharm": {
     "name": "#%%\n"
    },
    "trusted": false
   },
   "outputs": [],
   "source": [
    "#matplotlib inline\n",
    "import torch\n",
    "import torch.nn as nn\n",
    "import torch.nn.functional as F"
   ]
  },
  {
   "cell_type": "markdown",
   "metadata": {
    "pycharm": {
     "name": "#%% md\n"
    }
   },
   "source": [
    "## 利用Lenet进行训练学习"
   ]
  },
  {
   "cell_type": "code",
   "execution_count": 5,
   "metadata": {
    "collapsed": false,
    "jupyter": {
     "outputs_hidden": false
    },
    "pycharm": {
     "name": "#%%\n"
    },
    "trusted": false
   },
   "outputs": [],
   "source": [
    "scale = .01\n",
    "W1 = torch.randn((20, 1, 3, 3)) * scale\n",
    "b1 = torch.zeros(20)\n",
    "W2 = torch.randn((50, 20, 5, 5)) * scale\n",
    "b2 = torch.zeros(50)\n",
    "W3 = torch.randn((800, 128)) * scale\n",
    "b3 = torch.zeros(128)\n",
    "W4 = torch.randn((128, 10)) * scale\n",
    "b4 = torch.zeros(10)\n",
    "params = [W1, b1, W2, b2, W3, b3, W4, b4]\n",
    "\n",
    "\n",
    "def lenet(X, params):\n",
    "    h1_covn = F.conv2d(input=X, weight=params[0], bias=params[1])\n",
    "    h1_activation = F.relu(h1_covn)\n",
    "    h1 = F.avg_pool2d(input=h1_activation, kernel_size=(2, 2), stride=(2, 2))\n",
    "\n",
    "    h2_covn = F.conv2d(input=h1, weight=params[2], bias=params[3])\n",
    "    h2_activation = F.relu(h2_covn)\n",
    "    h2 = F.avg_pool2d(input=h2_activation, kernel_size=(2, 2), stride=(2, 2))\n",
    "    h2 = h2.reshape(h2.shape[0], -1)\n",
    "    h3_linear = torch.mm(h2, params[4]) + params[5]\n",
    "    h3 = F.relu(h3_linear)\n",
    "    y_hat = torch.mm(h3, params[6]) + params[7]\n",
    "    return y_hat\n",
    "\n",
    "\n",
    "loss = nn.CrossEntropyLoss(reduction='none')"
   ]
  },
  {
   "cell_type": "markdown",
   "metadata": {
    "pycharm": {
     "name": "#%% md\n"
    }
   },
   "source": [
    "### 数据同步"
   ]
  },
  {
   "cell_type": "markdown",
   "metadata": {
    "pycharm": {
     "name": "#%% md\n"
    }
   },
   "source": [
    "对于高效的多GPU训练，我们需要两个基本操作。\n",
    "* 需要向多设备发参数并附加梯度（get_params),如果没有参数，我们就不可能再GPU上进行网络评估。\n",
    "* 需要跨多设备对参数求和(allreduce) "
   ]
  },
  {
   "cell_type": "code",
   "execution_count": 6,
   "metadata": {
    "trusted": false,
    "pycharm": {
     "name": "#%%\n"
    }
   },
   "outputs": [],
   "source": [
    "def get_params(params,device):\n",
    "    \"\"\"将参数分发到不同的设备中\"\"\"\n",
    "    new_params = [p.to(device) for p in params]\n",
    "    for p in new_params:\n",
    "        p.requires_grad_()\n",
    "    return new_params\n",
    "devices,_ = lmy.getGPU(1,False)\n",
    "new_params = get_params(params,devices[0])"
   ]
  },
  {
   "cell_type": "code",
   "execution_count": 7,
   "metadata": {
    "trusted": false,
    "pycharm": {
     "name": "#%%\n"
    }
   },
   "outputs": [
    {
     "name": "stdout",
     "output_type": "stream",
     "text": [
      "tensor([0., 0., 0., 0., 0., 0., 0., 0., 0., 0., 0., 0., 0., 0., 0., 0., 0., 0., 0., 0.],\n",
      "       device='cuda:0', requires_grad=True)\n",
      "None\n"
     ]
    }
   ],
   "source": [
    "print(new_params[1])\n",
    "print(new_params[1].grad)"
   ]
  },
  {
   "cell_type": "markdown",
   "metadata": {
    "pycharm": {
     "name": "#%% md\n"
    }
   },
   "source": [
    "假设现在有一个向量分布在多个GPU上，需要通过allreduce函数将所有的向量相加，并将结果广播给所有的GPU。我们需要将数据复制到累计结果的设备，才能使函数正常工作"
   ]
  },
  {
   "cell_type": "code",
   "execution_count": 8,
   "metadata": {
    "trusted": false,
    "pycharm": {
     "name": "#%%\n"
    }
   },
   "outputs": [],
   "source": [
    "def allreduce(data):\n",
    "    # 将所有数据拷贝到第一个设备\n",
    "    for i in range(1,len(data)):\n",
    "        data[0][:] += data[i].to(data[0].device)\n",
    "    \n",
    "    # 将第一个设备的数据拷贝到所有的设备\n",
    "    for i in range(1,len(data)):\n",
    "        data[i][:] = data[0].to(data[i].device)\n",
    "    return data"
   ]
  },
  {
   "cell_type": "code",
   "execution_count": 9,
   "metadata": {
    "trusted": false,
    "pycharm": {
     "name": "#%%\n"
    }
   },
   "outputs": [
    {
     "name": "stdout",
     "output_type": "stream",
     "text": [
      "allreduce之前:\n",
      " tensor([[1., 1.]], device='cuda:0') \n",
      " tensor([[2., 2.]], device='cuda:1')\n",
      "allreduce之后:\n",
      " tensor([[3., 3.]], device='cuda:0') \n",
      " tensor([[3., 3.]], device='cuda:1')\n"
     ]
    }
   ],
   "source": [
    "data = [torch.ones((1,2),device=devices[i]) *(i+1) for i in range(2)]\n",
    "print(\"allreduce之前:\\n\",data[0],\"\\n\",data[1])\n",
    "data = allreduce(data)\n",
    "print(\"allreduce之后:\\n\",data[0],\"\\n\",data[1])"
   ]
  },
  {
   "cell_type": "markdown",
   "metadata": {
    "pycharm": {
     "name": "#%% md\n"
    }
   },
   "source": [
    "### 数据分发"
   ]
  },
  {
   "cell_type": "code",
   "execution_count": 10,
   "metadata": {
    "trusted": false,
    "pycharm": {
     "name": "#%%\n"
    }
   },
   "outputs": [
    {
     "data": {
      "text/plain": "tensor([[ 0,  1,  2,  3,  4],\n        [ 5,  6,  7,  8,  9],\n        [10, 11, 12, 13, 14],\n        [15, 16, 17, 18, 19]])"
     },
     "execution_count": 10,
     "metadata": {},
     "output_type": "execute_result"
    }
   ],
   "source": [
    "data = torch.arange(20).reshape(4,5)\n",
    "data"
   ]
  },
  {
   "cell_type": "code",
   "execution_count": 11,
   "metadata": {
    "trusted": false,
    "pycharm": {
     "name": "#%%\n"
    }
   },
   "outputs": [
    {
     "data": {
      "text/plain": "(tensor([[0, 1, 2, 3, 4],\n         [5, 6, 7, 8, 9]], device='cuda:0'),\n tensor([[10, 11, 12, 13, 14],\n         [15, 16, 17, 18, 19]], device='cuda:1'))"
     },
     "execution_count": 11,
     "metadata": {},
     "output_type": "execute_result"
    }
   ],
   "source": [
    "split_data = nn.parallel.scatter(data,devices)\n",
    "split_data"
   ]
  },
  {
   "cell_type": "code",
   "execution_count": 12,
   "metadata": {
    "trusted": false,
    "pycharm": {
     "name": "#%%\n"
    }
   },
   "outputs": [],
   "source": [
    "def split_batch(X,y,devices):\n",
    "    \"\"\"将数据和标签拆分到多个设备上\"\"\"\n",
    "    assert X.shape[0] == y.shape[0],\"数据与标签行数不一致\"\n",
    "    return (nn.parallel.scatter(X,devices),\n",
    "            nn.parallel.scatter(y,devices))\n",
    "        "
   ]
  },
  {
   "cell_type": "markdown",
   "metadata": {
    "pycharm": {
     "name": "#%% md\n"
    }
   },
   "source": [
    "### 训练"
   ]
  },
  {
   "cell_type": "code",
   "execution_count": 13,
   "metadata": {
    "trusted": false,
    "pycharm": {
     "name": "#%%\n"
    }
   },
   "outputs": [],
   "source": [
    "def train_batch(X, y, device_params, devices, lr):  #shard碎片\n",
    "    X_shards, y_shards = split_batch(X, y, devices)\n",
    "\n",
    "    # 分别在每个GPU上计算损失\n",
    "    ls = [loss(lenet(X_shard, devices_W), y_shard).sum()  # devices_W指单GPU上的参数\n",
    "          for X_shard, y_shard, devices_W in zip(X_shards, y_shards, device_params)]\n",
    "\n",
    "    # 在每个GPU上分别执行反向传播\n",
    "    for l in ls:\n",
    "        l.backward()\n",
    "\n",
    "    # 将每个GPU的所有梯度相加，并将其广播\n",
    "    with torch.no_grad():\n",
    "        for i in range(len(device_params[0])):\n",
    "            allreduce(\n",
    "                [device_params[c][i].grad for c in range(len(devices))]\n",
    "            )\n",
    "    # 在每个GPU上分别更新模型参数\n",
    "    for param in device_params:\n",
    "        lmy.sgd1(param, lr, X.shape[0])"
   ]
  },
  {
   "cell_type": "markdown",
   "metadata": {
    "pycharm": {
     "name": "#%% md\n"
    }
   },
   "source": [
    "定义训练函数，训练函数需要分配GPU并将所有的模型参数复制到所有的设备，显然，每个小批量都是使用train_batch函数来处理多个GPU.\n",
    "我们只在一个GPU上计算模型的精确度，而让其他GPU保持空闲"
   ]
  },
  {
   "cell_type": "code",
   "execution_count": 18,
   "metadata": {
    "collapsed": false,
    "jupyter": {
     "outputs_hidden": false
    },
    "pycharm": {
     "name": "#%%\n"
    },
    "trusted": false
   },
   "outputs": [],
   "source": [
    "from d2l import torch as d2l"
   ]
  },
  {
   "cell_type": "code",
   "execution_count": 19,
   "metadata": {
    "collapsed": false,
    "jupyter": {
     "outputs_hidden": false
    },
    "pycharm": {
     "name": "#%%\n"
    },
    "trusted": false
   },
   "outputs": [
    {
     "ename": "NameError",
     "evalue": "name 'device' is not defined",
     "output_type": "error",
     "traceback": [
      "\u001B[0;31m---------------------------------------------------------------------------\u001B[0m",
      "\u001B[0;31mNameError\u001B[0m                                 Traceback (most recent call last)",
      "Input \u001B[0;32mIn [19]\u001B[0m, in \u001B[0;36m<cell line: 24>\u001B[0;34m()\u001B[0m\n\u001B[1;32m     19\u001B[0m         animator\u001B[38;5;241m.\u001B[39madd(epoch \u001B[38;5;241m+\u001B[39m \u001B[38;5;241m1\u001B[39m,\n\u001B[1;32m     20\u001B[0m                      (d2l\u001B[38;5;241m.\u001B[39mevaluate_accuracy_gpu(\u001B[38;5;28;01mlambda\u001B[39;00m x: lenet(x, device_params[\u001B[38;5;241m0\u001B[39m]), test_iter, devices[\u001B[38;5;241m0\u001B[39m]),))\n\u001B[1;32m     21\u001B[0m     \u001B[38;5;28mprint\u001B[39m(\u001B[38;5;124mf\u001B[39m\u001B[38;5;124m\"\u001B[39m\u001B[38;5;124m测试精度：\u001B[39m\u001B[38;5;132;01m{\u001B[39;00manimator\u001B[38;5;241m.\u001B[39mY[\u001B[38;5;241m0\u001B[39m][\u001B[38;5;241m-\u001B[39m\u001B[38;5;241m1\u001B[39m]\u001B[38;5;132;01m:\u001B[39;00m\u001B[38;5;124m.2f\u001B[39m\u001B[38;5;132;01m}\u001B[39;00m\u001B[38;5;124m,\u001B[39m\u001B[38;5;132;01m{\u001B[39;00mtimer\u001B[38;5;241m.\u001B[39mavg()\u001B[38;5;132;01m:\u001B[39;00m\u001B[38;5;124m.1f\u001B[39m\u001B[38;5;132;01m}\u001B[39;00m\u001B[38;5;124m秒/轮，在\u001B[39m\u001B[38;5;132;01m{\u001B[39;00m\u001B[38;5;28mstr\u001B[39m(device)\u001B[38;5;132;01m}\u001B[39;00m\u001B[38;5;124m上\u001B[39m\u001B[38;5;124m\"\u001B[39m)\n\u001B[0;32m---> 24\u001B[0m \u001B[43mtrain\u001B[49m\u001B[43m(\u001B[49m\u001B[43mnum_gpus\u001B[49m\u001B[38;5;241;43m=\u001B[39;49m\u001B[38;5;241;43m1\u001B[39;49m\u001B[43m,\u001B[49m\u001B[43m \u001B[49m\u001B[43mbatch_size\u001B[49m\u001B[38;5;241;43m=\u001B[39;49m\u001B[38;5;241;43m256\u001B[39;49m\u001B[43m,\u001B[49m\u001B[43m \u001B[49m\u001B[43mlr\u001B[49m\u001B[38;5;241;43m=\u001B[39;49m\u001B[38;5;241;43m.2\u001B[39;49m\u001B[43m)\u001B[49m\n",
      "Input \u001B[0;32mIn [19]\u001B[0m, in \u001B[0;36mtrain\u001B[0;34m(num_gpus, batch_size, lr)\u001B[0m\n\u001B[1;32m     18\u001B[0m     \u001B[38;5;66;03m#在GPU0上进行评估\u001B[39;00m\n\u001B[1;32m     19\u001B[0m     animator\u001B[38;5;241m.\u001B[39madd(epoch \u001B[38;5;241m+\u001B[39m \u001B[38;5;241m1\u001B[39m,\n\u001B[1;32m     20\u001B[0m                  (d2l\u001B[38;5;241m.\u001B[39mevaluate_accuracy_gpu(\u001B[38;5;28;01mlambda\u001B[39;00m x: lenet(x, device_params[\u001B[38;5;241m0\u001B[39m]), test_iter, devices[\u001B[38;5;241m0\u001B[39m]),))\n\u001B[0;32m---> 21\u001B[0m \u001B[38;5;28mprint\u001B[39m(\u001B[38;5;124mf\u001B[39m\u001B[38;5;124m\"\u001B[39m\u001B[38;5;124m测试精度：\u001B[39m\u001B[38;5;132;01m{\u001B[39;00manimator\u001B[38;5;241m.\u001B[39mY[\u001B[38;5;241m0\u001B[39m][\u001B[38;5;241m-\u001B[39m\u001B[38;5;241m1\u001B[39m]\u001B[38;5;132;01m:\u001B[39;00m\u001B[38;5;124m.2f\u001B[39m\u001B[38;5;132;01m}\u001B[39;00m\u001B[38;5;124m,\u001B[39m\u001B[38;5;132;01m{\u001B[39;00mtimer\u001B[38;5;241m.\u001B[39mavg()\u001B[38;5;132;01m:\u001B[39;00m\u001B[38;5;124m.1f\u001B[39m\u001B[38;5;132;01m}\u001B[39;00m\u001B[38;5;124m秒/轮，在\u001B[39m\u001B[38;5;132;01m{\u001B[39;00m\u001B[38;5;28mstr\u001B[39m(device)\u001B[38;5;132;01m}\u001B[39;00m\u001B[38;5;124m上\u001B[39m\u001B[38;5;124m\"\u001B[39m)\n",
      "\u001B[0;31mNameError\u001B[0m: name 'device' is not defined"
     ]
    },
    {
     "data": {
      "text/plain": "<Figure size 252x180 with 1 Axes>",
      "image/svg+xml": "<?xml version=\"1.0\" encoding=\"utf-8\" standalone=\"no\"?>\n<!DOCTYPE svg PUBLIC \"-//W3C//DTD SVG 1.1//EN\"\n  \"http://www.w3.org/Graphics/SVG/1.1/DTD/svg11.dtd\">\n<svg xmlns:xlink=\"http://www.w3.org/1999/xlink\" width=\"252.64375pt\" height=\"180.65625pt\" viewBox=\"0 0 252.64375 180.65625\" xmlns=\"http://www.w3.org/2000/svg\" version=\"1.1\">\n <metadata>\n  <rdf:RDF xmlns:dc=\"http://purl.org/dc/elements/1.1/\" xmlns:cc=\"http://creativecommons.org/ns#\" xmlns:rdf=\"http://www.w3.org/1999/02/22-rdf-syntax-ns#\">\n   <cc:Work>\n    <dc:type rdf:resource=\"http://purl.org/dc/dcmitype/StillImage\"/>\n    <dc:date>2022-04-12T11:04:04.778201</dc:date>\n    <dc:format>image/svg+xml</dc:format>\n    <dc:creator>\n     <cc:Agent>\n      <dc:title>Matplotlib v3.5.1, https://matplotlib.org/</dc:title>\n     </cc:Agent>\n    </dc:creator>\n   </cc:Work>\n  </rdf:RDF>\n </metadata>\n <defs>\n  <style type=\"text/css\">*{stroke-linejoin: round; stroke-linecap: butt}</style>\n </defs>\n <g id=\"figure_1\">\n  <g id=\"patch_1\">\n   <path d=\"M 0 180.65625 \nL 252.64375 180.65625 \nL 252.64375 0 \nL 0 0 \nL 0 180.65625 \nz\n\" style=\"fill: none\"/>\n  </g>\n  <g id=\"axes_1\">\n   <g id=\"patch_2\">\n    <path d=\"M 43.78125 143.1 \nL 239.08125 143.1 \nL 239.08125 7.2 \nL 43.78125 7.2 \nz\n\" style=\"fill: #ffffff\"/>\n   </g>\n   <g id=\"matplotlib.axis_1\">\n    <g id=\"xtick_1\">\n     <g id=\"line2d_1\">\n      <path d=\"M 65.48125 143.1 \nL 65.48125 7.2 \n\" clip-path=\"url(#pc7af3bf157)\" style=\"fill: none; stroke: #b0b0b0; stroke-width: 0.8; stroke-linecap: square\"/>\n     </g>\n     <g id=\"line2d_2\">\n      <defs>\n       <path id=\"mf02ba08502\" d=\"M 0 0 \nL 0 3.5 \n\" style=\"stroke: #000000; stroke-width: 0.8\"/>\n      </defs>\n      <g>\n       <use xlink:href=\"#mf02ba08502\" x=\"65.48125\" y=\"143.1\" style=\"stroke: #000000; stroke-width: 0.8\"/>\n      </g>\n     </g>\n     <g id=\"text_1\">\n      <!-- 2 -->\n      <g transform=\"translate(62.3 157.698438)scale(0.1 -0.1)\">\n       <defs>\n        <path id=\"DejaVuSans-32\" d=\"M 1228 531 \nL 3431 531 \nL 3431 0 \nL 469 0 \nL 469 531 \nQ 828 903 1448 1529 \nQ 2069 2156 2228 2338 \nQ 2531 2678 2651 2914 \nQ 2772 3150 2772 3378 \nQ 2772 3750 2511 3984 \nQ 2250 4219 1831 4219 \nQ 1534 4219 1204 4116 \nQ 875 4013 500 3803 \nL 500 4441 \nQ 881 4594 1212 4672 \nQ 1544 4750 1819 4750 \nQ 2544 4750 2975 4387 \nQ 3406 4025 3406 3419 \nQ 3406 3131 3298 2873 \nQ 3191 2616 2906 2266 \nQ 2828 2175 2409 1742 \nQ 1991 1309 1228 531 \nz\n\" transform=\"scale(0.015625)\"/>\n       </defs>\n       <use xlink:href=\"#DejaVuSans-32\"/>\n      </g>\n     </g>\n    </g>\n    <g id=\"xtick_2\">\n     <g id=\"line2d_3\">\n      <path d=\"M 108.88125 143.1 \nL 108.88125 7.2 \n\" clip-path=\"url(#pc7af3bf157)\" style=\"fill: none; stroke: #b0b0b0; stroke-width: 0.8; stroke-linecap: square\"/>\n     </g>\n     <g id=\"line2d_4\">\n      <g>\n       <use xlink:href=\"#mf02ba08502\" x=\"108.88125\" y=\"143.1\" style=\"stroke: #000000; stroke-width: 0.8\"/>\n      </g>\n     </g>\n     <g id=\"text_2\">\n      <!-- 4 -->\n      <g transform=\"translate(105.7 157.698438)scale(0.1 -0.1)\">\n       <defs>\n        <path id=\"DejaVuSans-34\" d=\"M 2419 4116 \nL 825 1625 \nL 2419 1625 \nL 2419 4116 \nz\nM 2253 4666 \nL 3047 4666 \nL 3047 1625 \nL 3713 1625 \nL 3713 1100 \nL 3047 1100 \nL 3047 0 \nL 2419 0 \nL 2419 1100 \nL 313 1100 \nL 313 1709 \nL 2253 4666 \nz\n\" transform=\"scale(0.015625)\"/>\n       </defs>\n       <use xlink:href=\"#DejaVuSans-34\"/>\n      </g>\n     </g>\n    </g>\n    <g id=\"xtick_3\">\n     <g id=\"line2d_5\">\n      <path d=\"M 152.28125 143.1 \nL 152.28125 7.2 \n\" clip-path=\"url(#pc7af3bf157)\" style=\"fill: none; stroke: #b0b0b0; stroke-width: 0.8; stroke-linecap: square\"/>\n     </g>\n     <g id=\"line2d_6\">\n      <g>\n       <use xlink:href=\"#mf02ba08502\" x=\"152.28125\" y=\"143.1\" style=\"stroke: #000000; stroke-width: 0.8\"/>\n      </g>\n     </g>\n     <g id=\"text_3\">\n      <!-- 6 -->\n      <g transform=\"translate(149.1 157.698438)scale(0.1 -0.1)\">\n       <defs>\n        <path id=\"DejaVuSans-36\" d=\"M 2113 2584 \nQ 1688 2584 1439 2293 \nQ 1191 2003 1191 1497 \nQ 1191 994 1439 701 \nQ 1688 409 2113 409 \nQ 2538 409 2786 701 \nQ 3034 994 3034 1497 \nQ 3034 2003 2786 2293 \nQ 2538 2584 2113 2584 \nz\nM 3366 4563 \nL 3366 3988 \nQ 3128 4100 2886 4159 \nQ 2644 4219 2406 4219 \nQ 1781 4219 1451 3797 \nQ 1122 3375 1075 2522 \nQ 1259 2794 1537 2939 \nQ 1816 3084 2150 3084 \nQ 2853 3084 3261 2657 \nQ 3669 2231 3669 1497 \nQ 3669 778 3244 343 \nQ 2819 -91 2113 -91 \nQ 1303 -91 875 529 \nQ 447 1150 447 2328 \nQ 447 3434 972 4092 \nQ 1497 4750 2381 4750 \nQ 2619 4750 2861 4703 \nQ 3103 4656 3366 4563 \nz\n\" transform=\"scale(0.015625)\"/>\n       </defs>\n       <use xlink:href=\"#DejaVuSans-36\"/>\n      </g>\n     </g>\n    </g>\n    <g id=\"xtick_4\">\n     <g id=\"line2d_7\">\n      <path d=\"M 195.68125 143.1 \nL 195.68125 7.2 \n\" clip-path=\"url(#pc7af3bf157)\" style=\"fill: none; stroke: #b0b0b0; stroke-width: 0.8; stroke-linecap: square\"/>\n     </g>\n     <g id=\"line2d_8\">\n      <g>\n       <use xlink:href=\"#mf02ba08502\" x=\"195.68125\" y=\"143.1\" style=\"stroke: #000000; stroke-width: 0.8\"/>\n      </g>\n     </g>\n     <g id=\"text_4\">\n      <!-- 8 -->\n      <g transform=\"translate(192.5 157.698438)scale(0.1 -0.1)\">\n       <defs>\n        <path id=\"DejaVuSans-38\" d=\"M 2034 2216 \nQ 1584 2216 1326 1975 \nQ 1069 1734 1069 1313 \nQ 1069 891 1326 650 \nQ 1584 409 2034 409 \nQ 2484 409 2743 651 \nQ 3003 894 3003 1313 \nQ 3003 1734 2745 1975 \nQ 2488 2216 2034 2216 \nz\nM 1403 2484 \nQ 997 2584 770 2862 \nQ 544 3141 544 3541 \nQ 544 4100 942 4425 \nQ 1341 4750 2034 4750 \nQ 2731 4750 3128 4425 \nQ 3525 4100 3525 3541 \nQ 3525 3141 3298 2862 \nQ 3072 2584 2669 2484 \nQ 3125 2378 3379 2068 \nQ 3634 1759 3634 1313 \nQ 3634 634 3220 271 \nQ 2806 -91 2034 -91 \nQ 1263 -91 848 271 \nQ 434 634 434 1313 \nQ 434 1759 690 2068 \nQ 947 2378 1403 2484 \nz\nM 1172 3481 \nQ 1172 3119 1398 2916 \nQ 1625 2713 2034 2713 \nQ 2441 2713 2670 2916 \nQ 2900 3119 2900 3481 \nQ 2900 3844 2670 4047 \nQ 2441 4250 2034 4250 \nQ 1625 4250 1398 4047 \nQ 1172 3844 1172 3481 \nz\n\" transform=\"scale(0.015625)\"/>\n       </defs>\n       <use xlink:href=\"#DejaVuSans-38\"/>\n      </g>\n     </g>\n    </g>\n    <g id=\"xtick_5\">\n     <g id=\"line2d_9\">\n      <path d=\"M 239.08125 143.1 \nL 239.08125 7.2 \n\" clip-path=\"url(#pc7af3bf157)\" style=\"fill: none; stroke: #b0b0b0; stroke-width: 0.8; stroke-linecap: square\"/>\n     </g>\n     <g id=\"line2d_10\">\n      <g>\n       <use xlink:href=\"#mf02ba08502\" x=\"239.08125\" y=\"143.1\" style=\"stroke: #000000; stroke-width: 0.8\"/>\n      </g>\n     </g>\n     <g id=\"text_5\">\n      <!-- 10 -->\n      <g transform=\"translate(232.71875 157.698438)scale(0.1 -0.1)\">\n       <defs>\n        <path id=\"DejaVuSans-31\" d=\"M 794 531 \nL 1825 531 \nL 1825 4091 \nL 703 3866 \nL 703 4441 \nL 1819 4666 \nL 2450 4666 \nL 2450 531 \nL 3481 531 \nL 3481 0 \nL 794 0 \nL 794 531 \nz\n\" transform=\"scale(0.015625)\"/>\n        <path id=\"DejaVuSans-30\" d=\"M 2034 4250 \nQ 1547 4250 1301 3770 \nQ 1056 3291 1056 2328 \nQ 1056 1369 1301 889 \nQ 1547 409 2034 409 \nQ 2525 409 2770 889 \nQ 3016 1369 3016 2328 \nQ 3016 3291 2770 3770 \nQ 2525 4250 2034 4250 \nz\nM 2034 4750 \nQ 2819 4750 3233 4129 \nQ 3647 3509 3647 2328 \nQ 3647 1150 3233 529 \nQ 2819 -91 2034 -91 \nQ 1250 -91 836 529 \nQ 422 1150 422 2328 \nQ 422 3509 836 4129 \nQ 1250 4750 2034 4750 \nz\n\" transform=\"scale(0.015625)\"/>\n       </defs>\n       <use xlink:href=\"#DejaVuSans-31\"/>\n       <use xlink:href=\"#DejaVuSans-30\" x=\"63.623047\"/>\n      </g>\n     </g>\n    </g>\n    <g id=\"text_6\">\n     <!-- epoch -->\n     <g transform=\"translate(126.203125 171.376563)scale(0.1 -0.1)\">\n      <defs>\n       <path id=\"DejaVuSans-65\" d=\"M 3597 1894 \nL 3597 1613 \nL 953 1613 \nQ 991 1019 1311 708 \nQ 1631 397 2203 397 \nQ 2534 397 2845 478 \nQ 3156 559 3463 722 \nL 3463 178 \nQ 3153 47 2828 -22 \nQ 2503 -91 2169 -91 \nQ 1331 -91 842 396 \nQ 353 884 353 1716 \nQ 353 2575 817 3079 \nQ 1281 3584 2069 3584 \nQ 2775 3584 3186 3129 \nQ 3597 2675 3597 1894 \nz\nM 3022 2063 \nQ 3016 2534 2758 2815 \nQ 2500 3097 2075 3097 \nQ 1594 3097 1305 2825 \nQ 1016 2553 972 2059 \nL 3022 2063 \nz\n\" transform=\"scale(0.015625)\"/>\n       <path id=\"DejaVuSans-70\" d=\"M 1159 525 \nL 1159 -1331 \nL 581 -1331 \nL 581 3500 \nL 1159 3500 \nL 1159 2969 \nQ 1341 3281 1617 3432 \nQ 1894 3584 2278 3584 \nQ 2916 3584 3314 3078 \nQ 3713 2572 3713 1747 \nQ 3713 922 3314 415 \nQ 2916 -91 2278 -91 \nQ 1894 -91 1617 61 \nQ 1341 213 1159 525 \nz\nM 3116 1747 \nQ 3116 2381 2855 2742 \nQ 2594 3103 2138 3103 \nQ 1681 3103 1420 2742 \nQ 1159 2381 1159 1747 \nQ 1159 1113 1420 752 \nQ 1681 391 2138 391 \nQ 2594 391 2855 752 \nQ 3116 1113 3116 1747 \nz\n\" transform=\"scale(0.015625)\"/>\n       <path id=\"DejaVuSans-6f\" d=\"M 1959 3097 \nQ 1497 3097 1228 2736 \nQ 959 2375 959 1747 \nQ 959 1119 1226 758 \nQ 1494 397 1959 397 \nQ 2419 397 2687 759 \nQ 2956 1122 2956 1747 \nQ 2956 2369 2687 2733 \nQ 2419 3097 1959 3097 \nz\nM 1959 3584 \nQ 2709 3584 3137 3096 \nQ 3566 2609 3566 1747 \nQ 3566 888 3137 398 \nQ 2709 -91 1959 -91 \nQ 1206 -91 779 398 \nQ 353 888 353 1747 \nQ 353 2609 779 3096 \nQ 1206 3584 1959 3584 \nz\n\" transform=\"scale(0.015625)\"/>\n       <path id=\"DejaVuSans-63\" d=\"M 3122 3366 \nL 3122 2828 \nQ 2878 2963 2633 3030 \nQ 2388 3097 2138 3097 \nQ 1578 3097 1268 2742 \nQ 959 2388 959 1747 \nQ 959 1106 1268 751 \nQ 1578 397 2138 397 \nQ 2388 397 2633 464 \nQ 2878 531 3122 666 \nL 3122 134 \nQ 2881 22 2623 -34 \nQ 2366 -91 2075 -91 \nQ 1284 -91 818 406 \nQ 353 903 353 1747 \nQ 353 2603 823 3093 \nQ 1294 3584 2113 3584 \nQ 2378 3584 2631 3529 \nQ 2884 3475 3122 3366 \nz\n\" transform=\"scale(0.015625)\"/>\n       <path id=\"DejaVuSans-68\" d=\"M 3513 2113 \nL 3513 0 \nL 2938 0 \nL 2938 2094 \nQ 2938 2591 2744 2837 \nQ 2550 3084 2163 3084 \nQ 1697 3084 1428 2787 \nQ 1159 2491 1159 1978 \nL 1159 0 \nL 581 0 \nL 581 4863 \nL 1159 4863 \nL 1159 2956 \nQ 1366 3272 1645 3428 \nQ 1925 3584 2291 3584 \nQ 2894 3584 3203 3211 \nQ 3513 2838 3513 2113 \nz\n\" transform=\"scale(0.015625)\"/>\n      </defs>\n      <use xlink:href=\"#DejaVuSans-65\"/>\n      <use xlink:href=\"#DejaVuSans-70\" x=\"61.523438\"/>\n      <use xlink:href=\"#DejaVuSans-6f\" x=\"125\"/>\n      <use xlink:href=\"#DejaVuSans-63\" x=\"186.181641\"/>\n      <use xlink:href=\"#DejaVuSans-68\" x=\"241.162109\"/>\n     </g>\n    </g>\n   </g>\n   <g id=\"matplotlib.axis_2\">\n    <g id=\"ytick_1\">\n     <g id=\"line2d_11\">\n      <path d=\"M 43.78125 120.170801 \nL 239.08125 120.170801 \n\" clip-path=\"url(#pc7af3bf157)\" style=\"fill: none; stroke: #b0b0b0; stroke-width: 0.8; stroke-linecap: square\"/>\n     </g>\n     <g id=\"line2d_12\">\n      <defs>\n       <path id=\"me887db5f9f\" d=\"M 0 0 \nL -3.5 0 \n\" style=\"stroke: #000000; stroke-width: 0.8\"/>\n      </defs>\n      <g>\n       <use xlink:href=\"#me887db5f9f\" x=\"43.78125\" y=\"120.170801\" style=\"stroke: #000000; stroke-width: 0.8\"/>\n      </g>\n     </g>\n     <g id=\"text_7\">\n      <!-- 0.2 -->\n      <g transform=\"translate(20.878125 123.97002)scale(0.1 -0.1)\">\n       <defs>\n        <path id=\"DejaVuSans-2e\" d=\"M 684 794 \nL 1344 794 \nL 1344 0 \nL 684 0 \nL 684 794 \nz\n\" transform=\"scale(0.015625)\"/>\n       </defs>\n       <use xlink:href=\"#DejaVuSans-30\"/>\n       <use xlink:href=\"#DejaVuSans-2e\" x=\"63.623047\"/>\n       <use xlink:href=\"#DejaVuSans-32\" x=\"95.410156\"/>\n      </g>\n     </g>\n    </g>\n    <g id=\"ytick_2\">\n     <g id=\"line2d_13\">\n      <path d=\"M 43.78125 86.666949 \nL 239.08125 86.666949 \n\" clip-path=\"url(#pc7af3bf157)\" style=\"fill: none; stroke: #b0b0b0; stroke-width: 0.8; stroke-linecap: square\"/>\n     </g>\n     <g id=\"line2d_14\">\n      <g>\n       <use xlink:href=\"#me887db5f9f\" x=\"43.78125\" y=\"86.666949\" style=\"stroke: #000000; stroke-width: 0.8\"/>\n      </g>\n     </g>\n     <g id=\"text_8\">\n      <!-- 0.4 -->\n      <g transform=\"translate(20.878125 90.466168)scale(0.1 -0.1)\">\n       <use xlink:href=\"#DejaVuSans-30\"/>\n       <use xlink:href=\"#DejaVuSans-2e\" x=\"63.623047\"/>\n       <use xlink:href=\"#DejaVuSans-34\" x=\"95.410156\"/>\n      </g>\n     </g>\n    </g>\n    <g id=\"ytick_3\">\n     <g id=\"line2d_15\">\n      <path d=\"M 43.78125 53.163097 \nL 239.08125 53.163097 \n\" clip-path=\"url(#pc7af3bf157)\" style=\"fill: none; stroke: #b0b0b0; stroke-width: 0.8; stroke-linecap: square\"/>\n     </g>\n     <g id=\"line2d_16\">\n      <g>\n       <use xlink:href=\"#me887db5f9f\" x=\"43.78125\" y=\"53.163097\" style=\"stroke: #000000; stroke-width: 0.8\"/>\n      </g>\n     </g>\n     <g id=\"text_9\">\n      <!-- 0.6 -->\n      <g transform=\"translate(20.878125 56.962316)scale(0.1 -0.1)\">\n       <use xlink:href=\"#DejaVuSans-30\"/>\n       <use xlink:href=\"#DejaVuSans-2e\" x=\"63.623047\"/>\n       <use xlink:href=\"#DejaVuSans-36\" x=\"95.410156\"/>\n      </g>\n     </g>\n    </g>\n    <g id=\"ytick_4\">\n     <g id=\"line2d_17\">\n      <path d=\"M 43.78125 19.659245 \nL 239.08125 19.659245 \n\" clip-path=\"url(#pc7af3bf157)\" style=\"fill: none; stroke: #b0b0b0; stroke-width: 0.8; stroke-linecap: square\"/>\n     </g>\n     <g id=\"line2d_18\">\n      <g>\n       <use xlink:href=\"#me887db5f9f\" x=\"43.78125\" y=\"19.659245\" style=\"stroke: #000000; stroke-width: 0.8\"/>\n      </g>\n     </g>\n     <g id=\"text_10\">\n      <!-- 0.8 -->\n      <g transform=\"translate(20.878125 23.458464)scale(0.1 -0.1)\">\n       <use xlink:href=\"#DejaVuSans-30\"/>\n       <use xlink:href=\"#DejaVuSans-2e\" x=\"63.623047\"/>\n       <use xlink:href=\"#DejaVuSans-38\" x=\"95.410156\"/>\n      </g>\n     </g>\n    </g>\n    <g id=\"text_11\">\n     <!-- test_acc -->\n     <g transform=\"translate(14.520313 95.814062)rotate(-90)scale(0.1 -0.1)\">\n      <defs>\n       <path id=\"DejaVuSans-74\" d=\"M 1172 4494 \nL 1172 3500 \nL 2356 3500 \nL 2356 3053 \nL 1172 3053 \nL 1172 1153 \nQ 1172 725 1289 603 \nQ 1406 481 1766 481 \nL 2356 481 \nL 2356 0 \nL 1766 0 \nQ 1100 0 847 248 \nQ 594 497 594 1153 \nL 594 3053 \nL 172 3053 \nL 172 3500 \nL 594 3500 \nL 594 4494 \nL 1172 4494 \nz\n\" transform=\"scale(0.015625)\"/>\n       <path id=\"DejaVuSans-73\" d=\"M 2834 3397 \nL 2834 2853 \nQ 2591 2978 2328 3040 \nQ 2066 3103 1784 3103 \nQ 1356 3103 1142 2972 \nQ 928 2841 928 2578 \nQ 928 2378 1081 2264 \nQ 1234 2150 1697 2047 \nL 1894 2003 \nQ 2506 1872 2764 1633 \nQ 3022 1394 3022 966 \nQ 3022 478 2636 193 \nQ 2250 -91 1575 -91 \nQ 1294 -91 989 -36 \nQ 684 19 347 128 \nL 347 722 \nQ 666 556 975 473 \nQ 1284 391 1588 391 \nQ 1994 391 2212 530 \nQ 2431 669 2431 922 \nQ 2431 1156 2273 1281 \nQ 2116 1406 1581 1522 \nL 1381 1569 \nQ 847 1681 609 1914 \nQ 372 2147 372 2553 \nQ 372 3047 722 3315 \nQ 1072 3584 1716 3584 \nQ 2034 3584 2315 3537 \nQ 2597 3491 2834 3397 \nz\n\" transform=\"scale(0.015625)\"/>\n       <path id=\"DejaVuSans-5f\" d=\"M 3263 -1063 \nL 3263 -1509 \nL -63 -1509 \nL -63 -1063 \nL 3263 -1063 \nz\n\" transform=\"scale(0.015625)\"/>\n       <path id=\"DejaVuSans-61\" d=\"M 2194 1759 \nQ 1497 1759 1228 1600 \nQ 959 1441 959 1056 \nQ 959 750 1161 570 \nQ 1363 391 1709 391 \nQ 2188 391 2477 730 \nQ 2766 1069 2766 1631 \nL 2766 1759 \nL 2194 1759 \nz\nM 3341 1997 \nL 3341 0 \nL 2766 0 \nL 2766 531 \nQ 2569 213 2275 61 \nQ 1981 -91 1556 -91 \nQ 1019 -91 701 211 \nQ 384 513 384 1019 \nQ 384 1609 779 1909 \nQ 1175 2209 1959 2209 \nL 2766 2209 \nL 2766 2266 \nQ 2766 2663 2505 2880 \nQ 2244 3097 1772 3097 \nQ 1472 3097 1187 3025 \nQ 903 2953 641 2809 \nL 641 3341 \nQ 956 3463 1253 3523 \nQ 1550 3584 1831 3584 \nQ 2591 3584 2966 3190 \nQ 3341 2797 3341 1997 \nz\n\" transform=\"scale(0.015625)\"/>\n      </defs>\n      <use xlink:href=\"#DejaVuSans-74\"/>\n      <use xlink:href=\"#DejaVuSans-65\" x=\"39.208984\"/>\n      <use xlink:href=\"#DejaVuSans-73\" x=\"100.732422\"/>\n      <use xlink:href=\"#DejaVuSans-74\" x=\"152.832031\"/>\n      <use xlink:href=\"#DejaVuSans-5f\" x=\"192.041016\"/>\n      <use xlink:href=\"#DejaVuSans-61\" x=\"242.041016\"/>\n      <use xlink:href=\"#DejaVuSans-63\" x=\"303.320312\"/>\n      <use xlink:href=\"#DejaVuSans-63\" x=\"358.300781\"/>\n     </g>\n    </g>\n   </g>\n   <g id=\"line2d_19\">\n    <path d=\"M 43.78125 136.922727 \nL 65.48125 52.074222 \nL 87.18125 26.108737 \nL 108.88125 22.406561 \nL 130.58125 19.307455 \nL 152.28125 16.828169 \nL 173.98125 14.851442 \nL 195.68125 14.030598 \nL 217.38125 13.377273 \nL 239.08125 13.52804 \n\" clip-path=\"url(#pc7af3bf157)\" style=\"fill: none; stroke: #1f77b4; stroke-width: 1.5; stroke-linecap: square\"/>\n   </g>\n   <g id=\"patch_3\">\n    <path d=\"M 43.78125 143.1 \nL 43.78125 7.2 \n\" style=\"fill: none; stroke: #000000; stroke-width: 0.8; stroke-linejoin: miter; stroke-linecap: square\"/>\n   </g>\n   <g id=\"patch_4\">\n    <path d=\"M 239.08125 143.1 \nL 239.08125 7.2 \n\" style=\"fill: none; stroke: #000000; stroke-width: 0.8; stroke-linejoin: miter; stroke-linecap: square\"/>\n   </g>\n   <g id=\"patch_5\">\n    <path d=\"M 43.78125 143.1 \nL 239.08125 143.1 \n\" style=\"fill: none; stroke: #000000; stroke-width: 0.8; stroke-linejoin: miter; stroke-linecap: square\"/>\n   </g>\n   <g id=\"patch_6\">\n    <path d=\"M 43.78125 7.2 \nL 239.08125 7.2 \n\" style=\"fill: none; stroke: #000000; stroke-width: 0.8; stroke-linejoin: miter; stroke-linecap: square\"/>\n   </g>\n  </g>\n </g>\n <defs>\n  <clipPath id=\"pc7af3bf157\">\n   <rect x=\"43.78125\" y=\"7.2\" width=\"195.3\" height=\"135.9\"/>\n  </clipPath>\n </defs>\n</svg>\n"
     },
     "metadata": {
      "needs_background": "light"
     },
     "output_type": "display_data"
    }
   ],
   "source": [
    "def train(num_gpus, batch_size, lr):\n",
    "    train_iter, test_iter = lmy.loadFashionMnistData(batch_size,root='../lmy/data')\n",
    "    devices, _ = lmy.getGPU(1)\n",
    "    devices = devices[:num_gpus]\n",
    "    # 将模型复制到所有的GPU\n",
    "    device_params = [get_params(params, d) for d in devices]\n",
    "    num_epochs = 10\n",
    "    animator = d2l.Animator('epoch', 'test_acc', xlim=[1, num_epochs])\n",
    "    timer = lmy.Timer()\n",
    "    for epoch in range(num_epochs):\n",
    "        timer.start()\n",
    "        for X, y in train_iter:\n",
    "            # 为单个小批量进行多GPU训练\n",
    "            train_batch(X, y, device_params, devices, lr)\n",
    "            torch.cuda.synchronize()\n",
    "        timer.stop()\n",
    "\n",
    "        #在GPU0上进行评估\n",
    "        animator.add(epoch + 1,\n",
    "                     (d2l.evaluate_accuracy_gpu(lambda x: lenet(x, device_params[0]), test_iter, devices[0]),))\n",
    "    print(f\"测试精度：{animator.Y[0][-1]:.2f},{timer.avg():.1f}秒/轮，在{str(device)}上\")\n",
    "\n",
    "\n",
    "train(num_gpus=1, batch_size=256, lr=.2)"
   ]
  },
  {
   "cell_type": "code",
   "execution_count": 3,
   "metadata": {
    "collapsed": false,
    "jupyter": {
     "outputs_hidden": false
    },
    "pycharm": {
     "name": "#%%\n"
    },
    "trusted": false
   },
   "outputs": [
    {
     "name": "stdout",
     "output_type": "stream",
     "text": [
      "数据集加载成功 60000 10000\n",
      "1 has run for 0.0326s\n"
     ]
    },
    {
     "ename": "AssertionError",
     "evalue": "None of GPU",
     "output_type": "error",
     "traceback": [
      "\u001B[0;31m---------------------------------------------------------------------------\u001B[0m",
      "\u001B[0;31mAssertionError\u001B[0m                            Traceback (most recent call last)",
      "Input \u001B[0;32mIn [3]\u001B[0m, in \u001B[0;36m<cell line: 82>\u001B[0;34m()\u001B[0m\n\u001B[1;32m     78\u001B[0m     \u001B[38;5;28;01mwith\u001B[39;00m timer2:\n\u001B[1;32m     79\u001B[0m         train(net, num_gpus\u001B[38;5;241m=\u001B[39m\u001B[38;5;241m2\u001B[39m, batch_size\u001B[38;5;241m=\u001B[39m\u001B[38;5;241m512\u001B[39m, lr\u001B[38;5;241m=\u001B[39m\u001B[38;5;241m0.2\u001B[39m)\n\u001B[0;32m---> 82\u001B[0m \u001B[43mmain\u001B[49m\u001B[43m(\u001B[49m\u001B[43m)\u001B[49m\n",
      "Input \u001B[0;32mIn [3]\u001B[0m, in \u001B[0;36mmain\u001B[0;34m()\u001B[0m\n\u001B[1;32m     74\u001B[0m timer2 \u001B[38;5;241m=\u001B[39m lmy\u001B[38;5;241m.\u001B[39mTimer(\u001B[38;5;124m\"\u001B[39m\u001B[38;5;124m1\u001B[39m\u001B[38;5;124m\"\u001B[39m)\n\u001B[1;32m     76\u001B[0m \u001B[38;5;28;01mwith\u001B[39;00m timer1:\n\u001B[0;32m---> 77\u001B[0m     \u001B[43mtrain\u001B[49m\u001B[43m(\u001B[49m\u001B[43mnet\u001B[49m\u001B[43m,\u001B[49m\u001B[43m \u001B[49m\u001B[43mnum_gpus\u001B[49m\u001B[38;5;241;43m=\u001B[39;49m\u001B[38;5;241;43m1\u001B[39;49m\u001B[43m,\u001B[49m\u001B[43m \u001B[49m\u001B[43mbatch_size\u001B[49m\u001B[38;5;241;43m=\u001B[39;49m\u001B[38;5;241;43m256\u001B[39;49m\u001B[43m,\u001B[49m\u001B[43m \u001B[49m\u001B[43mlr\u001B[49m\u001B[38;5;241;43m=\u001B[39;49m\u001B[38;5;241;43m0.1\u001B[39;49m\u001B[43m)\u001B[49m\n\u001B[1;32m     78\u001B[0m \u001B[38;5;28;01mwith\u001B[39;00m timer2:\n\u001B[1;32m     79\u001B[0m     train(net, num_gpus\u001B[38;5;241m=\u001B[39m\u001B[38;5;241m2\u001B[39m, batch_size\u001B[38;5;241m=\u001B[39m\u001B[38;5;241m512\u001B[39m, lr\u001B[38;5;241m=\u001B[39m\u001B[38;5;241m0.2\u001B[39m)\n",
      "Input \u001B[0;32mIn [3]\u001B[0m, in \u001B[0;36mtrain\u001B[0;34m(net, num_gpus, batch_size, lr)\u001B[0m\n\u001B[1;32m     42\u001B[0m devices, _ \u001B[38;5;241m=\u001B[39m lmy\u001B[38;5;241m.\u001B[39mgetGPU(\u001B[38;5;241m1\u001B[39m)\n\u001B[1;32m     43\u001B[0m devices \u001B[38;5;241m=\u001B[39m devices[:num_gpus]\n\u001B[0;32m---> 44\u001B[0m \u001B[38;5;28;01massert\u001B[39;00m devices \u001B[38;5;129;01mis\u001B[39;00m \u001B[38;5;28;01mNone\u001B[39;00m,\u001B[38;5;124m\"\u001B[39m\u001B[38;5;124mNone of GPU\u001B[39m\u001B[38;5;124m\"\u001B[39m\n\u001B[1;32m     45\u001B[0m \u001B[38;5;28;01mdef\u001B[39;00m \u001B[38;5;21minit_weights\u001B[39m(m):\n\u001B[1;32m     46\u001B[0m     \u001B[38;5;28;01mif\u001B[39;00m \u001B[38;5;28mtype\u001B[39m(m) \u001B[38;5;129;01min\u001B[39;00m [nn\u001B[38;5;241m.\u001B[39mLinear, nn\u001B[38;5;241m.\u001B[39mConv2d]:\n",
      "\u001B[0;31mAssertionError\u001B[0m: None of GPU"
     ]
    }
   ],
   "source": [
    "import torch\n",
    "from torch import nn\n",
    "import sys\n",
    "\n",
    "sys.path.append(\"../\")\n",
    "import lmy\n",
    "import d2l\n",
    "\n",
    "\n",
    "def resnet18(num_classes, in_channels=1):\n",
    "    \"\"\"稍加修改的ResNet-18模型\"\"\"\n",
    "\n",
    "    def resnet_block(in_channels, out_channels, num_residuals,\n",
    "                     first_block=False):\n",
    "        blk = []\n",
    "        for i in range(num_residuals):\n",
    "            if i == 0 and not first_block:\n",
    "                blk.append(d2l.Residual(in_channels, out_channels,\n",
    "                                        use_1x1conv=True, strides=2))\n",
    "            else:\n",
    "                blk.append(d2l.Residual(out_channels, out_channels))\n",
    "        return nn.Sequential(*blk)\n",
    "\n",
    "    # 该模型使用了更小的卷积核、步长和填充，而且删除了最大汇聚层\n",
    "    net = nn.Sequential(\n",
    "        nn.Conv2d(in_channels, 64, kernel_size=3, stride=1, padding=1),\n",
    "        nn.BatchNorm2d(64),\n",
    "        nn.ReLU())\n",
    "    net.add_module(\"resnet_block1\", resnet_block(\n",
    "        64, 64, 2, first_block=True))\n",
    "    net.add_module(\"resnet_block2\", resnet_block(64, 128, 2))\n",
    "    net.add_module(\"resnet_block3\", resnet_block(128, 256, 2))\n",
    "    net.add_module(\"resnet_block4\", resnet_block(256, 512, 2))\n",
    "    net.add_module(\"global_avg_pool\", nn.AdaptiveAvgPool2d((1, 1)))\n",
    "    net.add_module(\"fc\", nn.Sequential(nn.Flatten(),\n",
    "                                       nn.Linear(512, num_classes)))\n",
    "    return net\n",
    "\n",
    "\n",
    "def train(net, num_gpus, batch_size, lr):\n",
    "    train_iter, test_iter = lmy.loadFashionMnistData(batch_size, \"../lmy/data\")\n",
    "    devices, _ = lmy.getGPU(1)\n",
    "    devices = devices[:num_gpus]\n",
    "    assert devices is None,\"None of GPU\"\n",
    "    def init_weights(m):\n",
    "        if type(m) in [nn.Linear, nn.Conv2d]:\n",
    "            nn.init.normal_(m.weight, std=0.01)\n",
    "\n",
    "    net.apply(init_weights)\n",
    "    # 在多个GPU上设置模型\n",
    "    net = nn.DataParallel(net, device_ids=devices)\n",
    "    trainer = torch.optim.SGD(net.parameters(), lr)\n",
    "    loss = nn.CrossEntropyLoss()\n",
    "    timer, num_epochs = lmy.Timer(), 10\n",
    "    animator = d2l.Animator('epoch', 'test acc', xlim=[1, num_epochs])\n",
    "    for epoch in range(num_epochs):\n",
    "        net.train()\n",
    "        timer.start()\n",
    "        for X, y in train_iter:\n",
    "            trainer.zero_grad()\n",
    "            X, y = X.to(devices[0]), y.to(devices[0])\n",
    "            l = loss(net(X), y)\n",
    "            l.backward()\n",
    "            trainer.step()\n",
    "        timer.stop()\n",
    "        animator.add(epoch + 1, (d2l.evaluate_accuracy_gpu(net, test_iter),))\n",
    "    print(f'测试精度：{animator.Y[0][-1]:.2f}，{timer.avg():.1f}秒/轮，'\n",
    "          f'在{str(devices)}')\n",
    "\n",
    "\n",
    "def main():\n",
    "    net = resnet18(10)\n",
    "    timer1 = lmy.Timer(\"1\")\n",
    "    timer2 = lmy.Timer(\"1\")\n",
    "\n",
    "    with timer1:\n",
    "        train(net, num_gpus=1, batch_size=256, lr=0.1)\n",
    "    with timer2:\n",
    "        train(net, num_gpus=2, batch_size=512, lr=0.2)\n",
    "\n",
    "\n",
    "main()"
   ]
  },
  {
   "cell_type": "code",
   "execution_count": null,
   "outputs": [],
   "source": [],
   "metadata": {
    "collapsed": false,
    "pycharm": {
     "name": "#%%\n"
    }
   }
  }
 ],
 "metadata": {
  "kernelspec": {
   "display_name": "Python 3 (ipykernel)",
   "language": "python",
   "name": "python3"
  },
  "language_info": {
   "codemirror_mode": {
    "name": "ipython",
    "version": 3
   },
   "file_extension": ".py",
   "mimetype": "text/x-python",
   "name": "python",
   "nbconvert_exporter": "python",
   "pygments_lexer": "ipython3",
   "version": "3.8.13"
  }
 },
 "nbformat": 4,
 "nbformat_minor": 4
}