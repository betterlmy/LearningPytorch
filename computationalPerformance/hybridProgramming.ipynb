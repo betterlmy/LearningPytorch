{
 "cells": [
  {
   "cell_type": "markdown",
   "metadata": {
    "collapsed": true,
    "pycharm": {
     "name": "#%% md\n"
    }
   },
   "source": [
    "# replace Sequential with HybridSequential"
   ]
  },
  {
   "cell_type": "markdown",
   "source": [
    "### basic Sequential network"
   ],
   "metadata": {
    "collapsed": false,
    "pycharm": {
     "name": "#%% md\n"
    }
   }
  },
  {
   "cell_type": "code",
   "execution_count": 4,
   "outputs": [
    {
     "data": {
      "text/plain": "tensor([[-0.0635, -0.1228]], grad_fn=<AddmmBackward0>)"
     },
     "execution_count": 4,
     "metadata": {},
     "output_type": "execute_result"
    }
   ],
   "source": [
    "import torch\n",
    "import torch.nn as nn\n",
    "\n",
    "def get_net():\n",
    "    return nn.Sequential(\n",
    "        nn.Linear(512, 256),nn.ReLU(),\n",
    "        nn.Linear(256, 128),nn.ReLU(),\n",
    "        nn.Linear(128, 2)\n",
    "    )\n",
    "\n",
    "X = torch.randn((1,512))\n",
    "net = get_net()\n",
    "net(X)"
   ],
   "metadata": {
    "collapsed": false,
    "pycharm": {
     "name": "#%%\n"
    }
   }
  },
  {
   "cell_type": "code",
   "execution_count": 5,
   "outputs": [
    {
     "data": {
      "text/plain": "tensor([[-0.0635, -0.1228]], grad_fn=<AddmmBackward0>)"
     },
     "execution_count": 5,
     "metadata": {},
     "output_type": "execute_result"
    }
   ],
   "source": [
    "net = torch.jit.script(net)\n",
    "net(X)"
   ],
   "metadata": {
    "collapsed": false,
    "pycharm": {
     "name": "#%%\n"
    }
   }
  },
  {
   "cell_type": "markdown",
   "source": [
    "### Acceleration by Hybridzation"
   ],
   "metadata": {
    "collapsed": false,
    "pycharm": {
     "name": "#%% md\n"
    }
   }
  },
  {
   "cell_type": "code",
   "execution_count": 10,
   "outputs": [
    {
     "name": "stdout",
     "output_type": "stream",
     "text": [
      "nativeSequentialTimer timer has run for 2.6055s\n",
      "hybridSequentialTimer timer has run for 2.1888s\n",
      "-rw-r--r--  1 zane  staff   650K Apr 11 13:07 my_mlp2\r\n"
     ]
    }
   ],
   "source": [
    "import lmy\n",
    "timer1 = lmy.Timer(\"nativeSequentialTimer\")\n",
    "net = get_net()\n",
    "with timer1:\n",
    "    for i in range(100000):\n",
    "        net(X)\n",
    "# net.save('my_mlp1')\n",
    "\n",
    "\n",
    "timer2 = lmy.Timer(\"hybridSequentialTimer\")\n",
    "net = torch.jit.script(net)\n",
    "with timer2:\n",
    "    for i in range(100000):\n",
    "        net(X)\n",
    "# at the same time, we can save the model by using serialization\n",
    "net.save('my_mlp2')\n",
    "!ls -lh my_mlp*"
   ],
   "metadata": {
    "collapsed": false,
    "pycharm": {
     "name": "#%%\n"
    }
   }
  },
  {
   "cell_type": "markdown",
   "source": [
    "obviously, the hybridization is faster than the native one."
   ],
   "metadata": {
    "collapsed": false,
    "pycharm": {
     "name": "#%% md\n"
    }
   }
  }
 ],
 "metadata": {
  "kernelspec": {
   "display_name": "Python 3",
   "language": "python",
   "name": "python3"
  },
  "language_info": {
   "codemirror_mode": {
    "name": "ipython",
    "version": 2
   },
   "file_extension": ".py",
   "mimetype": "text/x-python",
   "name": "python",
   "nbconvert_exporter": "python",
   "pygments_lexer": "ipython2",
   "version": "2.7.6"
  }
 },
 "nbformat": 4,
 "nbformat_minor": 0
}