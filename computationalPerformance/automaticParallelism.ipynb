{
 "cells": [
  {
   "cell_type": "code",
   "execution_count": 1,
   "metadata": {
    "collapsed": false,
    "jupyter": {
     "outputs_hidden": false
    },
    "pycharm": {
     "name": "#%%\n"
    }
   },
   "outputs": [],
   "source": [
    "import torch\n",
    "import sys\n",
    "\n",
    "sys.path.append('../')\n",
    "import lmy"
   ]
  },
  {
   "cell_type": "code",
   "execution_count": 3,
   "metadata": {
    "tags": []
   },
   "outputs": [
    {
     "name": "stdout",
     "output_type": "stream",
     "text": [
      "[device(type='cuda', index=0), device(type='cuda', index=1)]\n"
     ]
    }
   ],
   "source": [
    "devices, _ = lmy.getGPU(1, contain_cpu=False)\n",
    "\n",
    "\n",
    "def run(x):\n",
    "    \"\"\"简单计算\"\"\"\n",
    "    return [x.mm(x) for _ in range(10)]\n",
    "\n",
    "\n",
    "print(devices)\n",
    "x_gpu1 = torch.rand(size=(4000, 4000), device=devices[0])\n",
    "x_gpu2 = torch.rand(size=(4001, 4001), device=devices[1])\n",
    "\n",
    "# 进行数据预热\n",
    "run(x_gpu1)\n",
    "run(x_gpu2)\n",
    "torch.cuda.synchronize(devices[0])\n",
    "torch.cuda.synchronize(devices[1])"
   ]
  },
  {
   "cell_type": "code",
   "execution_count": 4,
   "metadata": {
    "collapsed": false,
    "jupyter": {
     "outputs_hidden": false
    },
    "pycharm": {
     "name": "#%%\n"
    }
   },
   "outputs": [
    {
     "name": "stdout",
     "output_type": "stream",
     "text": [
      "GPU1 has run for 0.1741s\n",
      "GPU2 has run for 0.1914s\n"
     ]
    }
   ],
   "source": [
    "#基准测试\n",
    "with lmy.Timer(\"GPU1\"):\n",
    "    run(x_gpu1)\n",
    "    torch.cuda.synchronize(devices[0])\n",
    "\n",
    "with lmy.Timer(\"GPU2\"):\n",
    "    run(x_gpu2)\n",
    "    torch.cuda.synchronize(devices[1])"
   ]
  },
  {
   "cell_type": "code",
   "execution_count": 5,
   "metadata": {
    "collapsed": false,
    "jupyter": {
     "outputs_hidden": false
    },
    "pycharm": {
     "name": "#%%\n"
    }
   },
   "outputs": [
    {
     "name": "stdout",
     "output_type": "stream",
     "text": [
      "GPU1 & GPU2 has run for 0.2008s\n"
     ]
    }
   ],
   "source": [
    "# 我们知道PyTorch支持前后端分离,所以我们可以在不同的GPU上进行计算,而且并不需要对代码进行修改\n",
    "with lmy.Timer(\"GPU1 & GPU2\"):\n",
    "    run(x_gpu1)\n",
    "    run(x_gpu2)\n",
    "    torch.cuda.synchronize()"
   ]
  },
  {
   "cell_type": "code",
   "execution_count": 6,
   "metadata": {},
   "outputs": [
    {
     "name": "stdout",
     "output_type": "stream",
     "text": [
      "lmy\n"
     ]
    }
   ],
   "source": [
    "!whoami"
   ]
  },
  {
   "cell_type": "code",
   "execution_count": 8,
   "metadata": {},
   "outputs": [],
   "source": [
    "def copy_to_cpu(x,non_blocking=False):\n",
    "    return [y.to('cpu',non_blocking=non_blocking) for y in x]\n"
   ]
  },
  {
   "cell_type": "code",
   "execution_count": 14,
   "metadata": {},
   "outputs": [
    {
     "name": "stdout",
     "output_type": "stream",
     "text": [
      "GPU运行 has run for 0.1912s\n",
      "复制到CPU has run for 0.1500s\n"
     ]
    }
   ],
   "source": [
    "with lmy.Timer('GPU运行'):\n",
    "    y = run(x_gpu1)\n",
    "    torch.cuda.synchronize()\n",
    "\n",
    "with lmy.Timer('复制到CPU'):\n",
    "    y_cpu = copy_to_cpu(y)\n",
    "    torch.cuda.synchronize()"
   ]
  },
  {
   "cell_type": "code",
   "execution_count": 17,
   "metadata": {},
   "outputs": [
    {
     "name": "stdout",
     "output_type": "stream",
     "text": [
      "GPU运行和拷贝同时进行 has run for 0.2067s\n"
     ]
    }
   ],
   "source": [
    "with lmy.Timer('GPU运行和拷贝同时进行'):\n",
    "    y = run(x_gpu1)\n",
    "    y_cpu = copy_to_cpu(y,True)\n",
    "    torch.cuda.synchronize()"
   ]
  },
  {
   "cell_type": "code",
   "execution_count": null,
   "metadata": {},
   "outputs": [],
   "source": []
  }
 ],
 "metadata": {
  "kernelspec": {
   "display_name": "Python 3 (ipykernel)",
   "language": "python",
   "name": "python3"
  },
  "language_info": {
   "codemirror_mode": {
    "name": "ipython",
    "version": 3
   },
   "file_extension": ".py",
   "mimetype": "text/x-python",
   "name": "python",
   "nbconvert_exporter": "python",
   "pygments_lexer": "ipython3",
   "version": "3.8.13"
  }
 },
 "nbformat": 4,
 "nbformat_minor": 4
}